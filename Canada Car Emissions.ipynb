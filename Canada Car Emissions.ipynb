{
 "cells": [
  {
   "cell_type": "markdown",
   "id": "ce64dda6",
   "metadata": {},
   "source": [
    "# CAR EMISSION PREDICTION"
   ]
  },
  {
   "cell_type": "code",
   "execution_count": 1,
   "id": "27058d46",
   "metadata": {},
   "outputs": [],
   "source": [
    "import sys\n",
    "assert sys.version_info >= (3, 5)\n",
    "import numpy as np\n",
    "import os\n",
    "import tarfile\n",
    "import urllib\n",
    "import pandas as pd\n",
    "import urllib.request\n",
    "%matplotlib inline\n",
    "import matplotlib as mpl\n",
    "import matplotlib.pyplot as plt\n",
    "import seaborn as sns"
   ]
  },
  {
   "cell_type": "code",
   "execution_count": 2,
   "id": "5c67fd03",
   "metadata": {},
   "outputs": [],
   "source": [
    "df = pd.read_excel(\"CanadaCarEmissions.xlsx\")"
   ]
  },
  {
   "cell_type": "code",
   "execution_count": 3,
   "id": "523d435a",
   "metadata": {},
   "outputs": [],
   "source": [
    "df.head()#shows 6 extra columns called unnamed 15 16 17 18 19 20, and first row has all NaN value\n",
    "\n",
    "#deleting only first row needs to be run only once\n",
    "df.drop(0, inplace=True)\n",
    "\n",
    "#deleting columns cotaining 'unnamed' (not case sensitive ) in their heading, needs to be run only once, hence commented\n",
    "df.drop(df.columns[df.columns.str.contains('unnamed',case = False)], inplace=True, axis=1)\n",
    "\n",
    "## ANSWER 1 ##\n",
    "# There are a total of 15 attributes in this dataset described below:\n",
    "# Model year                   : the year in which the car model was manufactured\n",
    "# Make                         : the car company that manifactured the vehicle\n",
    "# Model                        : the model name of the car\n",
    "# Vehicle class                : the category (size/shape) of the car\n",
    "# Engine Size                  : the engine capacity in litres\n",
    "# Cylinders                    : the no. of cylinders the vehicle has\n",
    "# Transmission                 : the transmission type of the vehicle\n",
    "# Fuel Type                    : the type of fuel consumed by the vehicle \n",
    "# Fuel Consumption City        : the fuel consumed per 100 km, in litres on city roads (L/100)\n",
    "# Fuel Consumption Hwy         : the fuel consumed per 100 km, in litres on highway roads (L/100)\n",
    "# COMB                         : the fuel consumed per 100 km, in litres on highway and city roads combined (L/100)\n",
    "# COMB                         : the combined mileage on city and highway roads in miles per gallon\n",
    "# CO2 Emission                 : carbon dioxide emissions in grams per km\n",
    "# CO2 Rating                   : the rating class of CO2 emissions, rated on a scale from 1 (worst) to 10 (best)\n",
    "# SMOG Rating                  : emissions of smog-forming pollutants, rated on a scale from 1 (worst) to 10 (best)"
   ]
  },
  {
   "cell_type": "code",
   "execution_count": 4,
   "id": "168cd090",
   "metadata": {},
   "outputs": [
    {
     "data": {
      "text/html": [
       "<div>\n",
       "<style scoped>\n",
       "    .dataframe tbody tr th:only-of-type {\n",
       "        vertical-align: middle;\n",
       "    }\n",
       "\n",
       "    .dataframe tbody tr th {\n",
       "        vertical-align: top;\n",
       "    }\n",
       "\n",
       "    .dataframe thead th {\n",
       "        text-align: right;\n",
       "    }\n",
       "</style>\n",
       "<table border=\"1\" class=\"dataframe\">\n",
       "  <thead>\n",
       "    <tr style=\"text-align: right;\">\n",
       "      <th></th>\n",
       "      <th>MODEL YEAR</th>\n",
       "      <th>MAKE</th>\n",
       "      <th>MODEL(# = high output engine)</th>\n",
       "      <th>VEHICLE CLASS</th>\n",
       "      <th>ENGINE SIZE (L)</th>\n",
       "      <th>CYLINDERS</th>\n",
       "      <th>TRANSMISSION</th>\n",
       "      <th>FUEL TYPE</th>\n",
       "      <th>FUEL CONSUMPTION CITY (L/100)</th>\n",
       "      <th>FUEL CONSUMPTION HWY (L/100)</th>\n",
       "      <th>COMB (L/100 km)</th>\n",
       "      <th>COMB (mpg)</th>\n",
       "      <th>CO2 EMISSIONS (g/km)</th>\n",
       "      <th>CO2 Rating</th>\n",
       "      <th>Smog Rating</th>\n",
       "    </tr>\n",
       "  </thead>\n",
       "  <tbody>\n",
       "    <tr>\n",
       "      <th>1</th>\n",
       "      <td>1995.0</td>\n",
       "      <td>ACURA</td>\n",
       "      <td>INTEGRA</td>\n",
       "      <td>SUBCOMPACT</td>\n",
       "      <td>1.8</td>\n",
       "      <td>4.0</td>\n",
       "      <td>A4</td>\n",
       "      <td>X</td>\n",
       "      <td>11.6</td>\n",
       "      <td>8.3</td>\n",
       "      <td>10.1</td>\n",
       "      <td>28.0</td>\n",
       "      <td>232.0</td>\n",
       "      <td>NaN</td>\n",
       "      <td>NaN</td>\n",
       "    </tr>\n",
       "    <tr>\n",
       "      <th>2</th>\n",
       "      <td>1995.0</td>\n",
       "      <td>ACURA</td>\n",
       "      <td>INTEGRA</td>\n",
       "      <td>SUBCOMPACT</td>\n",
       "      <td>1.8</td>\n",
       "      <td>4.0</td>\n",
       "      <td>M5</td>\n",
       "      <td>X</td>\n",
       "      <td>11.0</td>\n",
       "      <td>8.3</td>\n",
       "      <td>9.8</td>\n",
       "      <td>29.0</td>\n",
       "      <td>225.0</td>\n",
       "      <td>NaN</td>\n",
       "      <td>NaN</td>\n",
       "    </tr>\n",
       "    <tr>\n",
       "      <th>3</th>\n",
       "      <td>1995.0</td>\n",
       "      <td>ACURA</td>\n",
       "      <td>INTEGRA GS-R</td>\n",
       "      <td>SUBCOMPACT</td>\n",
       "      <td>1.8</td>\n",
       "      <td>4.0</td>\n",
       "      <td>M5</td>\n",
       "      <td>Z</td>\n",
       "      <td>10.8</td>\n",
       "      <td>8.3</td>\n",
       "      <td>9.7</td>\n",
       "      <td>29.0</td>\n",
       "      <td>223.0</td>\n",
       "      <td>NaN</td>\n",
       "      <td>NaN</td>\n",
       "    </tr>\n",
       "    <tr>\n",
       "      <th>4</th>\n",
       "      <td>1995.0</td>\n",
       "      <td>ACURA</td>\n",
       "      <td>LEGEND</td>\n",
       "      <td>COMPACT</td>\n",
       "      <td>3.2</td>\n",
       "      <td>6.0</td>\n",
       "      <td>A4</td>\n",
       "      <td>Z</td>\n",
       "      <td>14.2</td>\n",
       "      <td>10.5</td>\n",
       "      <td>12.5</td>\n",
       "      <td>23.0</td>\n",
       "      <td>288.0</td>\n",
       "      <td>NaN</td>\n",
       "      <td>NaN</td>\n",
       "    </tr>\n",
       "    <tr>\n",
       "      <th>5</th>\n",
       "      <td>1995.0</td>\n",
       "      <td>ACURA</td>\n",
       "      <td>LEGEND COUPE</td>\n",
       "      <td>COMPACT</td>\n",
       "      <td>3.2</td>\n",
       "      <td>6.0</td>\n",
       "      <td>A4</td>\n",
       "      <td>Z</td>\n",
       "      <td>14.6</td>\n",
       "      <td>11.0</td>\n",
       "      <td>13.0</td>\n",
       "      <td>22.0</td>\n",
       "      <td>299.0</td>\n",
       "      <td>NaN</td>\n",
       "      <td>NaN</td>\n",
       "    </tr>\n",
       "  </tbody>\n",
       "</table>\n",
       "</div>"
      ],
      "text/plain": [
       "   MODEL YEAR   MAKE MODEL(# = high output engine) VEHICLE CLASS  \\\n",
       "1      1995.0  ACURA                       INTEGRA    SUBCOMPACT   \n",
       "2      1995.0  ACURA                       INTEGRA    SUBCOMPACT   \n",
       "3      1995.0  ACURA                  INTEGRA GS-R    SUBCOMPACT   \n",
       "4      1995.0  ACURA                        LEGEND       COMPACT   \n",
       "5      1995.0  ACURA                  LEGEND COUPE       COMPACT   \n",
       "\n",
       "   ENGINE SIZE (L)  CYLINDERS TRANSMISSION FUEL TYPE  \\\n",
       "1              1.8        4.0           A4         X   \n",
       "2              1.8        4.0           M5         X   \n",
       "3              1.8        4.0           M5         Z   \n",
       "4              3.2        6.0           A4         Z   \n",
       "5              3.2        6.0           A4         Z   \n",
       "\n",
       "   FUEL CONSUMPTION CITY (L/100)  FUEL CONSUMPTION HWY (L/100)  \\\n",
       "1                           11.6                           8.3   \n",
       "2                           11.0                           8.3   \n",
       "3                           10.8                           8.3   \n",
       "4                           14.2                          10.5   \n",
       "5                           14.6                          11.0   \n",
       "\n",
       "   COMB (L/100 km)  COMB (mpg)  CO2 EMISSIONS (g/km)  CO2 Rating  Smog Rating  \n",
       "1             10.1        28.0                 232.0         NaN          NaN  \n",
       "2              9.8        29.0                 225.0         NaN          NaN  \n",
       "3              9.7        29.0                 223.0         NaN          NaN  \n",
       "4             12.5        23.0                 288.0         NaN          NaN  \n",
       "5             13.0        22.0                 299.0         NaN          NaN  "
      ]
     },
     "execution_count": 4,
     "metadata": {},
     "output_type": "execute_result"
    }
   ],
   "source": [
    "df.head()"
   ]
  },
  {
   "cell_type": "code",
   "execution_count": 5,
   "id": "f4098ce5",
   "metadata": {},
   "outputs": [
    {
     "name": "stdout",
     "output_type": "stream",
     "text": [
      "<class 'pandas.core.frame.DataFrame'>\n",
      "RangeIndex: 26075 entries, 1 to 26075\n",
      "Data columns (total 15 columns):\n",
      " #   Column                         Non-Null Count  Dtype  \n",
      "---  ------                         --------------  -----  \n",
      " 0   MODEL YEAR                     26075 non-null  float64\n",
      " 1   MAKE                           26075 non-null  object \n",
      " 2   MODEL(# = high output engine)  26075 non-null  object \n",
      " 3   VEHICLE CLASS                  26075 non-null  object \n",
      " 4   ENGINE SIZE (L)                26075 non-null  float64\n",
      " 5   CYLINDERS                      26075 non-null  float64\n",
      " 6   TRANSMISSION                   26075 non-null  object \n",
      " 7   FUEL TYPE                      26075 non-null  object \n",
      " 8   FUEL CONSUMPTION CITY (L/100)  26075 non-null  float64\n",
      " 9   FUEL CONSUMPTION HWY (L/100)   26075 non-null  float64\n",
      " 10  COMB (L/100 km)                26075 non-null  float64\n",
      " 11  COMB (mpg)                     26075 non-null  float64\n",
      " 12  CO2 EMISSIONS (g/km)           26075 non-null  float64\n",
      " 13  CO2 Rating                     7171 non-null   float64\n",
      " 14  Smog Rating                    6061 non-null   float64\n",
      "dtypes: float64(10), object(5)\n",
      "memory usage: 3.0+ MB\n"
     ]
    }
   ],
   "source": [
    "df.info()\n",
    "\n",
    "## ANSWER 2 ##\n",
    "# There are missing values present in attributes, 'CO2 Rating' and 'Smog Rating.'\n",
    "# CO2 rating has 18904 missing values.\n",
    "# Smog rating has 20014 missing values."
   ]
  },
  {
   "cell_type": "code",
   "execution_count": 6,
   "id": "79570cbe",
   "metadata": {
    "scrolled": true
   },
   "outputs": [
    {
     "data": {
      "text/plain": [
       "2015.0    1132\n",
       "2016.0    1110\n",
       "2009.0    1092\n",
       "2018.0    1083\n",
       "2012.0    1081\n",
       "2008.0    1079\n",
       "2011.0    1076\n",
       "2017.0    1058\n",
       "2013.0    1058\n",
       "2019.0    1056\n",
       "2007.0    1043\n",
       "2014.0    1040\n",
       "2010.0    1021\n",
       "2005.0    1019\n",
       "2020.0     968\n",
       "2006.0     968\n",
       "2022.0     955\n",
       "2021.0     941\n",
       "2004.0     898\n",
       "1995.0     841\n",
       "2003.0     820\n",
       "2002.0     740\n",
       "1996.0     698\n",
       "1999.0     688\n",
       "2001.0     679\n",
       "1997.0     658\n",
       "2000.0     639\n",
       "1998.0     634\n",
       "Name: MODEL YEAR, dtype: int64"
      ]
     },
     "execution_count": 6,
     "metadata": {},
     "output_type": "execute_result"
    }
   ],
   "source": [
    "df['MODEL YEAR'].value_counts()"
   ]
  },
  {
   "cell_type": "code",
   "execution_count": 7,
   "id": "ebb885f2",
   "metadata": {
    "scrolled": true
   },
   "outputs": [
    {
     "data": {
      "text/plain": [
       "CHEVROLET     2094\n",
       "FORD          1660\n",
       "BMW           1621\n",
       "GMC           1602\n",
       "DODGE         1097\n",
       "              ... \n",
       "ALFA ROMEO      10\n",
       "Bugatti          9\n",
       "SRT              4\n",
       "GENESIS          4\n",
       "BUGATTI          3\n",
       "Name: MAKE, Length: 90, dtype: int64"
      ]
     },
     "execution_count": 7,
     "metadata": {},
     "output_type": "execute_result"
    }
   ],
   "source": [
    "df['MAKE'].value_counts()"
   ]
  },
  {
   "cell_type": "code",
   "execution_count": 8,
   "id": "c792c5dc",
   "metadata": {
    "scrolled": true
   },
   "outputs": [
    {
     "data": {
      "text/plain": [
       "COMPACT                     3207\n",
       "SUV                         3036\n",
       "MID-SIZE                    2715\n",
       "PICKUP TRUCK - STANDARD     2278\n",
       "SUBCOMPACT                  2066\n",
       "FULL-SIZE                   1256\n",
       "TWO-SEATER                  1106\n",
       "SUV: Small                   929\n",
       "MINICOMPACT                  858\n",
       "SUV - SMALL                  827\n",
       "STATION WAGON - SMALL        810\n",
       "Mid-size                     660\n",
       "SUV: Standard                608\n",
       "MINIVAN                      556\n",
       "Pickup truck: Standard       515\n",
       "SUV - STANDARD               514\n",
       "Compact                      491\n",
       "PICKUP TRUCK - SMALL         470\n",
       "VAN - CARGO                  469\n",
       "STATION WAGON - MID-SIZE     466\n",
       "Subcompact                   451\n",
       "Full-size                    417\n",
       "VAN - PASSENGER              386\n",
       "Two-seater                   313\n",
       "Minicompact                  211\n",
       "Station wagon: Small         140\n",
       "Pickup truck: Small          108\n",
       "Special purpose vehicle       62\n",
       "SPECIAL PURPOSE VEHICLE       52\n",
       "Station wagon: Mid-size       44\n",
       "Minivan                       42\n",
       "Van: Passenger                12\n",
       "Name: VEHICLE CLASS, dtype: int64"
      ]
     },
     "execution_count": 8,
     "metadata": {},
     "output_type": "execute_result"
    }
   ],
   "source": [
    "df[\"VEHICLE CLASS\"].value_counts()\n",
    "## ANSWER 3 ##\n",
    "# In our chosen dataset, the attribute, 'VEHICLE CLASS' is categorical data.\n",
    "# The method value_counts() displays the unique instances and their occurrences in a specified column(attribute). "
   ]
  },
  {
   "cell_type": "code",
   "execution_count": 9,
   "id": "1593899d",
   "metadata": {
    "scrolled": true
   },
   "outputs": [
    {
     "data": {
      "text/plain": [
       "A4      5491\n",
       "M5      3219\n",
       "AS6     2836\n",
       "M6      2672\n",
       "A6      1965\n",
       "AS8     1733\n",
       "A5      1604\n",
       "AS5      870\n",
       "AV       816\n",
       "A8       794\n",
       "AM7      689\n",
       "AS7      614\n",
       "A9       529\n",
       "AS10     335\n",
       "A7       278\n",
       "AS4      258\n",
       "AM6      214\n",
       "A3       187\n",
       "AM8      164\n",
       "A10      162\n",
       "AV7      143\n",
       "AV6      137\n",
       "M7       130\n",
       "AS9      110\n",
       "AV8       78\n",
       "AV10      25\n",
       "AV1        8\n",
       "AM5        6\n",
       "AM9        5\n",
       "M4         3\n",
       "Name: TRANSMISSION, dtype: int64"
      ]
     },
     "execution_count": 9,
     "metadata": {},
     "output_type": "execute_result"
    }
   ],
   "source": [
    "df['TRANSMISSION'].value_counts()"
   ]
  },
  {
   "cell_type": "code",
   "execution_count": 10,
   "id": "d18ce129",
   "metadata": {},
   "outputs": [
    {
     "data": {
      "text/html": [
       "<div>\n",
       "<style scoped>\n",
       "    .dataframe tbody tr th:only-of-type {\n",
       "        vertical-align: middle;\n",
       "    }\n",
       "\n",
       "    .dataframe tbody tr th {\n",
       "        vertical-align: top;\n",
       "    }\n",
       "\n",
       "    .dataframe thead th {\n",
       "        text-align: right;\n",
       "    }\n",
       "</style>\n",
       "<table border=\"1\" class=\"dataframe\">\n",
       "  <thead>\n",
       "    <tr style=\"text-align: right;\">\n",
       "      <th></th>\n",
       "      <th>MODEL YEAR</th>\n",
       "      <th>ENGINE SIZE (L)</th>\n",
       "      <th>CYLINDERS</th>\n",
       "      <th>FUEL CONSUMPTION CITY (L/100)</th>\n",
       "      <th>FUEL CONSUMPTION HWY (L/100)</th>\n",
       "      <th>COMB (L/100 km)</th>\n",
       "      <th>COMB (mpg)</th>\n",
       "      <th>CO2 EMISSIONS (g/km)</th>\n",
       "      <th>CO2 Rating</th>\n",
       "      <th>Smog Rating</th>\n",
       "    </tr>\n",
       "  </thead>\n",
       "  <tbody>\n",
       "    <tr>\n",
       "      <th>count</th>\n",
       "      <td>26075.000000</td>\n",
       "      <td>26075.000000</td>\n",
       "      <td>26075.000000</td>\n",
       "      <td>26075.000000</td>\n",
       "      <td>26075.000000</td>\n",
       "      <td>26075.000000</td>\n",
       "      <td>26075.000000</td>\n",
       "      <td>26075.000000</td>\n",
       "      <td>7171.000000</td>\n",
       "      <td>6061.000000</td>\n",
       "    </tr>\n",
       "    <tr>\n",
       "      <th>mean</th>\n",
       "      <td>2009.576031</td>\n",
       "      <td>3.355448</td>\n",
       "      <td>5.844257</td>\n",
       "      <td>13.036272</td>\n",
       "      <td>9.162991</td>\n",
       "      <td>11.294082</td>\n",
       "      <td>26.784314</td>\n",
       "      <td>256.679003</td>\n",
       "      <td>4.659880</td>\n",
       "      <td>4.674311</td>\n",
       "    </tr>\n",
       "    <tr>\n",
       "      <th>std</th>\n",
       "      <td>7.725814</td>\n",
       "      <td>1.342021</td>\n",
       "      <td>1.796767</td>\n",
       "      <td>3.560212</td>\n",
       "      <td>2.398400</td>\n",
       "      <td>2.997495</td>\n",
       "      <td>7.306594</td>\n",
       "      <td>63.062087</td>\n",
       "      <td>1.638001</td>\n",
       "      <td>1.791209</td>\n",
       "    </tr>\n",
       "    <tr>\n",
       "      <th>min</th>\n",
       "      <td>1995.000000</td>\n",
       "      <td>0.800000</td>\n",
       "      <td>2.000000</td>\n",
       "      <td>3.500000</td>\n",
       "      <td>3.200000</td>\n",
       "      <td>3.600000</td>\n",
       "      <td>11.000000</td>\n",
       "      <td>83.000000</td>\n",
       "      <td>1.000000</td>\n",
       "      <td>1.000000</td>\n",
       "    </tr>\n",
       "    <tr>\n",
       "      <th>25%</th>\n",
       "      <td>2004.000000</td>\n",
       "      <td>2.300000</td>\n",
       "      <td>4.000000</td>\n",
       "      <td>10.600000</td>\n",
       "      <td>7.500000</td>\n",
       "      <td>9.200000</td>\n",
       "      <td>22.000000</td>\n",
       "      <td>212.500000</td>\n",
       "      <td>4.000000</td>\n",
       "      <td>3.000000</td>\n",
       "    </tr>\n",
       "    <tr>\n",
       "      <th>50%</th>\n",
       "      <td>2010.000000</td>\n",
       "      <td>3.000000</td>\n",
       "      <td>6.000000</td>\n",
       "      <td>12.600000</td>\n",
       "      <td>8.700000</td>\n",
       "      <td>10.800000</td>\n",
       "      <td>26.000000</td>\n",
       "      <td>248.000000</td>\n",
       "      <td>5.000000</td>\n",
       "      <td>5.000000</td>\n",
       "    </tr>\n",
       "    <tr>\n",
       "      <th>75%</th>\n",
       "      <td>2016.000000</td>\n",
       "      <td>4.200000</td>\n",
       "      <td>8.000000</td>\n",
       "      <td>15.100000</td>\n",
       "      <td>10.500000</td>\n",
       "      <td>13.000000</td>\n",
       "      <td>31.000000</td>\n",
       "      <td>297.000000</td>\n",
       "      <td>6.000000</td>\n",
       "      <td>6.000000</td>\n",
       "    </tr>\n",
       "    <tr>\n",
       "      <th>max</th>\n",
       "      <td>2022.000000</td>\n",
       "      <td>8.400000</td>\n",
       "      <td>16.000000</td>\n",
       "      <td>30.600000</td>\n",
       "      <td>20.900000</td>\n",
       "      <td>26.100000</td>\n",
       "      <td>78.000000</td>\n",
       "      <td>608.000000</td>\n",
       "      <td>10.000000</td>\n",
       "      <td>8.000000</td>\n",
       "    </tr>\n",
       "  </tbody>\n",
       "</table>\n",
       "</div>"
      ],
      "text/plain": [
       "         MODEL YEAR  ENGINE SIZE (L)     CYLINDERS  \\\n",
       "count  26075.000000     26075.000000  26075.000000   \n",
       "mean    2009.576031         3.355448      5.844257   \n",
       "std        7.725814         1.342021      1.796767   \n",
       "min     1995.000000         0.800000      2.000000   \n",
       "25%     2004.000000         2.300000      4.000000   \n",
       "50%     2010.000000         3.000000      6.000000   \n",
       "75%     2016.000000         4.200000      8.000000   \n",
       "max     2022.000000         8.400000     16.000000   \n",
       "\n",
       "       FUEL CONSUMPTION CITY (L/100)  FUEL CONSUMPTION HWY (L/100)  \\\n",
       "count                   26075.000000                  26075.000000   \n",
       "mean                       13.036272                      9.162991   \n",
       "std                         3.560212                      2.398400   \n",
       "min                         3.500000                      3.200000   \n",
       "25%                        10.600000                      7.500000   \n",
       "50%                        12.600000                      8.700000   \n",
       "75%                        15.100000                     10.500000   \n",
       "max                        30.600000                     20.900000   \n",
       "\n",
       "       COMB (L/100 km)    COMB (mpg)  CO2 EMISSIONS (g/km)   CO2 Rating  \\\n",
       "count     26075.000000  26075.000000          26075.000000  7171.000000   \n",
       "mean         11.294082     26.784314            256.679003     4.659880   \n",
       "std           2.997495      7.306594             63.062087     1.638001   \n",
       "min           3.600000     11.000000             83.000000     1.000000   \n",
       "25%           9.200000     22.000000            212.500000     4.000000   \n",
       "50%          10.800000     26.000000            248.000000     5.000000   \n",
       "75%          13.000000     31.000000            297.000000     6.000000   \n",
       "max          26.100000     78.000000            608.000000    10.000000   \n",
       "\n",
       "       Smog Rating  \n",
       "count  6061.000000  \n",
       "mean      4.674311  \n",
       "std       1.791209  \n",
       "min       1.000000  \n",
       "25%       3.000000  \n",
       "50%       5.000000  \n",
       "75%       6.000000  \n",
       "max       8.000000  "
      ]
     },
     "execution_count": 10,
     "metadata": {},
     "output_type": "execute_result"
    }
   ],
   "source": [
    "df.describe()"
   ]
  },
  {
   "cell_type": "code",
   "execution_count": 11,
   "id": "58d690e4",
   "metadata": {},
   "outputs": [
    {
     "data": {
      "text/html": [
       "<div>\n",
       "<style scoped>\n",
       "    .dataframe tbody tr th:only-of-type {\n",
       "        vertical-align: middle;\n",
       "    }\n",
       "\n",
       "    .dataframe tbody tr th {\n",
       "        vertical-align: top;\n",
       "    }\n",
       "\n",
       "    .dataframe thead th {\n",
       "        text-align: right;\n",
       "    }\n",
       "</style>\n",
       "<table border=\"1\" class=\"dataframe\">\n",
       "  <thead>\n",
       "    <tr style=\"text-align: right;\">\n",
       "      <th></th>\n",
       "      <th>MODEL YEAR</th>\n",
       "      <th>MAKE</th>\n",
       "      <th>MODEL(# = high output engine)</th>\n",
       "      <th>VEHICLE CLASS</th>\n",
       "      <th>ENGINE SIZE (L)</th>\n",
       "      <th>CYLINDERS</th>\n",
       "      <th>TRANSMISSION</th>\n",
       "      <th>FUEL TYPE</th>\n",
       "      <th>FUEL CONSUMPTION CITY (L/100)</th>\n",
       "      <th>FUEL CONSUMPTION HWY (L/100)</th>\n",
       "      <th>COMB (L/100 km)</th>\n",
       "      <th>COMB (mpg)</th>\n",
       "      <th>CO2 EMISSIONS (g/km)</th>\n",
       "      <th>CO2 Rating</th>\n",
       "      <th>Smog Rating</th>\n",
       "    </tr>\n",
       "  </thead>\n",
       "  <tbody>\n",
       "    <tr>\n",
       "      <th>1</th>\n",
       "      <td>1995.0</td>\n",
       "      <td>ACURA</td>\n",
       "      <td>INTEGRA</td>\n",
       "      <td>SUBCOMPACT</td>\n",
       "      <td>1.8</td>\n",
       "      <td>4.0</td>\n",
       "      <td>A4</td>\n",
       "      <td>X</td>\n",
       "      <td>11.6</td>\n",
       "      <td>8.3</td>\n",
       "      <td>10.1</td>\n",
       "      <td>28.0</td>\n",
       "      <td>232.0</td>\n",
       "      <td>NaN</td>\n",
       "      <td>NaN</td>\n",
       "    </tr>\n",
       "    <tr>\n",
       "      <th>2</th>\n",
       "      <td>1995.0</td>\n",
       "      <td>ACURA</td>\n",
       "      <td>INTEGRA</td>\n",
       "      <td>SUBCOMPACT</td>\n",
       "      <td>1.8</td>\n",
       "      <td>4.0</td>\n",
       "      <td>M5</td>\n",
       "      <td>X</td>\n",
       "      <td>11.0</td>\n",
       "      <td>8.3</td>\n",
       "      <td>9.8</td>\n",
       "      <td>29.0</td>\n",
       "      <td>225.0</td>\n",
       "      <td>NaN</td>\n",
       "      <td>NaN</td>\n",
       "    </tr>\n",
       "    <tr>\n",
       "      <th>3</th>\n",
       "      <td>1995.0</td>\n",
       "      <td>ACURA</td>\n",
       "      <td>INTEGRA GS-R</td>\n",
       "      <td>SUBCOMPACT</td>\n",
       "      <td>1.8</td>\n",
       "      <td>4.0</td>\n",
       "      <td>M5</td>\n",
       "      <td>Z</td>\n",
       "      <td>10.8</td>\n",
       "      <td>8.3</td>\n",
       "      <td>9.7</td>\n",
       "      <td>29.0</td>\n",
       "      <td>223.0</td>\n",
       "      <td>NaN</td>\n",
       "      <td>NaN</td>\n",
       "    </tr>\n",
       "    <tr>\n",
       "      <th>4</th>\n",
       "      <td>1995.0</td>\n",
       "      <td>ACURA</td>\n",
       "      <td>LEGEND</td>\n",
       "      <td>COMPACT</td>\n",
       "      <td>3.2</td>\n",
       "      <td>6.0</td>\n",
       "      <td>A4</td>\n",
       "      <td>Z</td>\n",
       "      <td>14.2</td>\n",
       "      <td>10.5</td>\n",
       "      <td>12.5</td>\n",
       "      <td>23.0</td>\n",
       "      <td>288.0</td>\n",
       "      <td>NaN</td>\n",
       "      <td>NaN</td>\n",
       "    </tr>\n",
       "    <tr>\n",
       "      <th>5</th>\n",
       "      <td>1995.0</td>\n",
       "      <td>ACURA</td>\n",
       "      <td>LEGEND COUPE</td>\n",
       "      <td>COMPACT</td>\n",
       "      <td>3.2</td>\n",
       "      <td>6.0</td>\n",
       "      <td>A4</td>\n",
       "      <td>Z</td>\n",
       "      <td>14.6</td>\n",
       "      <td>11.0</td>\n",
       "      <td>13.0</td>\n",
       "      <td>22.0</td>\n",
       "      <td>299.0</td>\n",
       "      <td>NaN</td>\n",
       "      <td>NaN</td>\n",
       "    </tr>\n",
       "  </tbody>\n",
       "</table>\n",
       "</div>"
      ],
      "text/plain": [
       "   MODEL YEAR   MAKE MODEL(# = high output engine) VEHICLE CLASS  \\\n",
       "1      1995.0  ACURA                       INTEGRA    SUBCOMPACT   \n",
       "2      1995.0  ACURA                       INTEGRA    SUBCOMPACT   \n",
       "3      1995.0  ACURA                  INTEGRA GS-R    SUBCOMPACT   \n",
       "4      1995.0  ACURA                        LEGEND       COMPACT   \n",
       "5      1995.0  ACURA                  LEGEND COUPE       COMPACT   \n",
       "\n",
       "   ENGINE SIZE (L)  CYLINDERS TRANSMISSION FUEL TYPE  \\\n",
       "1              1.8        4.0           A4         X   \n",
       "2              1.8        4.0           M5         X   \n",
       "3              1.8        4.0           M5         Z   \n",
       "4              3.2        6.0           A4         Z   \n",
       "5              3.2        6.0           A4         Z   \n",
       "\n",
       "   FUEL CONSUMPTION CITY (L/100)  FUEL CONSUMPTION HWY (L/100)  \\\n",
       "1                           11.6                           8.3   \n",
       "2                           11.0                           8.3   \n",
       "3                           10.8                           8.3   \n",
       "4                           14.2                          10.5   \n",
       "5                           14.6                          11.0   \n",
       "\n",
       "   COMB (L/100 km)  COMB (mpg)  CO2 EMISSIONS (g/km)  CO2 Rating  Smog Rating  \n",
       "1             10.1        28.0                 232.0         NaN          NaN  \n",
       "2              9.8        29.0                 225.0         NaN          NaN  \n",
       "3              9.7        29.0                 223.0         NaN          NaN  \n",
       "4             12.5        23.0                 288.0         NaN          NaN  \n",
       "5             13.0        22.0                 299.0         NaN          NaN  "
      ]
     },
     "execution_count": 11,
     "metadata": {},
     "output_type": "execute_result"
    }
   ],
   "source": [
    "df.head()"
   ]
  },
  {
   "cell_type": "markdown",
   "id": "12e01d89",
   "metadata": {},
   "source": [
    "### Missing Values"
   ]
  },
  {
   "cell_type": "code",
   "execution_count": 12,
   "id": "a1946db5",
   "metadata": {},
   "outputs": [
    {
     "data": {
      "text/html": [
       "<div>\n",
       "<style scoped>\n",
       "    .dataframe tbody tr th:only-of-type {\n",
       "        vertical-align: middle;\n",
       "    }\n",
       "\n",
       "    .dataframe tbody tr th {\n",
       "        vertical-align: top;\n",
       "    }\n",
       "\n",
       "    .dataframe thead th {\n",
       "        text-align: right;\n",
       "    }\n",
       "</style>\n",
       "<table border=\"1\" class=\"dataframe\">\n",
       "  <thead>\n",
       "    <tr style=\"text-align: right;\">\n",
       "      <th></th>\n",
       "      <th>MODEL YEAR</th>\n",
       "      <th>MAKE</th>\n",
       "      <th>MODEL(# = high output engine)</th>\n",
       "      <th>VEHICLE CLASS</th>\n",
       "      <th>ENGINE SIZE (L)</th>\n",
       "      <th>CYLINDERS</th>\n",
       "      <th>TRANSMISSION</th>\n",
       "      <th>FUEL TYPE</th>\n",
       "      <th>FUEL CONSUMPTION CITY (L/100)</th>\n",
       "      <th>FUEL CONSUMPTION HWY (L/100)</th>\n",
       "      <th>COMB (L/100 km)</th>\n",
       "      <th>COMB (mpg)</th>\n",
       "      <th>CO2 EMISSIONS (g/km)</th>\n",
       "      <th>CO2 Rating</th>\n",
       "      <th>Smog Rating</th>\n",
       "    </tr>\n",
       "  </thead>\n",
       "  <tbody>\n",
       "    <tr>\n",
       "      <th>1</th>\n",
       "      <td>1995.0</td>\n",
       "      <td>ACURA</td>\n",
       "      <td>INTEGRA</td>\n",
       "      <td>SUBCOMPACT</td>\n",
       "      <td>1.8</td>\n",
       "      <td>4.0</td>\n",
       "      <td>A4</td>\n",
       "      <td>X</td>\n",
       "      <td>11.6</td>\n",
       "      <td>8.3</td>\n",
       "      <td>10.1</td>\n",
       "      <td>28.0</td>\n",
       "      <td>232.0</td>\n",
       "      <td>4.65988</td>\n",
       "      <td>4.674311</td>\n",
       "    </tr>\n",
       "    <tr>\n",
       "      <th>2</th>\n",
       "      <td>1995.0</td>\n",
       "      <td>ACURA</td>\n",
       "      <td>INTEGRA</td>\n",
       "      <td>SUBCOMPACT</td>\n",
       "      <td>1.8</td>\n",
       "      <td>4.0</td>\n",
       "      <td>M5</td>\n",
       "      <td>X</td>\n",
       "      <td>11.0</td>\n",
       "      <td>8.3</td>\n",
       "      <td>9.8</td>\n",
       "      <td>29.0</td>\n",
       "      <td>225.0</td>\n",
       "      <td>4.65988</td>\n",
       "      <td>4.674311</td>\n",
       "    </tr>\n",
       "    <tr>\n",
       "      <th>3</th>\n",
       "      <td>1995.0</td>\n",
       "      <td>ACURA</td>\n",
       "      <td>INTEGRA GS-R</td>\n",
       "      <td>SUBCOMPACT</td>\n",
       "      <td>1.8</td>\n",
       "      <td>4.0</td>\n",
       "      <td>M5</td>\n",
       "      <td>Z</td>\n",
       "      <td>10.8</td>\n",
       "      <td>8.3</td>\n",
       "      <td>9.7</td>\n",
       "      <td>29.0</td>\n",
       "      <td>223.0</td>\n",
       "      <td>4.65988</td>\n",
       "      <td>4.674311</td>\n",
       "    </tr>\n",
       "    <tr>\n",
       "      <th>4</th>\n",
       "      <td>1995.0</td>\n",
       "      <td>ACURA</td>\n",
       "      <td>LEGEND</td>\n",
       "      <td>COMPACT</td>\n",
       "      <td>3.2</td>\n",
       "      <td>6.0</td>\n",
       "      <td>A4</td>\n",
       "      <td>Z</td>\n",
       "      <td>14.2</td>\n",
       "      <td>10.5</td>\n",
       "      <td>12.5</td>\n",
       "      <td>23.0</td>\n",
       "      <td>288.0</td>\n",
       "      <td>4.65988</td>\n",
       "      <td>4.674311</td>\n",
       "    </tr>\n",
       "    <tr>\n",
       "      <th>5</th>\n",
       "      <td>1995.0</td>\n",
       "      <td>ACURA</td>\n",
       "      <td>LEGEND COUPE</td>\n",
       "      <td>COMPACT</td>\n",
       "      <td>3.2</td>\n",
       "      <td>6.0</td>\n",
       "      <td>A4</td>\n",
       "      <td>Z</td>\n",
       "      <td>14.6</td>\n",
       "      <td>11.0</td>\n",
       "      <td>13.0</td>\n",
       "      <td>22.0</td>\n",
       "      <td>299.0</td>\n",
       "      <td>4.65988</td>\n",
       "      <td>4.674311</td>\n",
       "    </tr>\n",
       "  </tbody>\n",
       "</table>\n",
       "</div>"
      ],
      "text/plain": [
       "   MODEL YEAR   MAKE MODEL(# = high output engine) VEHICLE CLASS  \\\n",
       "1      1995.0  ACURA                       INTEGRA    SUBCOMPACT   \n",
       "2      1995.0  ACURA                       INTEGRA    SUBCOMPACT   \n",
       "3      1995.0  ACURA                  INTEGRA GS-R    SUBCOMPACT   \n",
       "4      1995.0  ACURA                        LEGEND       COMPACT   \n",
       "5      1995.0  ACURA                  LEGEND COUPE       COMPACT   \n",
       "\n",
       "   ENGINE SIZE (L)  CYLINDERS TRANSMISSION FUEL TYPE  \\\n",
       "1              1.8        4.0           A4         X   \n",
       "2              1.8        4.0           M5         X   \n",
       "3              1.8        4.0           M5         Z   \n",
       "4              3.2        6.0           A4         Z   \n",
       "5              3.2        6.0           A4         Z   \n",
       "\n",
       "   FUEL CONSUMPTION CITY (L/100)  FUEL CONSUMPTION HWY (L/100)  \\\n",
       "1                           11.6                           8.3   \n",
       "2                           11.0                           8.3   \n",
       "3                           10.8                           8.3   \n",
       "4                           14.2                          10.5   \n",
       "5                           14.6                          11.0   \n",
       "\n",
       "   COMB (L/100 km)  COMB (mpg)  CO2 EMISSIONS (g/km)  CO2 Rating  Smog Rating  \n",
       "1             10.1        28.0                 232.0     4.65988     4.674311  \n",
       "2              9.8        29.0                 225.0     4.65988     4.674311  \n",
       "3              9.7        29.0                 223.0     4.65988     4.674311  \n",
       "4             12.5        23.0                 288.0     4.65988     4.674311  \n",
       "5             13.0        22.0                 299.0     4.65988     4.674311  "
      ]
     },
     "execution_count": 12,
     "metadata": {},
     "output_type": "execute_result"
    }
   ],
   "source": [
    "df['CO2 Rating'].fillna(df['CO2 Rating'].mean(), inplace = True)\n",
    "df['Smog Rating'].fillna(df['Smog Rating'].mean(), inplace = True)\n",
    "df.head()"
   ]
  },
  {
   "cell_type": "markdown",
   "id": "bba5d1fe",
   "metadata": {},
   "source": [
    "## Exploratory Data Analysis (EDA)"
   ]
  },
  {
   "cell_type": "markdown",
   "id": "35f854a6",
   "metadata": {},
   "source": [
    "### Plotting Histogram for Continuous Varibales"
   ]
  },
  {
   "cell_type": "code",
   "execution_count": 13,
   "id": "80c5828c",
   "metadata": {
    "scrolled": true
   },
   "outputs": [
    {
     "data": {
      "image/png": "[encoded data removed]",
      "text/plain": [
       "<Figure size 1440x1080 with 12 Axes>"
      ]
     },
     "metadata": {
      "needs_background": "light"
     },
     "output_type": "display_data"
    }
   ],
   "source": [
    "df.hist(bins=25, figsize=(20,15))\n",
    "plt.show()\n",
    "## ANSWER 4 ##\n",
    "# The fuel consumed per 100 km is more on city roads than on highway roads.\n",
    "# The majority of cars either have 4, 6 or 8 cylinders.\n",
    "# Engine sizes a bit less than 2 litres are the most common."
   ]
  },
  {
   "cell_type": "code",
   "execution_count": 14,
   "id": "44025496",
   "metadata": {
    "scrolled": true
   },
   "outputs": [
    {
     "data": {
      "image/png": "[encoded data removed]",
      "text/plain": [
       "<Figure size 1440x1080 with 12 Axes>"
      ]
     },
     "metadata": {
      "needs_background": "light"
     },
     "output_type": "display_data"
    }
   ],
   "source": [
    "df.hist(bins=25, figsize=(20,15))\n",
    "plt.show()\n",
    "## ANSWER 4 ##\n",
    "# The fuel consumed per 100 km is more on city roads than on highway roads.\n",
    "# The majority of cars either have 4, 6 or 8 cylinders.\n",
    "# Engine sizes a bit less than 2 litres are the most common."
   ]
  },
  {
   "cell_type": "code",
   "execution_count": 15,
   "id": "9bd84f21",
   "metadata": {
    "scrolled": true
   },
   "outputs": [
    {
     "data": {
      "image/png": "[encoded data removed]",
      "text/plain": [
       "<Figure size 1440x1080 with 12 Axes>"
      ]
     },
     "metadata": {
      "needs_background": "light"
     },
     "output_type": "display_data"
    }
   ],
   "source": [
    "df.hist(bins=25, figsize=(20,15))\n",
    "plt.show()\n",
    "## ANSWER 4 ##\n",
    "# The fuel consumed per 100 km is more on city roads than on highway roads.\n",
    "# The majority of cars either have 4, 6 or 8 cylinders.\n",
    "# Engine sizes a bit less than 2 litres are the most common."
   ]
  },
  {
   "cell_type": "code",
   "execution_count": 16,
   "id": "aa5749fb",
   "metadata": {
    "scrolled": true
   },
   "outputs": [
    {
     "data": {
      "text/plain": [
       "<AxesSubplot:xlabel='ENGINE SIZE (L)', ylabel='CO2 EMISSIONS (g/km)'>"
      ]
     },
     "execution_count": 16,
     "metadata": {},
     "output_type": "execute_result"
    },
    {
     "data": {
      "image/png": "[encoded data removed]",
      "text/plain": [
       "<Figure size 432x288 with 1 Axes>"
      ]
     },
     "metadata": {
      "needs_background": "light"
     },
     "output_type": "display_data"
    }
   ],
   "source": [
    "df.plot(kind=\"scatter\", x=\"ENGINE SIZE (L)\", y=\"CO2 EMISSIONS (g/km)\")"
   ]
  },
  {
   "cell_type": "code",
   "execution_count": 17,
   "id": "846644fc",
   "metadata": {},
   "outputs": [
    {
     "data": {
      "text/plain": [
       "<AxesSubplot:xlabel='ENGINE SIZE (L)', ylabel='CO2 EMISSIONS (g/km)'>"
      ]
     },
     "execution_count": 17,
     "metadata": {},
     "output_type": "execute_result"
    },
    {
     "data": {
      "image/png": "[encoded data removed]",
      "text/plain": [
       "<Figure size 432x288 with 1 Axes>"
      ]
     },
     "metadata": {
      "needs_background": "light"
     },
     "output_type": "display_data"
    }
   ],
   "source": [
    "df.plot(kind=\"scatter\", x=\"ENGINE SIZE (L)\", y=\"CO2 EMISSIONS (g/km)\", alpha=0.1)"
   ]
  },
  {
   "cell_type": "markdown",
   "id": "0ce7d37a",
   "metadata": {},
   "source": [
    "### We can observe that a passenger van vehicle emits the highest CO2 emissions on an average, whereas a compact vehicle emits the lowest."
   ]
  },
  {
   "cell_type": "code",
   "execution_count": 18,
   "id": "dc4d0331",
   "metadata": {},
   "outputs": [
    {
     "data": {
      "image/png": "[encoded data removed]",
      "text/plain": [
       "<Figure size 1080x720 with 1 Axes>"
      ]
     },
     "metadata": {
      "needs_background": "light"
     },
     "output_type": "display_data"
    }
   ],
   "source": [
    "plt.figure(figsize = (15,10))\n",
    "sns.boxplot(data = df, x = 'VEHICLE CLASS', y = 'CO2 EMISSIONS (g/km)')\n",
    "plt.xticks(rotation = 90)\n",
    "plt.show()"
   ]
  },
  {
   "cell_type": "markdown",
   "id": "11c8656f",
   "metadata": {},
   "source": [
    "### We can infer that automatic transmission vehicles have higher emissions as compared to manual and continuosly variable type vehicles."
   ]
  },
  {
   "cell_type": "code",
   "execution_count": 19,
   "id": "8e1c180e",
   "metadata": {},
   "outputs": [
    {
     "data": {
      "image/png": "[encoded data removed]",
      "text/plain": [
       "<Figure size 1080x720 with 1 Axes>"
      ]
     },
     "metadata": {
      "needs_background": "light"
     },
     "output_type": "display_data"
    }
   ],
   "source": [
    "plt.figure(figsize = (15,10))\n",
    "sns.boxplot(data = df, x = 'TRANSMISSION', y = 'CO2 EMISSIONS (g/km)')\n",
    "plt.show()"
   ]
  },
  {
   "cell_type": "markdown",
   "id": "63eac5ea",
   "metadata": {},
   "source": [
    "### We cannot infer much from this boxplot, but overall, we can see that a vehicle with Natural Gas fuel type has higher CO2 than the rest."
   ]
  },
  {
   "cell_type": "code",
   "execution_count": 20,
   "id": "26248b0f",
   "metadata": {},
   "outputs": [
    {
     "data": {
      "image/png": "[encoded data removed]",
      "text/plain": [
       "<Figure size 864x720 with 1 Axes>"
      ]
     },
     "metadata": {
      "needs_background": "light"
     },
     "output_type": "display_data"
    }
   ],
   "source": [
    "plt.figure(figsize = (12,10))\n",
    "sns.boxplot(data = df, x = 'FUEL TYPE', y = 'CO2 EMISSIONS (g/km)')\n",
    "plt.show()"
   ]
  },
  {
   "cell_type": "markdown",
   "id": "b233b8fb",
   "metadata": {},
   "source": [
    "# CORRELATION"
   ]
  },
  {
   "cell_type": "code",
   "execution_count": 21,
   "id": "97c11d20",
   "metadata": {},
   "outputs": [],
   "source": [
    "corr_matrix = df.corr()"
   ]
  },
  {
   "cell_type": "code",
   "execution_count": 22,
   "id": "3e958508",
   "metadata": {},
   "outputs": [
    {
     "data": {
      "text/plain": [
       "CO2 EMISSIONS (g/km)             1.000000\n",
       "COMB (L/100 km)                  0.935492\n",
       "FUEL CONSUMPTION CITY (L/100)    0.927856\n",
       "FUEL CONSUMPTION HWY (L/100)     0.914104\n",
       "ENGINE SIZE (L)                  0.798527\n",
       "CYLINDERS                        0.766113\n",
       "MODEL YEAR                      -0.205244\n",
       "Smog Rating                     -0.206322\n",
       "CO2 Rating                      -0.471736\n",
       "COMB (mpg)                      -0.900366\n",
       "Name: CO2 EMISSIONS (g/km), dtype: float64"
      ]
     },
     "execution_count": 22,
     "metadata": {},
     "output_type": "execute_result"
    }
   ],
   "source": [
    "corr_matrix[\"CO2 EMISSIONS (g/km)\"].sort_values(ascending=False)\n",
    "## ANSWER 6 ##\n",
    "# We have done a correlation of all attributes with CO2 emission attribute.\n",
    "# The 4 most corelated attributes are COMB(L/100), Fuel Consumption city, Fuel COnsumption HWY and COMB (mpg)\n",
    "# We aren't including CO2 rating as we need to predict its values later on."
   ]
  },
  {
   "cell_type": "code",
   "execution_count": 23,
   "id": "21f65f32",
   "metadata": {},
   "outputs": [
    {
     "data": {
      "text/plain": [
       "<AxesSubplot:>"
      ]
     },
     "execution_count": 23,
     "metadata": {},
     "output_type": "execute_result"
    },
    {
     "data": {
      "image/png": "[encoded data removed]",
      "text/plain": [
       "<Figure size 1080x720 with 2 Axes>"
      ]
     },
     "metadata": {
      "needs_background": "light"
     },
     "output_type": "display_data"
    }
   ],
   "source": [
    "plt.figure(figsize=(15,10))\n",
    "sns.heatmap(corr_matrix, annot=True)"
   ]
  },
  {
   "cell_type": "markdown",
   "id": "4d5ce3ee",
   "metadata": {},
   "source": [
    "### We observe that there is high multicollinearity between 'COMB (L/100 km)', 'FUEL CONSUMPTION CITY (L/100)' and 'FUEL CONSUMPTION HWY (L/100)' attributes. So we will only keep column 'COMB (L/100 km)'."
   ]
  },
  {
   "cell_type": "code",
   "execution_count": 24,
   "id": "9586098e",
   "metadata": {},
   "outputs": [],
   "source": [
    "from pandas.plotting import scatter_matrix"
   ]
  },
  {
   "cell_type": "code",
   "execution_count": 25,
   "id": "61ea199c",
   "metadata": {
    "scrolled": true
   },
   "outputs": [
    {
     "data": {
      "image/png": "[encoded data removed]",
      "text/plain": [
       "<Figure size 1440x1440 with 16 Axes>"
      ]
     },
     "metadata": {
      "needs_background": "light"
     },
     "output_type": "display_data"
    }
   ],
   "source": [
    "attributes = [\"COMB (L/100 km)\", \"FUEL CONSUMPTION CITY (L/100)\", \"FUEL CONSUMPTION HWY (L/100)\",\n",
    "              \"COMB (mpg)\"]\n",
    "scatter_matrix(df[attributes], figsize=(20, 20))\n",
    "plt.show()"
   ]
  },
  {
   "cell_type": "markdown",
   "id": "92cfeb96",
   "metadata": {},
   "source": [
    "# Feature Engineering"
   ]
  },
  {
   "cell_type": "markdown",
   "id": "19129c82",
   "metadata": {},
   "source": [
    "#### Frequency Encoding 'MAKE' Attribute"
   ]
  },
  {
   "cell_type": "code",
   "execution_count": 26,
   "id": "bb354299",
   "metadata": {},
   "outputs": [],
   "source": [
    "y_make = df.groupby('MAKE').size()/len(df)\n",
    "df['MAKE_NEW'] = df['MAKE'].apply(lambda x_make : y_make[x_make])\n",
    "df.drop(['MAKE'], axis=1, inplace=True)"
   ]
  },
  {
   "cell_type": "code",
   "execution_count": 27,
   "id": "56b04ebe",
   "metadata": {},
   "outputs": [
    {
     "data": {
      "text/plain": [
       "1    0.009588\n",
       "2    0.009588\n",
       "3    0.009588\n",
       "4    0.009588\n",
       "5    0.009588\n",
       "Name: MAKE_NEW, dtype: float64"
      ]
     },
     "execution_count": 27,
     "metadata": {},
     "output_type": "execute_result"
    }
   ],
   "source": [
    "df['MAKE_NEW'].head()"
   ]
  },
  {
   "cell_type": "markdown",
   "id": "4e8df335",
   "metadata": {},
   "source": [
    "#### Frequency Encoding 'MODEL' Attribute"
   ]
  },
  {
   "cell_type": "code",
   "execution_count": 28,
   "id": "9920610e",
   "metadata": {},
   "outputs": [],
   "source": [
    "y_model = df.groupby('MODEL(# = high output engine)').size()/len(df)\n",
    "df['MODEL_NEW'] = df['MODEL(# = high output engine)'].apply(lambda x_model : y_model[x_model])\n",
    "df.drop(['MODEL(# = high output engine)'], axis=1, inplace=True)"
   ]
  },
  {
   "cell_type": "code",
   "execution_count": 29,
   "id": "ddc13af9",
   "metadata": {},
   "outputs": [
    {
     "data": {
      "text/plain": [
       "1    0.000537\n",
       "2    0.000537\n",
       "3    0.000192\n",
       "4    0.000038\n",
       "5    0.000077\n",
       "Name: MODEL_NEW, dtype: float64"
      ]
     },
     "execution_count": 29,
     "metadata": {},
     "output_type": "execute_result"
    }
   ],
   "source": [
    "df['MODEL_NEW'].head()"
   ]
  },
  {
   "cell_type": "markdown",
   "id": "6c5e20b3",
   "metadata": {},
   "source": [
    "#### One Hot Encoding \n",
    "\n",
    "1. 'Fuel Type Attribute'\n",
    "2. 'VEHICLE CLASS'\n",
    "3. 'TRANSMISSION'"
   ]
  },
  {
   "cell_type": "code",
   "execution_count": 30,
   "id": "9dbecd0d",
   "metadata": {},
   "outputs": [
    {
     "name": "stderr",
     "output_type": "stream",
     "text": [
      "/var/folders/pk/w02nyv7x67d_gpdyrsrfp5y40000gn/T/ipykernel_6355/1698836543.py:3: SettingWithCopyWarning: \n",
      "A value is trying to be set on a copy of a slice from a DataFrame\n",
      "\n",
      "See the caveats in the documentation: https://pandas.pydata.org/pandas-docs/stable/user_guide/indexing.html#returning-a-view-versus-a-copy\n",
      "  Categorical_df.drop(['index'], axis=1, inplace = True)\n"
     ]
    },
    {
     "data": {
      "text/html": [
       "<div>\n",
       "<style scoped>\n",
       "    .dataframe tbody tr th:only-of-type {\n",
       "        vertical-align: middle;\n",
       "    }\n",
       "\n",
       "    .dataframe tbody tr th {\n",
       "        vertical-align: top;\n",
       "    }\n",
       "\n",
       "    .dataframe thead th {\n",
       "        text-align: right;\n",
       "    }\n",
       "</style>\n",
       "<table border=\"1\" class=\"dataframe\">\n",
       "  <thead>\n",
       "    <tr style=\"text-align: right;\">\n",
       "      <th></th>\n",
       "      <th>FUEL TYPE</th>\n",
       "      <th>VEHICLE CLASS</th>\n",
       "      <th>TRANSMISSION</th>\n",
       "    </tr>\n",
       "  </thead>\n",
       "  <tbody>\n",
       "    <tr>\n",
       "      <th>0</th>\n",
       "      <td>X</td>\n",
       "      <td>SUBCOMPACT</td>\n",
       "      <td>A4</td>\n",
       "    </tr>\n",
       "    <tr>\n",
       "      <th>1</th>\n",
       "      <td>X</td>\n",
       "      <td>SUBCOMPACT</td>\n",
       "      <td>M5</td>\n",
       "    </tr>\n",
       "    <tr>\n",
       "      <th>2</th>\n",
       "      <td>Z</td>\n",
       "      <td>SUBCOMPACT</td>\n",
       "      <td>M5</td>\n",
       "    </tr>\n",
       "    <tr>\n",
       "      <th>3</th>\n",
       "      <td>Z</td>\n",
       "      <td>COMPACT</td>\n",
       "      <td>A4</td>\n",
       "    </tr>\n",
       "    <tr>\n",
       "      <th>4</th>\n",
       "      <td>Z</td>\n",
       "      <td>COMPACT</td>\n",
       "      <td>A4</td>\n",
       "    </tr>\n",
       "  </tbody>\n",
       "</table>\n",
       "</div>"
      ],
      "text/plain": [
       "  FUEL TYPE VEHICLE CLASS TRANSMISSION\n",
       "0         X    SUBCOMPACT           A4\n",
       "1         X    SUBCOMPACT           M5\n",
       "2         Z    SUBCOMPACT           M5\n",
       "3         Z       COMPACT           A4\n",
       "4         Z       COMPACT           A4"
      ]
     },
     "execution_count": 30,
     "metadata": {},
     "output_type": "execute_result"
    }
   ],
   "source": [
    "Categorical_df = df[['FUEL TYPE','VEHICLE CLASS','TRANSMISSION']]\n",
    "Categorical_df.reset_index(inplace=True)\n",
    "Categorical_df.drop(['index'], axis=1, inplace = True)\n",
    "Categorical_df.head()"
   ]
  },
  {
   "cell_type": "code",
   "execution_count": 31,
   "id": "57db9d83",
   "metadata": {},
   "outputs": [
    {
     "name": "stderr",
     "output_type": "stream",
     "text": [
      "/Users/ad/anaconda3/lib/python3.9/site-packages/sklearn/utils/deprecation.py:87: FutureWarning: Function get_feature_names is deprecated; get_feature_names is deprecated in 1.0 and will be removed in 1.2. Please use get_feature_names_out instead.\n",
      "  warnings.warn(msg, category=FutureWarning)\n"
     ]
    },
    {
     "data": {
      "text/html": [
       "<div>\n",
       "<style scoped>\n",
       "    .dataframe tbody tr th:only-of-type {\n",
       "        vertical-align: middle;\n",
       "    }\n",
       "\n",
       "    .dataframe tbody tr th {\n",
       "        vertical-align: top;\n",
       "    }\n",
       "\n",
       "    .dataframe thead th {\n",
       "        text-align: right;\n",
       "    }\n",
       "</style>\n",
       "<table border=\"1\" class=\"dataframe\">\n",
       "  <thead>\n",
       "    <tr style=\"text-align: right;\">\n",
       "      <th></th>\n",
       "      <th>FUEL TYPE_E</th>\n",
       "      <th>FUEL TYPE_N</th>\n",
       "      <th>FUEL TYPE_X</th>\n",
       "      <th>FUEL TYPE_Z</th>\n",
       "      <th>VEHICLE CLASS_Compact</th>\n",
       "      <th>VEHICLE CLASS_FULL-SIZE</th>\n",
       "      <th>VEHICLE CLASS_Full-size</th>\n",
       "      <th>VEHICLE CLASS_MID-SIZE</th>\n",
       "      <th>VEHICLE CLASS_MINICOMPACT</th>\n",
       "      <th>VEHICLE CLASS_MINIVAN</th>\n",
       "      <th>...</th>\n",
       "      <th>TRANSMISSION_AV</th>\n",
       "      <th>TRANSMISSION_AV1</th>\n",
       "      <th>TRANSMISSION_AV10</th>\n",
       "      <th>TRANSMISSION_AV6</th>\n",
       "      <th>TRANSMISSION_AV7</th>\n",
       "      <th>TRANSMISSION_AV8</th>\n",
       "      <th>TRANSMISSION_M4</th>\n",
       "      <th>TRANSMISSION_M5</th>\n",
       "      <th>TRANSMISSION_M6</th>\n",
       "      <th>TRANSMISSION_M7</th>\n",
       "    </tr>\n",
       "  </thead>\n",
       "  <tbody>\n",
       "    <tr>\n",
       "      <th>0</th>\n",
       "      <td>0.0</td>\n",
       "      <td>0.0</td>\n",
       "      <td>1.0</td>\n",
       "      <td>0.0</td>\n",
       "      <td>0.0</td>\n",
       "      <td>0.0</td>\n",
       "      <td>0.0</td>\n",
       "      <td>0.0</td>\n",
       "      <td>0.0</td>\n",
       "      <td>0.0</td>\n",
       "      <td>...</td>\n",
       "      <td>0.0</td>\n",
       "      <td>0.0</td>\n",
       "      <td>0.0</td>\n",
       "      <td>0.0</td>\n",
       "      <td>0.0</td>\n",
       "      <td>0.0</td>\n",
       "      <td>0.0</td>\n",
       "      <td>0.0</td>\n",
       "      <td>0.0</td>\n",
       "      <td>0.0</td>\n",
       "    </tr>\n",
       "    <tr>\n",
       "      <th>1</th>\n",
       "      <td>0.0</td>\n",
       "      <td>0.0</td>\n",
       "      <td>1.0</td>\n",
       "      <td>0.0</td>\n",
       "      <td>0.0</td>\n",
       "      <td>0.0</td>\n",
       "      <td>0.0</td>\n",
       "      <td>0.0</td>\n",
       "      <td>0.0</td>\n",
       "      <td>0.0</td>\n",
       "      <td>...</td>\n",
       "      <td>0.0</td>\n",
       "      <td>0.0</td>\n",
       "      <td>0.0</td>\n",
       "      <td>0.0</td>\n",
       "      <td>0.0</td>\n",
       "      <td>0.0</td>\n",
       "      <td>0.0</td>\n",
       "      <td>1.0</td>\n",
       "      <td>0.0</td>\n",
       "      <td>0.0</td>\n",
       "    </tr>\n",
       "    <tr>\n",
       "      <th>2</th>\n",
       "      <td>0.0</td>\n",
       "      <td>0.0</td>\n",
       "      <td>0.0</td>\n",
       "      <td>1.0</td>\n",
       "      <td>0.0</td>\n",
       "      <td>0.0</td>\n",
       "      <td>0.0</td>\n",
       "      <td>0.0</td>\n",
       "      <td>0.0</td>\n",
       "      <td>0.0</td>\n",
       "      <td>...</td>\n",
       "      <td>0.0</td>\n",
       "      <td>0.0</td>\n",
       "      <td>0.0</td>\n",
       "      <td>0.0</td>\n",
       "      <td>0.0</td>\n",
       "      <td>0.0</td>\n",
       "      <td>0.0</td>\n",
       "      <td>1.0</td>\n",
       "      <td>0.0</td>\n",
       "      <td>0.0</td>\n",
       "    </tr>\n",
       "    <tr>\n",
       "      <th>3</th>\n",
       "      <td>0.0</td>\n",
       "      <td>0.0</td>\n",
       "      <td>0.0</td>\n",
       "      <td>1.0</td>\n",
       "      <td>0.0</td>\n",
       "      <td>0.0</td>\n",
       "      <td>0.0</td>\n",
       "      <td>0.0</td>\n",
       "      <td>0.0</td>\n",
       "      <td>0.0</td>\n",
       "      <td>...</td>\n",
       "      <td>0.0</td>\n",
       "      <td>0.0</td>\n",
       "      <td>0.0</td>\n",
       "      <td>0.0</td>\n",
       "      <td>0.0</td>\n",
       "      <td>0.0</td>\n",
       "      <td>0.0</td>\n",
       "      <td>0.0</td>\n",
       "      <td>0.0</td>\n",
       "      <td>0.0</td>\n",
       "    </tr>\n",
       "    <tr>\n",
       "      <th>4</th>\n",
       "      <td>0.0</td>\n",
       "      <td>0.0</td>\n",
       "      <td>0.0</td>\n",
       "      <td>1.0</td>\n",
       "      <td>0.0</td>\n",
       "      <td>0.0</td>\n",
       "      <td>0.0</td>\n",
       "      <td>0.0</td>\n",
       "      <td>0.0</td>\n",
       "      <td>0.0</td>\n",
       "      <td>...</td>\n",
       "      <td>0.0</td>\n",
       "      <td>0.0</td>\n",
       "      <td>0.0</td>\n",
       "      <td>0.0</td>\n",
       "      <td>0.0</td>\n",
       "      <td>0.0</td>\n",
       "      <td>0.0</td>\n",
       "      <td>0.0</td>\n",
       "      <td>0.0</td>\n",
       "      <td>0.0</td>\n",
       "    </tr>\n",
       "  </tbody>\n",
       "</table>\n",
       "<p>5 rows × 64 columns</p>\n",
       "</div>"
      ],
      "text/plain": [
       "   FUEL TYPE_E  FUEL TYPE_N  FUEL TYPE_X  FUEL TYPE_Z  VEHICLE CLASS_Compact  \\\n",
       "0          0.0          0.0          1.0          0.0                    0.0   \n",
       "1          0.0          0.0          1.0          0.0                    0.0   \n",
       "2          0.0          0.0          0.0          1.0                    0.0   \n",
       "3          0.0          0.0          0.0          1.0                    0.0   \n",
       "4          0.0          0.0          0.0          1.0                    0.0   \n",
       "\n",
       "   VEHICLE CLASS_FULL-SIZE  VEHICLE CLASS_Full-size  VEHICLE CLASS_MID-SIZE  \\\n",
       "0                      0.0                      0.0                     0.0   \n",
       "1                      0.0                      0.0                     0.0   \n",
       "2                      0.0                      0.0                     0.0   \n",
       "3                      0.0                      0.0                     0.0   \n",
       "4                      0.0                      0.0                     0.0   \n",
       "\n",
       "   VEHICLE CLASS_MINICOMPACT  VEHICLE CLASS_MINIVAN  ...  TRANSMISSION_AV  \\\n",
       "0                        0.0                    0.0  ...              0.0   \n",
       "1                        0.0                    0.0  ...              0.0   \n",
       "2                        0.0                    0.0  ...              0.0   \n",
       "3                        0.0                    0.0  ...              0.0   \n",
       "4                        0.0                    0.0  ...              0.0   \n",
       "\n",
       "   TRANSMISSION_AV1  TRANSMISSION_AV10  TRANSMISSION_AV6  TRANSMISSION_AV7  \\\n",
       "0               0.0                0.0               0.0               0.0   \n",
       "1               0.0                0.0               0.0               0.0   \n",
       "2               0.0                0.0               0.0               0.0   \n",
       "3               0.0                0.0               0.0               0.0   \n",
       "4               0.0                0.0               0.0               0.0   \n",
       "\n",
       "   TRANSMISSION_AV8  TRANSMISSION_M4  TRANSMISSION_M5  TRANSMISSION_M6  \\\n",
       "0               0.0              0.0              0.0              0.0   \n",
       "1               0.0              0.0              1.0              0.0   \n",
       "2               0.0              0.0              1.0              0.0   \n",
       "3               0.0              0.0              0.0              0.0   \n",
       "4               0.0              0.0              0.0              0.0   \n",
       "\n",
       "   TRANSMISSION_M7  \n",
       "0              0.0  \n",
       "1              0.0  \n",
       "2              0.0  \n",
       "3              0.0  \n",
       "4              0.0  \n",
       "\n",
       "[5 rows x 64 columns]"
      ]
     },
     "execution_count": 31,
     "metadata": {},
     "output_type": "execute_result"
    }
   ],
   "source": [
    "from sklearn.preprocessing import OneHotEncoder\n",
    "\n",
    "encoder = OneHotEncoder(drop='first', sparse=False)\n",
    "\n",
    "df_cat = pd.DataFrame(encoder.fit_transform(Categorical_df), columns=encoder.get_feature_names(Categorical_df.columns))\n",
    "df_cat.head()"
   ]
  },
  {
   "cell_type": "code",
   "execution_count": 32,
   "id": "92c50ce5",
   "metadata": {},
   "outputs": [
    {
     "name": "stdout",
     "output_type": "stream",
     "text": [
      "(26075, 64)\n"
     ]
    }
   ],
   "source": [
    "print(df_cat.shape)"
   ]
  },
  {
   "cell_type": "code",
   "execution_count": 33,
   "id": "baba7177",
   "metadata": {},
   "outputs": [
    {
     "data": {
      "text/html": [
       "<div>\n",
       "<style scoped>\n",
       "    .dataframe tbody tr th:only-of-type {\n",
       "        vertical-align: middle;\n",
       "    }\n",
       "\n",
       "    .dataframe tbody tr th {\n",
       "        vertical-align: top;\n",
       "    }\n",
       "\n",
       "    .dataframe thead th {\n",
       "        text-align: right;\n",
       "    }\n",
       "</style>\n",
       "<table border=\"1\" class=\"dataframe\">\n",
       "  <thead>\n",
       "    <tr style=\"text-align: right;\">\n",
       "      <th></th>\n",
       "      <th>MODEL YEAR</th>\n",
       "      <th>VEHICLE CLASS</th>\n",
       "      <th>ENGINE SIZE (L)</th>\n",
       "      <th>CYLINDERS</th>\n",
       "      <th>TRANSMISSION</th>\n",
       "      <th>FUEL TYPE</th>\n",
       "      <th>FUEL CONSUMPTION CITY (L/100)</th>\n",
       "      <th>FUEL CONSUMPTION HWY (L/100)</th>\n",
       "      <th>COMB (L/100 km)</th>\n",
       "      <th>COMB (mpg)</th>\n",
       "      <th>...</th>\n",
       "      <th>TRANSMISSION_AV</th>\n",
       "      <th>TRANSMISSION_AV1</th>\n",
       "      <th>TRANSMISSION_AV10</th>\n",
       "      <th>TRANSMISSION_AV6</th>\n",
       "      <th>TRANSMISSION_AV7</th>\n",
       "      <th>TRANSMISSION_AV8</th>\n",
       "      <th>TRANSMISSION_M4</th>\n",
       "      <th>TRANSMISSION_M5</th>\n",
       "      <th>TRANSMISSION_M6</th>\n",
       "      <th>TRANSMISSION_M7</th>\n",
       "    </tr>\n",
       "  </thead>\n",
       "  <tbody>\n",
       "    <tr>\n",
       "      <th>1</th>\n",
       "      <td>1995.0</td>\n",
       "      <td>SUBCOMPACT</td>\n",
       "      <td>1.8</td>\n",
       "      <td>4.0</td>\n",
       "      <td>A4</td>\n",
       "      <td>X</td>\n",
       "      <td>11.6</td>\n",
       "      <td>8.3</td>\n",
       "      <td>10.1</td>\n",
       "      <td>28.0</td>\n",
       "      <td>...</td>\n",
       "      <td>0.0</td>\n",
       "      <td>0.0</td>\n",
       "      <td>0.0</td>\n",
       "      <td>0.0</td>\n",
       "      <td>0.0</td>\n",
       "      <td>0.0</td>\n",
       "      <td>0.0</td>\n",
       "      <td>1.0</td>\n",
       "      <td>0.0</td>\n",
       "      <td>0.0</td>\n",
       "    </tr>\n",
       "    <tr>\n",
       "      <th>2</th>\n",
       "      <td>1995.0</td>\n",
       "      <td>SUBCOMPACT</td>\n",
       "      <td>1.8</td>\n",
       "      <td>4.0</td>\n",
       "      <td>M5</td>\n",
       "      <td>X</td>\n",
       "      <td>11.0</td>\n",
       "      <td>8.3</td>\n",
       "      <td>9.8</td>\n",
       "      <td>29.0</td>\n",
       "      <td>...</td>\n",
       "      <td>0.0</td>\n",
       "      <td>0.0</td>\n",
       "      <td>0.0</td>\n",
       "      <td>0.0</td>\n",
       "      <td>0.0</td>\n",
       "      <td>0.0</td>\n",
       "      <td>0.0</td>\n",
       "      <td>1.0</td>\n",
       "      <td>0.0</td>\n",
       "      <td>0.0</td>\n",
       "    </tr>\n",
       "    <tr>\n",
       "      <th>3</th>\n",
       "      <td>1995.0</td>\n",
       "      <td>SUBCOMPACT</td>\n",
       "      <td>1.8</td>\n",
       "      <td>4.0</td>\n",
       "      <td>M5</td>\n",
       "      <td>Z</td>\n",
       "      <td>10.8</td>\n",
       "      <td>8.3</td>\n",
       "      <td>9.7</td>\n",
       "      <td>29.0</td>\n",
       "      <td>...</td>\n",
       "      <td>0.0</td>\n",
       "      <td>0.0</td>\n",
       "      <td>0.0</td>\n",
       "      <td>0.0</td>\n",
       "      <td>0.0</td>\n",
       "      <td>0.0</td>\n",
       "      <td>0.0</td>\n",
       "      <td>0.0</td>\n",
       "      <td>0.0</td>\n",
       "      <td>0.0</td>\n",
       "    </tr>\n",
       "    <tr>\n",
       "      <th>4</th>\n",
       "      <td>1995.0</td>\n",
       "      <td>COMPACT</td>\n",
       "      <td>3.2</td>\n",
       "      <td>6.0</td>\n",
       "      <td>A4</td>\n",
       "      <td>Z</td>\n",
       "      <td>14.2</td>\n",
       "      <td>10.5</td>\n",
       "      <td>12.5</td>\n",
       "      <td>23.0</td>\n",
       "      <td>...</td>\n",
       "      <td>0.0</td>\n",
       "      <td>0.0</td>\n",
       "      <td>0.0</td>\n",
       "      <td>0.0</td>\n",
       "      <td>0.0</td>\n",
       "      <td>0.0</td>\n",
       "      <td>0.0</td>\n",
       "      <td>0.0</td>\n",
       "      <td>0.0</td>\n",
       "      <td>0.0</td>\n",
       "    </tr>\n",
       "    <tr>\n",
       "      <th>5</th>\n",
       "      <td>1995.0</td>\n",
       "      <td>COMPACT</td>\n",
       "      <td>3.2</td>\n",
       "      <td>6.0</td>\n",
       "      <td>A4</td>\n",
       "      <td>Z</td>\n",
       "      <td>14.6</td>\n",
       "      <td>11.0</td>\n",
       "      <td>13.0</td>\n",
       "      <td>22.0</td>\n",
       "      <td>...</td>\n",
       "      <td>0.0</td>\n",
       "      <td>0.0</td>\n",
       "      <td>0.0</td>\n",
       "      <td>0.0</td>\n",
       "      <td>0.0</td>\n",
       "      <td>0.0</td>\n",
       "      <td>0.0</td>\n",
       "      <td>0.0</td>\n",
       "      <td>1.0</td>\n",
       "      <td>0.0</td>\n",
       "    </tr>\n",
       "  </tbody>\n",
       "</table>\n",
       "<p>5 rows × 79 columns</p>\n",
       "</div>"
      ],
      "text/plain": [
       "   MODEL YEAR VEHICLE CLASS  ENGINE SIZE (L)  CYLINDERS TRANSMISSION  \\\n",
       "1      1995.0    SUBCOMPACT              1.8        4.0           A4   \n",
       "2      1995.0    SUBCOMPACT              1.8        4.0           M5   \n",
       "3      1995.0    SUBCOMPACT              1.8        4.0           M5   \n",
       "4      1995.0       COMPACT              3.2        6.0           A4   \n",
       "5      1995.0       COMPACT              3.2        6.0           A4   \n",
       "\n",
       "  FUEL TYPE  FUEL CONSUMPTION CITY (L/100)  FUEL CONSUMPTION HWY (L/100)  \\\n",
       "1         X                           11.6                           8.3   \n",
       "2         X                           11.0                           8.3   \n",
       "3         Z                           10.8                           8.3   \n",
       "4         Z                           14.2                          10.5   \n",
       "5         Z                           14.6                          11.0   \n",
       "\n",
       "   COMB (L/100 km)  COMB (mpg)  ...  TRANSMISSION_AV  TRANSMISSION_AV1  \\\n",
       "1             10.1        28.0  ...              0.0               0.0   \n",
       "2              9.8        29.0  ...              0.0               0.0   \n",
       "3              9.7        29.0  ...              0.0               0.0   \n",
       "4             12.5        23.0  ...              0.0               0.0   \n",
       "5             13.0        22.0  ...              0.0               0.0   \n",
       "\n",
       "   TRANSMISSION_AV10  TRANSMISSION_AV6  TRANSMISSION_AV7  TRANSMISSION_AV8  \\\n",
       "1                0.0               0.0               0.0               0.0   \n",
       "2                0.0               0.0               0.0               0.0   \n",
       "3                0.0               0.0               0.0               0.0   \n",
       "4                0.0               0.0               0.0               0.0   \n",
       "5                0.0               0.0               0.0               0.0   \n",
       "\n",
       "   TRANSMISSION_M4  TRANSMISSION_M5  TRANSMISSION_M6  TRANSMISSION_M7  \n",
       "1              0.0              1.0              0.0              0.0  \n",
       "2              0.0              1.0              0.0              0.0  \n",
       "3              0.0              0.0              0.0              0.0  \n",
       "4              0.0              0.0              0.0              0.0  \n",
       "5              0.0              0.0              1.0              0.0  \n",
       "\n",
       "[5 rows x 79 columns]"
      ]
     },
     "execution_count": 33,
     "metadata": {},
     "output_type": "execute_result"
    }
   ],
   "source": [
    "df = pd.concat([df,df_cat], axis=1)\n",
    "df.head()"
   ]
  },
  {
   "cell_type": "code",
   "execution_count": 34,
   "id": "0bd01b29",
   "metadata": {},
   "outputs": [],
   "source": [
    "df.drop(['VEHICLE CLASS','TRANSMISSION','FUEL TYPE'], axis =1, inplace = True)\n",
    "df.dropna(inplace=True)"
   ]
  },
  {
   "cell_type": "code",
   "execution_count": 35,
   "id": "cd373d22",
   "metadata": {},
   "outputs": [
    {
     "data": {
      "text/html": [
       "<div>\n",
       "<style scoped>\n",
       "    .dataframe tbody tr th:only-of-type {\n",
       "        vertical-align: middle;\n",
       "    }\n",
       "\n",
       "    .dataframe tbody tr th {\n",
       "        vertical-align: top;\n",
       "    }\n",
       "\n",
       "    .dataframe thead th {\n",
       "        text-align: right;\n",
       "    }\n",
       "</style>\n",
       "<table border=\"1\" class=\"dataframe\">\n",
       "  <thead>\n",
       "    <tr style=\"text-align: right;\">\n",
       "      <th></th>\n",
       "      <th>MODEL YEAR</th>\n",
       "      <th>ENGINE SIZE (L)</th>\n",
       "      <th>CYLINDERS</th>\n",
       "      <th>FUEL CONSUMPTION CITY (L/100)</th>\n",
       "      <th>FUEL CONSUMPTION HWY (L/100)</th>\n",
       "      <th>COMB (L/100 km)</th>\n",
       "      <th>COMB (mpg)</th>\n",
       "      <th>CO2 EMISSIONS (g/km)</th>\n",
       "      <th>CO2 Rating</th>\n",
       "      <th>Smog Rating</th>\n",
       "      <th>...</th>\n",
       "      <th>TRANSMISSION_AV</th>\n",
       "      <th>TRANSMISSION_AV1</th>\n",
       "      <th>TRANSMISSION_AV10</th>\n",
       "      <th>TRANSMISSION_AV6</th>\n",
       "      <th>TRANSMISSION_AV7</th>\n",
       "      <th>TRANSMISSION_AV8</th>\n",
       "      <th>TRANSMISSION_M4</th>\n",
       "      <th>TRANSMISSION_M5</th>\n",
       "      <th>TRANSMISSION_M6</th>\n",
       "      <th>TRANSMISSION_M7</th>\n",
       "    </tr>\n",
       "  </thead>\n",
       "  <tbody>\n",
       "    <tr>\n",
       "      <th>1</th>\n",
       "      <td>1995.0</td>\n",
       "      <td>1.8</td>\n",
       "      <td>4.0</td>\n",
       "      <td>11.6</td>\n",
       "      <td>8.3</td>\n",
       "      <td>10.1</td>\n",
       "      <td>28.0</td>\n",
       "      <td>232.0</td>\n",
       "      <td>4.65988</td>\n",
       "      <td>4.674311</td>\n",
       "      <td>...</td>\n",
       "      <td>0.0</td>\n",
       "      <td>0.0</td>\n",
       "      <td>0.0</td>\n",
       "      <td>0.0</td>\n",
       "      <td>0.0</td>\n",
       "      <td>0.0</td>\n",
       "      <td>0.0</td>\n",
       "      <td>1.0</td>\n",
       "      <td>0.0</td>\n",
       "      <td>0.0</td>\n",
       "    </tr>\n",
       "    <tr>\n",
       "      <th>2</th>\n",
       "      <td>1995.0</td>\n",
       "      <td>1.8</td>\n",
       "      <td>4.0</td>\n",
       "      <td>11.0</td>\n",
       "      <td>8.3</td>\n",
       "      <td>9.8</td>\n",
       "      <td>29.0</td>\n",
       "      <td>225.0</td>\n",
       "      <td>4.65988</td>\n",
       "      <td>4.674311</td>\n",
       "      <td>...</td>\n",
       "      <td>0.0</td>\n",
       "      <td>0.0</td>\n",
       "      <td>0.0</td>\n",
       "      <td>0.0</td>\n",
       "      <td>0.0</td>\n",
       "      <td>0.0</td>\n",
       "      <td>0.0</td>\n",
       "      <td>1.0</td>\n",
       "      <td>0.0</td>\n",
       "      <td>0.0</td>\n",
       "    </tr>\n",
       "    <tr>\n",
       "      <th>3</th>\n",
       "      <td>1995.0</td>\n",
       "      <td>1.8</td>\n",
       "      <td>4.0</td>\n",
       "      <td>10.8</td>\n",
       "      <td>8.3</td>\n",
       "      <td>9.7</td>\n",
       "      <td>29.0</td>\n",
       "      <td>223.0</td>\n",
       "      <td>4.65988</td>\n",
       "      <td>4.674311</td>\n",
       "      <td>...</td>\n",
       "      <td>0.0</td>\n",
       "      <td>0.0</td>\n",
       "      <td>0.0</td>\n",
       "      <td>0.0</td>\n",
       "      <td>0.0</td>\n",
       "      <td>0.0</td>\n",
       "      <td>0.0</td>\n",
       "      <td>0.0</td>\n",
       "      <td>0.0</td>\n",
       "      <td>0.0</td>\n",
       "    </tr>\n",
       "    <tr>\n",
       "      <th>4</th>\n",
       "      <td>1995.0</td>\n",
       "      <td>3.2</td>\n",
       "      <td>6.0</td>\n",
       "      <td>14.2</td>\n",
       "      <td>10.5</td>\n",
       "      <td>12.5</td>\n",
       "      <td>23.0</td>\n",
       "      <td>288.0</td>\n",
       "      <td>4.65988</td>\n",
       "      <td>4.674311</td>\n",
       "      <td>...</td>\n",
       "      <td>0.0</td>\n",
       "      <td>0.0</td>\n",
       "      <td>0.0</td>\n",
       "      <td>0.0</td>\n",
       "      <td>0.0</td>\n",
       "      <td>0.0</td>\n",
       "      <td>0.0</td>\n",
       "      <td>0.0</td>\n",
       "      <td>0.0</td>\n",
       "      <td>0.0</td>\n",
       "    </tr>\n",
       "    <tr>\n",
       "      <th>5</th>\n",
       "      <td>1995.0</td>\n",
       "      <td>3.2</td>\n",
       "      <td>6.0</td>\n",
       "      <td>14.6</td>\n",
       "      <td>11.0</td>\n",
       "      <td>13.0</td>\n",
       "      <td>22.0</td>\n",
       "      <td>299.0</td>\n",
       "      <td>4.65988</td>\n",
       "      <td>4.674311</td>\n",
       "      <td>...</td>\n",
       "      <td>0.0</td>\n",
       "      <td>0.0</td>\n",
       "      <td>0.0</td>\n",
       "      <td>0.0</td>\n",
       "      <td>0.0</td>\n",
       "      <td>0.0</td>\n",
       "      <td>0.0</td>\n",
       "      <td>0.0</td>\n",
       "      <td>1.0</td>\n",
       "      <td>0.0</td>\n",
       "    </tr>\n",
       "  </tbody>\n",
       "</table>\n",
       "<p>5 rows × 76 columns</p>\n",
       "</div>"
      ],
      "text/plain": [
       "   MODEL YEAR  ENGINE SIZE (L)  CYLINDERS  FUEL CONSUMPTION CITY (L/100)  \\\n",
       "1      1995.0              1.8        4.0                           11.6   \n",
       "2      1995.0              1.8        4.0                           11.0   \n",
       "3      1995.0              1.8        4.0                           10.8   \n",
       "4      1995.0              3.2        6.0                           14.2   \n",
       "5      1995.0              3.2        6.0                           14.6   \n",
       "\n",
       "   FUEL CONSUMPTION HWY (L/100)  COMB (L/100 km)  COMB (mpg)  \\\n",
       "1                           8.3             10.1        28.0   \n",
       "2                           8.3              9.8        29.0   \n",
       "3                           8.3              9.7        29.0   \n",
       "4                          10.5             12.5        23.0   \n",
       "5                          11.0             13.0        22.0   \n",
       "\n",
       "   CO2 EMISSIONS (g/km)  CO2 Rating  Smog Rating  ...  TRANSMISSION_AV  \\\n",
       "1                 232.0     4.65988     4.674311  ...              0.0   \n",
       "2                 225.0     4.65988     4.674311  ...              0.0   \n",
       "3                 223.0     4.65988     4.674311  ...              0.0   \n",
       "4                 288.0     4.65988     4.674311  ...              0.0   \n",
       "5                 299.0     4.65988     4.674311  ...              0.0   \n",
       "\n",
       "   TRANSMISSION_AV1  TRANSMISSION_AV10  TRANSMISSION_AV6  TRANSMISSION_AV7  \\\n",
       "1               0.0                0.0               0.0               0.0   \n",
       "2               0.0                0.0               0.0               0.0   \n",
       "3               0.0                0.0               0.0               0.0   \n",
       "4               0.0                0.0               0.0               0.0   \n",
       "5               0.0                0.0               0.0               0.0   \n",
       "\n",
       "   TRANSMISSION_AV8  TRANSMISSION_M4  TRANSMISSION_M5  TRANSMISSION_M6  \\\n",
       "1               0.0              0.0              1.0              0.0   \n",
       "2               0.0              0.0              1.0              0.0   \n",
       "3               0.0              0.0              0.0              0.0   \n",
       "4               0.0              0.0              0.0              0.0   \n",
       "5               0.0              0.0              0.0              1.0   \n",
       "\n",
       "   TRANSMISSION_M7  \n",
       "1              0.0  \n",
       "2              0.0  \n",
       "3              0.0  \n",
       "4              0.0  \n",
       "5              0.0  \n",
       "\n",
       "[5 rows x 76 columns]"
      ]
     },
     "execution_count": 35,
     "metadata": {},
     "output_type": "execute_result"
    }
   ],
   "source": [
    "df.head()"
   ]
  },
  {
   "cell_type": "markdown",
   "id": "17258b8d",
   "metadata": {},
   "source": [
    "## Columns To Drop\n",
    "\n",
    "1. Model Year - Low Correaltion Value of -0.205244\n",
    "2. FUEL CONSUMPTION CITY (L/100) - multicollinearity\n",
    "3. FUEL CONSUMPTION HWY (L/100) - multicollinearity\n",
    "4. COMB (mpg) - duplicate column\n",
    "5. CO2 rating - as low correlation value of -0.47, where 72.5% were initially null values.\n",
    "6. Smog rating - as low correlation valie of 0.41, where 77% were initially null values."
   ]
  },
  {
   "cell_type": "code",
   "execution_count": 36,
   "id": "965cc277",
   "metadata": {
    "scrolled": true
   },
   "outputs": [],
   "source": [
    "df.drop(['MODEL YEAR', 'FUEL CONSUMPTION CITY (L/100)', 'FUEL CONSUMPTION HWY (L/100)', 'COMB (mpg)', 'Smog Rating'], axis=1, inplace=True)"
   ]
  },
  {
   "cell_type": "markdown",
   "id": "d45c36aa",
   "metadata": {},
   "source": [
    "### SPLITTING THE DATASET INTO TWO -\n",
    "\n",
    "1. df1 - Class Variable = 'CO2 EMISSIONS (g/km)' (Regression)\n",
    "2. df2 - Class Variable = 'CO2 Rating' (Classification)"
   ]
  },
  {
   "cell_type": "markdown",
   "id": "cf1ee30a",
   "metadata": {},
   "source": [
    "# PART1 - REGRESSION Analysis"
   ]
  },
  {
   "cell_type": "code",
   "execution_count": 37,
   "id": "531381a7",
   "metadata": {},
   "outputs": [
    {
     "data": {
      "text/html": [
       "<div>\n",
       "<style scoped>\n",
       "    .dataframe tbody tr th:only-of-type {\n",
       "        vertical-align: middle;\n",
       "    }\n",
       "\n",
       "    .dataframe tbody tr th {\n",
       "        vertical-align: top;\n",
       "    }\n",
       "\n",
       "    .dataframe thead th {\n",
       "        text-align: right;\n",
       "    }\n",
       "</style>\n",
       "<table border=\"1\" class=\"dataframe\">\n",
       "  <thead>\n",
       "    <tr style=\"text-align: right;\">\n",
       "      <th></th>\n",
       "      <th>ENGINE SIZE (L)</th>\n",
       "      <th>CYLINDERS</th>\n",
       "      <th>COMB (L/100 km)</th>\n",
       "      <th>CO2 EMISSIONS (g/km)</th>\n",
       "      <th>CO2 Rating</th>\n",
       "      <th>MAKE_NEW</th>\n",
       "      <th>MODEL_NEW</th>\n",
       "      <th>FUEL TYPE_E</th>\n",
       "      <th>FUEL TYPE_N</th>\n",
       "      <th>FUEL TYPE_X</th>\n",
       "      <th>...</th>\n",
       "      <th>TRANSMISSION_AV</th>\n",
       "      <th>TRANSMISSION_AV1</th>\n",
       "      <th>TRANSMISSION_AV10</th>\n",
       "      <th>TRANSMISSION_AV6</th>\n",
       "      <th>TRANSMISSION_AV7</th>\n",
       "      <th>TRANSMISSION_AV8</th>\n",
       "      <th>TRANSMISSION_M4</th>\n",
       "      <th>TRANSMISSION_M5</th>\n",
       "      <th>TRANSMISSION_M6</th>\n",
       "      <th>TRANSMISSION_M7</th>\n",
       "    </tr>\n",
       "  </thead>\n",
       "  <tbody>\n",
       "    <tr>\n",
       "      <th>1</th>\n",
       "      <td>1.8</td>\n",
       "      <td>4.0</td>\n",
       "      <td>10.1</td>\n",
       "      <td>232.0</td>\n",
       "      <td>4.65988</td>\n",
       "      <td>0.009588</td>\n",
       "      <td>0.000537</td>\n",
       "      <td>0.0</td>\n",
       "      <td>0.0</td>\n",
       "      <td>1.0</td>\n",
       "      <td>...</td>\n",
       "      <td>0.0</td>\n",
       "      <td>0.0</td>\n",
       "      <td>0.0</td>\n",
       "      <td>0.0</td>\n",
       "      <td>0.0</td>\n",
       "      <td>0.0</td>\n",
       "      <td>0.0</td>\n",
       "      <td>1.0</td>\n",
       "      <td>0.0</td>\n",
       "      <td>0.0</td>\n",
       "    </tr>\n",
       "    <tr>\n",
       "      <th>2</th>\n",
       "      <td>1.8</td>\n",
       "      <td>4.0</td>\n",
       "      <td>9.8</td>\n",
       "      <td>225.0</td>\n",
       "      <td>4.65988</td>\n",
       "      <td>0.009588</td>\n",
       "      <td>0.000537</td>\n",
       "      <td>0.0</td>\n",
       "      <td>0.0</td>\n",
       "      <td>0.0</td>\n",
       "      <td>...</td>\n",
       "      <td>0.0</td>\n",
       "      <td>0.0</td>\n",
       "      <td>0.0</td>\n",
       "      <td>0.0</td>\n",
       "      <td>0.0</td>\n",
       "      <td>0.0</td>\n",
       "      <td>0.0</td>\n",
       "      <td>1.0</td>\n",
       "      <td>0.0</td>\n",
       "      <td>0.0</td>\n",
       "    </tr>\n",
       "    <tr>\n",
       "      <th>3</th>\n",
       "      <td>1.8</td>\n",
       "      <td>4.0</td>\n",
       "      <td>9.7</td>\n",
       "      <td>223.0</td>\n",
       "      <td>4.65988</td>\n",
       "      <td>0.009588</td>\n",
       "      <td>0.000192</td>\n",
       "      <td>0.0</td>\n",
       "      <td>0.0</td>\n",
       "      <td>0.0</td>\n",
       "      <td>...</td>\n",
       "      <td>0.0</td>\n",
       "      <td>0.0</td>\n",
       "      <td>0.0</td>\n",
       "      <td>0.0</td>\n",
       "      <td>0.0</td>\n",
       "      <td>0.0</td>\n",
       "      <td>0.0</td>\n",
       "      <td>0.0</td>\n",
       "      <td>0.0</td>\n",
       "      <td>0.0</td>\n",
       "    </tr>\n",
       "    <tr>\n",
       "      <th>4</th>\n",
       "      <td>3.2</td>\n",
       "      <td>6.0</td>\n",
       "      <td>12.5</td>\n",
       "      <td>288.0</td>\n",
       "      <td>4.65988</td>\n",
       "      <td>0.009588</td>\n",
       "      <td>0.000038</td>\n",
       "      <td>0.0</td>\n",
       "      <td>0.0</td>\n",
       "      <td>0.0</td>\n",
       "      <td>...</td>\n",
       "      <td>0.0</td>\n",
       "      <td>0.0</td>\n",
       "      <td>0.0</td>\n",
       "      <td>0.0</td>\n",
       "      <td>0.0</td>\n",
       "      <td>0.0</td>\n",
       "      <td>0.0</td>\n",
       "      <td>0.0</td>\n",
       "      <td>0.0</td>\n",
       "      <td>0.0</td>\n",
       "    </tr>\n",
       "    <tr>\n",
       "      <th>5</th>\n",
       "      <td>3.2</td>\n",
       "      <td>6.0</td>\n",
       "      <td>13.0</td>\n",
       "      <td>299.0</td>\n",
       "      <td>4.65988</td>\n",
       "      <td>0.009588</td>\n",
       "      <td>0.000077</td>\n",
       "      <td>0.0</td>\n",
       "      <td>0.0</td>\n",
       "      <td>0.0</td>\n",
       "      <td>...</td>\n",
       "      <td>0.0</td>\n",
       "      <td>0.0</td>\n",
       "      <td>0.0</td>\n",
       "      <td>0.0</td>\n",
       "      <td>0.0</td>\n",
       "      <td>0.0</td>\n",
       "      <td>0.0</td>\n",
       "      <td>0.0</td>\n",
       "      <td>1.0</td>\n",
       "      <td>0.0</td>\n",
       "    </tr>\n",
       "  </tbody>\n",
       "</table>\n",
       "<p>5 rows × 71 columns</p>\n",
       "</div>"
      ],
      "text/plain": [
       "   ENGINE SIZE (L)  CYLINDERS  COMB (L/100 km)  CO2 EMISSIONS (g/km)  \\\n",
       "1              1.8        4.0             10.1                 232.0   \n",
       "2              1.8        4.0              9.8                 225.0   \n",
       "3              1.8        4.0              9.7                 223.0   \n",
       "4              3.2        6.0             12.5                 288.0   \n",
       "5              3.2        6.0             13.0                 299.0   \n",
       "\n",
       "   CO2 Rating  MAKE_NEW  MODEL_NEW  FUEL TYPE_E  FUEL TYPE_N  FUEL TYPE_X  \\\n",
       "1     4.65988  0.009588   0.000537          0.0          0.0          1.0   \n",
       "2     4.65988  0.009588   0.000537          0.0          0.0          0.0   \n",
       "3     4.65988  0.009588   0.000192          0.0          0.0          0.0   \n",
       "4     4.65988  0.009588   0.000038          0.0          0.0          0.0   \n",
       "5     4.65988  0.009588   0.000077          0.0          0.0          0.0   \n",
       "\n",
       "   ...  TRANSMISSION_AV  TRANSMISSION_AV1  TRANSMISSION_AV10  \\\n",
       "1  ...              0.0               0.0                0.0   \n",
       "2  ...              0.0               0.0                0.0   \n",
       "3  ...              0.0               0.0                0.0   \n",
       "4  ...              0.0               0.0                0.0   \n",
       "5  ...              0.0               0.0                0.0   \n",
       "\n",
       "   TRANSMISSION_AV6  TRANSMISSION_AV7  TRANSMISSION_AV8  TRANSMISSION_M4  \\\n",
       "1               0.0               0.0               0.0              0.0   \n",
       "2               0.0               0.0               0.0              0.0   \n",
       "3               0.0               0.0               0.0              0.0   \n",
       "4               0.0               0.0               0.0              0.0   \n",
       "5               0.0               0.0               0.0              0.0   \n",
       "\n",
       "   TRANSMISSION_M5  TRANSMISSION_M6  TRANSMISSION_M7  \n",
       "1              1.0              0.0              0.0  \n",
       "2              1.0              0.0              0.0  \n",
       "3              0.0              0.0              0.0  \n",
       "4              0.0              0.0              0.0  \n",
       "5              0.0              1.0              0.0  \n",
       "\n",
       "[5 rows x 71 columns]"
      ]
     },
     "execution_count": 37,
     "metadata": {},
     "output_type": "execute_result"
    }
   ],
   "source": [
    "df.head()"
   ]
  },
  {
   "cell_type": "code",
   "execution_count": 38,
   "id": "dec9c685",
   "metadata": {},
   "outputs": [
    {
     "data": {
      "text/html": [
       "<div>\n",
       "<style scoped>\n",
       "    .dataframe tbody tr th:only-of-type {\n",
       "        vertical-align: middle;\n",
       "    }\n",
       "\n",
       "    .dataframe tbody tr th {\n",
       "        vertical-align: top;\n",
       "    }\n",
       "\n",
       "    .dataframe thead th {\n",
       "        text-align: right;\n",
       "    }\n",
       "</style>\n",
       "<table border=\"1\" class=\"dataframe\">\n",
       "  <thead>\n",
       "    <tr style=\"text-align: right;\">\n",
       "      <th></th>\n",
       "      <th>ENGINE SIZE (L)</th>\n",
       "      <th>CYLINDERS</th>\n",
       "      <th>COMB (L/100 km)</th>\n",
       "      <th>CO2 EMISSIONS (g/km)</th>\n",
       "      <th>MAKE_NEW</th>\n",
       "      <th>MODEL_NEW</th>\n",
       "      <th>FUEL TYPE_E</th>\n",
       "      <th>FUEL TYPE_N</th>\n",
       "      <th>FUEL TYPE_X</th>\n",
       "      <th>FUEL TYPE_Z</th>\n",
       "      <th>...</th>\n",
       "      <th>TRANSMISSION_AV</th>\n",
       "      <th>TRANSMISSION_AV1</th>\n",
       "      <th>TRANSMISSION_AV10</th>\n",
       "      <th>TRANSMISSION_AV6</th>\n",
       "      <th>TRANSMISSION_AV7</th>\n",
       "      <th>TRANSMISSION_AV8</th>\n",
       "      <th>TRANSMISSION_M4</th>\n",
       "      <th>TRANSMISSION_M5</th>\n",
       "      <th>TRANSMISSION_M6</th>\n",
       "      <th>TRANSMISSION_M7</th>\n",
       "    </tr>\n",
       "  </thead>\n",
       "  <tbody>\n",
       "    <tr>\n",
       "      <th>1</th>\n",
       "      <td>1.8</td>\n",
       "      <td>4.0</td>\n",
       "      <td>10.1</td>\n",
       "      <td>232.0</td>\n",
       "      <td>0.009588</td>\n",
       "      <td>0.000537</td>\n",
       "      <td>0.0</td>\n",
       "      <td>0.0</td>\n",
       "      <td>1.0</td>\n",
       "      <td>0.0</td>\n",
       "      <td>...</td>\n",
       "      <td>0.0</td>\n",
       "      <td>0.0</td>\n",
       "      <td>0.0</td>\n",
       "      <td>0.0</td>\n",
       "      <td>0.0</td>\n",
       "      <td>0.0</td>\n",
       "      <td>0.0</td>\n",
       "      <td>1.0</td>\n",
       "      <td>0.0</td>\n",
       "      <td>0.0</td>\n",
       "    </tr>\n",
       "    <tr>\n",
       "      <th>2</th>\n",
       "      <td>1.8</td>\n",
       "      <td>4.0</td>\n",
       "      <td>9.8</td>\n",
       "      <td>225.0</td>\n",
       "      <td>0.009588</td>\n",
       "      <td>0.000537</td>\n",
       "      <td>0.0</td>\n",
       "      <td>0.0</td>\n",
       "      <td>0.0</td>\n",
       "      <td>1.0</td>\n",
       "      <td>...</td>\n",
       "      <td>0.0</td>\n",
       "      <td>0.0</td>\n",
       "      <td>0.0</td>\n",
       "      <td>0.0</td>\n",
       "      <td>0.0</td>\n",
       "      <td>0.0</td>\n",
       "      <td>0.0</td>\n",
       "      <td>1.0</td>\n",
       "      <td>0.0</td>\n",
       "      <td>0.0</td>\n",
       "    </tr>\n",
       "    <tr>\n",
       "      <th>3</th>\n",
       "      <td>1.8</td>\n",
       "      <td>4.0</td>\n",
       "      <td>9.7</td>\n",
       "      <td>223.0</td>\n",
       "      <td>0.009588</td>\n",
       "      <td>0.000192</td>\n",
       "      <td>0.0</td>\n",
       "      <td>0.0</td>\n",
       "      <td>0.0</td>\n",
       "      <td>1.0</td>\n",
       "      <td>...</td>\n",
       "      <td>0.0</td>\n",
       "      <td>0.0</td>\n",
       "      <td>0.0</td>\n",
       "      <td>0.0</td>\n",
       "      <td>0.0</td>\n",
       "      <td>0.0</td>\n",
       "      <td>0.0</td>\n",
       "      <td>0.0</td>\n",
       "      <td>0.0</td>\n",
       "      <td>0.0</td>\n",
       "    </tr>\n",
       "    <tr>\n",
       "      <th>4</th>\n",
       "      <td>3.2</td>\n",
       "      <td>6.0</td>\n",
       "      <td>12.5</td>\n",
       "      <td>288.0</td>\n",
       "      <td>0.009588</td>\n",
       "      <td>0.000038</td>\n",
       "      <td>0.0</td>\n",
       "      <td>0.0</td>\n",
       "      <td>0.0</td>\n",
       "      <td>1.0</td>\n",
       "      <td>...</td>\n",
       "      <td>0.0</td>\n",
       "      <td>0.0</td>\n",
       "      <td>0.0</td>\n",
       "      <td>0.0</td>\n",
       "      <td>0.0</td>\n",
       "      <td>0.0</td>\n",
       "      <td>0.0</td>\n",
       "      <td>0.0</td>\n",
       "      <td>0.0</td>\n",
       "      <td>0.0</td>\n",
       "    </tr>\n",
       "    <tr>\n",
       "      <th>5</th>\n",
       "      <td>3.2</td>\n",
       "      <td>6.0</td>\n",
       "      <td>13.0</td>\n",
       "      <td>299.0</td>\n",
       "      <td>0.009588</td>\n",
       "      <td>0.000077</td>\n",
       "      <td>0.0</td>\n",
       "      <td>0.0</td>\n",
       "      <td>0.0</td>\n",
       "      <td>1.0</td>\n",
       "      <td>...</td>\n",
       "      <td>0.0</td>\n",
       "      <td>0.0</td>\n",
       "      <td>0.0</td>\n",
       "      <td>0.0</td>\n",
       "      <td>0.0</td>\n",
       "      <td>0.0</td>\n",
       "      <td>0.0</td>\n",
       "      <td>0.0</td>\n",
       "      <td>1.0</td>\n",
       "      <td>0.0</td>\n",
       "    </tr>\n",
       "  </tbody>\n",
       "</table>\n",
       "<p>5 rows × 70 columns</p>\n",
       "</div>"
      ],
      "text/plain": [
       "   ENGINE SIZE (L)  CYLINDERS  COMB (L/100 km)  CO2 EMISSIONS (g/km)  \\\n",
       "1              1.8        4.0             10.1                 232.0   \n",
       "2              1.8        4.0              9.8                 225.0   \n",
       "3              1.8        4.0              9.7                 223.0   \n",
       "4              3.2        6.0             12.5                 288.0   \n",
       "5              3.2        6.0             13.0                 299.0   \n",
       "\n",
       "   MAKE_NEW  MODEL_NEW  FUEL TYPE_E  FUEL TYPE_N  FUEL TYPE_X  FUEL TYPE_Z  \\\n",
       "1  0.009588   0.000537          0.0          0.0          1.0          0.0   \n",
       "2  0.009588   0.000537          0.0          0.0          0.0          1.0   \n",
       "3  0.009588   0.000192          0.0          0.0          0.0          1.0   \n",
       "4  0.009588   0.000038          0.0          0.0          0.0          1.0   \n",
       "5  0.009588   0.000077          0.0          0.0          0.0          1.0   \n",
       "\n",
       "   ...  TRANSMISSION_AV  TRANSMISSION_AV1  TRANSMISSION_AV10  \\\n",
       "1  ...              0.0               0.0                0.0   \n",
       "2  ...              0.0               0.0                0.0   \n",
       "3  ...              0.0               0.0                0.0   \n",
       "4  ...              0.0               0.0                0.0   \n",
       "5  ...              0.0               0.0                0.0   \n",
       "\n",
       "   TRANSMISSION_AV6  TRANSMISSION_AV7  TRANSMISSION_AV8  TRANSMISSION_M4  \\\n",
       "1               0.0               0.0               0.0              0.0   \n",
       "2               0.0               0.0               0.0              0.0   \n",
       "3               0.0               0.0               0.0              0.0   \n",
       "4               0.0               0.0               0.0              0.0   \n",
       "5               0.0               0.0               0.0              0.0   \n",
       "\n",
       "   TRANSMISSION_M5  TRANSMISSION_M6  TRANSMISSION_M7  \n",
       "1              1.0              0.0              0.0  \n",
       "2              1.0              0.0              0.0  \n",
       "3              0.0              0.0              0.0  \n",
       "4              0.0              0.0              0.0  \n",
       "5              0.0              1.0              0.0  \n",
       "\n",
       "[5 rows x 70 columns]"
      ]
     },
     "execution_count": 38,
     "metadata": {},
     "output_type": "execute_result"
    }
   ],
   "source": [
    "dfreg = df.copy()\n",
    "dfreg.drop(['CO2 Rating'], axis=1, inplace=True)\n",
    "dfreg.head()"
   ]
  },
  {
   "cell_type": "code",
   "execution_count": 39,
   "id": "2aae8123",
   "metadata": {},
   "outputs": [
    {
     "data": {
      "text/html": [
       "<div>\n",
       "<style scoped>\n",
       "    .dataframe tbody tr th:only-of-type {\n",
       "        vertical-align: middle;\n",
       "    }\n",
       "\n",
       "    .dataframe tbody tr th {\n",
       "        vertical-align: top;\n",
       "    }\n",
       "\n",
       "    .dataframe thead th {\n",
       "        text-align: right;\n",
       "    }\n",
       "</style>\n",
       "<table border=\"1\" class=\"dataframe\">\n",
       "  <thead>\n",
       "    <tr style=\"text-align: right;\">\n",
       "      <th></th>\n",
       "      <th>ENGINE SIZE (L)</th>\n",
       "      <th>CYLINDERS</th>\n",
       "      <th>COMB (L/100 km)</th>\n",
       "      <th>MAKE_NEW</th>\n",
       "      <th>MODEL_NEW</th>\n",
       "      <th>FUEL TYPE_E</th>\n",
       "      <th>FUEL TYPE_N</th>\n",
       "      <th>FUEL TYPE_X</th>\n",
       "      <th>FUEL TYPE_Z</th>\n",
       "      <th>VEHICLE CLASS_Compact</th>\n",
       "      <th>...</th>\n",
       "      <th>TRANSMISSION_AV1</th>\n",
       "      <th>TRANSMISSION_AV10</th>\n",
       "      <th>TRANSMISSION_AV6</th>\n",
       "      <th>TRANSMISSION_AV7</th>\n",
       "      <th>TRANSMISSION_AV8</th>\n",
       "      <th>TRANSMISSION_M4</th>\n",
       "      <th>TRANSMISSION_M5</th>\n",
       "      <th>TRANSMISSION_M6</th>\n",
       "      <th>TRANSMISSION_M7</th>\n",
       "      <th>CO2 EMISSIONS (g/km)</th>\n",
       "    </tr>\n",
       "  </thead>\n",
       "  <tbody>\n",
       "    <tr>\n",
       "      <th>1</th>\n",
       "      <td>1.8</td>\n",
       "      <td>4.0</td>\n",
       "      <td>10.1</td>\n",
       "      <td>0.009588</td>\n",
       "      <td>0.000537</td>\n",
       "      <td>0.0</td>\n",
       "      <td>0.0</td>\n",
       "      <td>1.0</td>\n",
       "      <td>0.0</td>\n",
       "      <td>0.0</td>\n",
       "      <td>...</td>\n",
       "      <td>0.0</td>\n",
       "      <td>0.0</td>\n",
       "      <td>0.0</td>\n",
       "      <td>0.0</td>\n",
       "      <td>0.0</td>\n",
       "      <td>0.0</td>\n",
       "      <td>1.0</td>\n",
       "      <td>0.0</td>\n",
       "      <td>0.0</td>\n",
       "      <td>232.0</td>\n",
       "    </tr>\n",
       "    <tr>\n",
       "      <th>2</th>\n",
       "      <td>1.8</td>\n",
       "      <td>4.0</td>\n",
       "      <td>9.8</td>\n",
       "      <td>0.009588</td>\n",
       "      <td>0.000537</td>\n",
       "      <td>0.0</td>\n",
       "      <td>0.0</td>\n",
       "      <td>0.0</td>\n",
       "      <td>1.0</td>\n",
       "      <td>0.0</td>\n",
       "      <td>...</td>\n",
       "      <td>0.0</td>\n",
       "      <td>0.0</td>\n",
       "      <td>0.0</td>\n",
       "      <td>0.0</td>\n",
       "      <td>0.0</td>\n",
       "      <td>0.0</td>\n",
       "      <td>1.0</td>\n",
       "      <td>0.0</td>\n",
       "      <td>0.0</td>\n",
       "      <td>225.0</td>\n",
       "    </tr>\n",
       "    <tr>\n",
       "      <th>3</th>\n",
       "      <td>1.8</td>\n",
       "      <td>4.0</td>\n",
       "      <td>9.7</td>\n",
       "      <td>0.009588</td>\n",
       "      <td>0.000192</td>\n",
       "      <td>0.0</td>\n",
       "      <td>0.0</td>\n",
       "      <td>0.0</td>\n",
       "      <td>1.0</td>\n",
       "      <td>0.0</td>\n",
       "      <td>...</td>\n",
       "      <td>0.0</td>\n",
       "      <td>0.0</td>\n",
       "      <td>0.0</td>\n",
       "      <td>0.0</td>\n",
       "      <td>0.0</td>\n",
       "      <td>0.0</td>\n",
       "      <td>0.0</td>\n",
       "      <td>0.0</td>\n",
       "      <td>0.0</td>\n",
       "      <td>223.0</td>\n",
       "    </tr>\n",
       "    <tr>\n",
       "      <th>4</th>\n",
       "      <td>3.2</td>\n",
       "      <td>6.0</td>\n",
       "      <td>12.5</td>\n",
       "      <td>0.009588</td>\n",
       "      <td>0.000038</td>\n",
       "      <td>0.0</td>\n",
       "      <td>0.0</td>\n",
       "      <td>0.0</td>\n",
       "      <td>1.0</td>\n",
       "      <td>0.0</td>\n",
       "      <td>...</td>\n",
       "      <td>0.0</td>\n",
       "      <td>0.0</td>\n",
       "      <td>0.0</td>\n",
       "      <td>0.0</td>\n",
       "      <td>0.0</td>\n",
       "      <td>0.0</td>\n",
       "      <td>0.0</td>\n",
       "      <td>0.0</td>\n",
       "      <td>0.0</td>\n",
       "      <td>288.0</td>\n",
       "    </tr>\n",
       "    <tr>\n",
       "      <th>5</th>\n",
       "      <td>3.2</td>\n",
       "      <td>6.0</td>\n",
       "      <td>13.0</td>\n",
       "      <td>0.009588</td>\n",
       "      <td>0.000077</td>\n",
       "      <td>0.0</td>\n",
       "      <td>0.0</td>\n",
       "      <td>0.0</td>\n",
       "      <td>1.0</td>\n",
       "      <td>0.0</td>\n",
       "      <td>...</td>\n",
       "      <td>0.0</td>\n",
       "      <td>0.0</td>\n",
       "      <td>0.0</td>\n",
       "      <td>0.0</td>\n",
       "      <td>0.0</td>\n",
       "      <td>0.0</td>\n",
       "      <td>0.0</td>\n",
       "      <td>1.0</td>\n",
       "      <td>0.0</td>\n",
       "      <td>299.0</td>\n",
       "    </tr>\n",
       "  </tbody>\n",
       "</table>\n",
       "<p>5 rows × 70 columns</p>\n",
       "</div>"
      ],
      "text/plain": [
       "   ENGINE SIZE (L)  CYLINDERS  COMB (L/100 km)  MAKE_NEW  MODEL_NEW  \\\n",
       "1              1.8        4.0             10.1  0.009588   0.000537   \n",
       "2              1.8        4.0              9.8  0.009588   0.000537   \n",
       "3              1.8        4.0              9.7  0.009588   0.000192   \n",
       "4              3.2        6.0             12.5  0.009588   0.000038   \n",
       "5              3.2        6.0             13.0  0.009588   0.000077   \n",
       "\n",
       "   FUEL TYPE_E  FUEL TYPE_N  FUEL TYPE_X  FUEL TYPE_Z  VEHICLE CLASS_Compact  \\\n",
       "1          0.0          0.0          1.0          0.0                    0.0   \n",
       "2          0.0          0.0          0.0          1.0                    0.0   \n",
       "3          0.0          0.0          0.0          1.0                    0.0   \n",
       "4          0.0          0.0          0.0          1.0                    0.0   \n",
       "5          0.0          0.0          0.0          1.0                    0.0   \n",
       "\n",
       "   ...  TRANSMISSION_AV1  TRANSMISSION_AV10  TRANSMISSION_AV6  \\\n",
       "1  ...               0.0                0.0               0.0   \n",
       "2  ...               0.0                0.0               0.0   \n",
       "3  ...               0.0                0.0               0.0   \n",
       "4  ...               0.0                0.0               0.0   \n",
       "5  ...               0.0                0.0               0.0   \n",
       "\n",
       "   TRANSMISSION_AV7  TRANSMISSION_AV8  TRANSMISSION_M4  TRANSMISSION_M5  \\\n",
       "1               0.0               0.0              0.0              1.0   \n",
       "2               0.0               0.0              0.0              1.0   \n",
       "3               0.0               0.0              0.0              0.0   \n",
       "4               0.0               0.0              0.0              0.0   \n",
       "5               0.0               0.0              0.0              0.0   \n",
       "\n",
       "   TRANSMISSION_M6  TRANSMISSION_M7  CO2 EMISSIONS (g/km)  \n",
       "1              0.0              0.0                 232.0  \n",
       "2              0.0              0.0                 225.0  \n",
       "3              0.0              0.0                 223.0  \n",
       "4              0.0              0.0                 288.0  \n",
       "5              1.0              0.0                 299.0  \n",
       "\n",
       "[5 rows x 70 columns]"
      ]
     },
     "execution_count": 39,
     "metadata": {},
     "output_type": "execute_result"
    }
   ],
   "source": [
    "temp = dfreg[['CO2 EMISSIONS (g/km)']]\n",
    "dfreg.drop('CO2 EMISSIONS (g/km)', axis=1, inplace=True)\n",
    "dfreg = pd.concat([dfreg, temp], axis=1)\n",
    "dfreg.head()"
   ]
  },
  {
   "cell_type": "code",
   "execution_count": 40,
   "id": "a9fa908d",
   "metadata": {},
   "outputs": [],
   "source": [
    "X = dfreg.iloc[:,:69].values\n",
    "y = dfreg.iloc[:,-1].values"
   ]
  },
  {
   "cell_type": "markdown",
   "id": "272b212e",
   "metadata": {},
   "source": [
    "### Splitting the dataset into Training and Test set"
   ]
  },
  {
   "cell_type": "code",
   "execution_count": 41,
   "id": "b5ed11a1",
   "metadata": {},
   "outputs": [],
   "source": [
    "from sklearn.model_selection import train_test_split\n",
    "X_train, X_test, y_train, y_test = train_test_split(X, y, test_size = 0.2, random_state = 0)"
   ]
  },
  {
   "cell_type": "markdown",
   "id": "de01b55a",
   "metadata": {},
   "source": [
    "### Feature Scaling"
   ]
  },
  {
   "cell_type": "code",
   "execution_count": 42,
   "id": "6a3bf1ca",
   "metadata": {},
   "outputs": [],
   "source": [
    "from sklearn.preprocessing import StandardScaler\n",
    "sc = StandardScaler()\n",
    "X_train = sc.fit_transform(X_train)\n",
    "X_test = sc.transform(X_test)"
   ]
  },
  {
   "cell_type": "code",
   "execution_count": 43,
   "id": "3fdb421c",
   "metadata": {},
   "outputs": [
    {
     "name": "stdout",
     "output_type": "stream",
     "text": [
      "(20859, 69)\n",
      "(20859,)\n",
      "(5215, 69)\n",
      "(5215,)\n"
     ]
    }
   ],
   "source": [
    "print(X_train.shape)\n",
    "print(y_train.shape)\n",
    "print(X_test.shape)\n",
    "print(y_test.shape)"
   ]
  },
  {
   "cell_type": "markdown",
   "id": "aa2edf89",
   "metadata": {},
   "source": [
    "## Applying Regression Models"
   ]
  },
  {
   "cell_type": "markdown",
   "id": "38f523d6",
   "metadata": {},
   "source": [
    "### Case1: Multiple Linear Regression"
   ]
  },
  {
   "cell_type": "code",
   "execution_count": 44,
   "id": "867d92bd",
   "metadata": {},
   "outputs": [
    {
     "data": {
      "text/plain": [
       "LinearRegression()"
      ]
     },
     "execution_count": 44,
     "metadata": {},
     "output_type": "execute_result"
    }
   ],
   "source": [
    "from sklearn.linear_model import LinearRegression\n",
    "regressor_mlr = LinearRegression()\n",
    "regressor_mlr.fit(X_train, y_train)"
   ]
  },
  {
   "cell_type": "markdown",
   "id": "7df12da7",
   "metadata": {},
   "source": [
    "### Case2: Decision Tree Regression"
   ]
  },
  {
   "cell_type": "code",
   "execution_count": 45,
   "id": "077e43d7",
   "metadata": {},
   "outputs": [
    {
     "data": {
      "text/plain": [
       "DecisionTreeRegressor(random_state=0)"
      ]
     },
     "execution_count": 45,
     "metadata": {},
     "output_type": "execute_result"
    }
   ],
   "source": [
    "from sklearn.tree import DecisionTreeRegressor\n",
    "regressor_dtr = DecisionTreeRegressor(random_state = 0)\n",
    "regressor_dtr.fit(X_train, y_train)"
   ]
  },
  {
   "cell_type": "markdown",
   "id": "4e56a468",
   "metadata": {},
   "source": [
    "### Case3: Polynomial Regression"
   ]
  },
  {
   "cell_type": "code",
   "execution_count": 46,
   "id": "3195a031",
   "metadata": {},
   "outputs": [
    {
     "data": {
      "text/plain": [
       "LinearRegression()"
      ]
     },
     "execution_count": 46,
     "metadata": {},
     "output_type": "execute_result"
    }
   ],
   "source": [
    "from sklearn.preprocessing import PolynomialFeatures\n",
    "from sklearn.linear_model import LinearRegression\n",
    "poly_reg = PolynomialFeatures(degree = 2)\n",
    "X_poly = poly_reg.fit_transform(X_train)\n",
    "regressor_poly = LinearRegression()\n",
    "regressor_poly.fit(X_poly, y_train)"
   ]
  },
  {
   "cell_type": "markdown",
   "id": "0a995f49",
   "metadata": {},
   "source": [
    "### Case4: Random Forest Reggresion "
   ]
  },
  {
   "cell_type": "code",
   "execution_count": 47,
   "id": "4113c563",
   "metadata": {},
   "outputs": [
    {
     "data": {
      "text/plain": [
       "RandomForestRegressor(n_estimators=10, random_state=0)"
      ]
     },
     "execution_count": 47,
     "metadata": {},
     "output_type": "execute_result"
    }
   ],
   "source": [
    "from sklearn.ensemble import RandomForestRegressor\n",
    "regressor_rfr = RandomForestRegressor(n_estimators = 10, random_state = 0)\n",
    "regressor_rfr.fit(X_train, y_train)"
   ]
  },
  {
   "cell_type": "markdown",
   "id": "9db99fa5",
   "metadata": {},
   "source": [
    "### Case5: Support Vector Regression (SVR)"
   ]
  },
  {
   "cell_type": "code",
   "execution_count": 48,
   "id": "07c5825d",
   "metadata": {},
   "outputs": [
    {
     "data": {
      "text/plain": [
       "SVR()"
      ]
     },
     "execution_count": 48,
     "metadata": {},
     "output_type": "execute_result"
    }
   ],
   "source": [
    "from sklearn.svm import SVR\n",
    "regressor_svr = SVR(kernel = 'rbf')\n",
    "regressor_svr.fit(X_train, y_train)"
   ]
  },
  {
   "cell_type": "markdown",
   "id": "80a1e3cc",
   "metadata": {},
   "source": [
    "## Evaluating the Model Performance"
   ]
  },
  {
   "cell_type": "markdown",
   "id": "60e8a9cd",
   "metadata": {},
   "source": [
    "### Case1: Multiple Linear Regression"
   ]
  },
  {
   "cell_type": "code",
   "execution_count": 49,
   "id": "6af36afe",
   "metadata": {},
   "outputs": [
    {
     "name": "stdout",
     "output_type": "stream",
     "text": [
      "[[221.91 218.  ]\n",
      " [235.21 237.  ]\n",
      " [222.22 234.  ]\n",
      " ...\n",
      " [174.55 162.  ]\n",
      " [240.88 249.  ]\n",
      " [229.75 237.  ]]\n"
     ]
    }
   ],
   "source": [
    "y_pred = regressor_mlr.predict(X_test)\n",
    "np.set_printoptions(precision=2)\n",
    "print(np.concatenate((y_pred.reshape(len(y_pred),1), y_test.reshape(len(y_test),1)),1))"
   ]
  },
  {
   "cell_type": "code",
   "execution_count": 50,
   "id": "b820dde9",
   "metadata": {},
   "outputs": [
    {
     "data": {
      "text/plain": [
       "0.9041845694811447"
      ]
     },
     "execution_count": 50,
     "metadata": {},
     "output_type": "execute_result"
    }
   ],
   "source": [
    "from sklearn.metrics import r2_score\n",
    "r2_score(y_test, y_pred)"
   ]
  },
  {
   "cell_type": "code",
   "execution_count": 51,
   "id": "d8572a5b",
   "metadata": {},
   "outputs": [
    {
     "name": "stdout",
     "output_type": "stream",
     "text": [
      "R2: 0.90\n",
      "Standard Deviation: 0.98\n"
     ]
    }
   ],
   "source": [
    "from sklearn.model_selection import cross_val_score\n",
    "r2 = cross_val_score(estimator = regressor_mlr, X = X_train, y = y_train, cv = 10)\n",
    "print(\"R2: {:.2f}\".format(r2.mean()))\n",
    "print(\"Standard Deviation: {:.2f}\".format(r2.std()*100))"
   ]
  },
  {
   "cell_type": "markdown",
   "id": "9e535f49",
   "metadata": {},
   "source": [
    "### Case2: Decision Tree Regression"
   ]
  },
  {
   "cell_type": "code",
   "execution_count": 52,
   "id": "a9ea53ba",
   "metadata": {},
   "outputs": [
    {
     "name": "stdout",
     "output_type": "stream",
     "text": [
      "[[218. 218.]\n",
      " [237. 237.]\n",
      " [234. 234.]\n",
      " ...\n",
      " [162. 162.]\n",
      " [249. 249.]\n",
      " [237. 237.]]\n"
     ]
    }
   ],
   "source": [
    "y_pred = regressor_dtr.predict(X_test)\n",
    "np.set_printoptions(precision=2)\n",
    "print(np.concatenate((y_pred.reshape(len(y_pred),1), y_test.reshape(len(y_test),1)),1))"
   ]
  },
  {
   "cell_type": "code",
   "execution_count": 53,
   "id": "9af47f17",
   "metadata": {},
   "outputs": [
    {
     "data": {
      "text/plain": [
       "0.9805837379725089"
      ]
     },
     "execution_count": 53,
     "metadata": {},
     "output_type": "execute_result"
    }
   ],
   "source": [
    "from sklearn.metrics import r2_score\n",
    "r2_score(y_test, y_pred)"
   ]
  },
  {
   "cell_type": "code",
   "execution_count": 54,
   "id": "14fd5a06",
   "metadata": {},
   "outputs": [
    {
     "name": "stdout",
     "output_type": "stream",
     "text": [
      "R2: 0.97\n",
      "Standard Deviation: 0.59\n"
     ]
    }
   ],
   "source": [
    "from sklearn.model_selection import cross_val_score\n",
    "r2 = cross_val_score(estimator = regressor_dtr, X = X_train, y = y_train, cv = 10)\n",
    "print(\"R2: {:.2f}\".format(r2.mean()))\n",
    "print(\"Standard Deviation: {:.2f}\".format(r2.std()*100))"
   ]
  },
  {
   "cell_type": "markdown",
   "id": "3a546184",
   "metadata": {},
   "source": [
    "### Case3: Polynomial Regression"
   ]
  },
  {
   "cell_type": "code",
   "execution_count": 55,
   "id": "d252157d",
   "metadata": {},
   "outputs": [
    {
     "name": "stdout",
     "output_type": "stream",
     "text": [
      "[[227.17 218.  ]\n",
      " [242.14 237.  ]\n",
      " [227.9  234.  ]\n",
      " ...\n",
      " [143.03 162.  ]\n",
      " [247.23 249.  ]\n",
      " [234.65 237.  ]]\n"
     ]
    }
   ],
   "source": [
    "y_pred = regressor_poly.predict(poly_reg.transform(X_test))\n",
    "np.set_printoptions(precision=2)\n",
    "print(np.concatenate((y_pred.reshape(len(y_pred),1), y_test.reshape(len(y_test),1)),1))"
   ]
  },
  {
   "cell_type": "code",
   "execution_count": 56,
   "id": "41354a28",
   "metadata": {},
   "outputs": [
    {
     "data": {
      "text/plain": [
       "-1695812301817685.2"
      ]
     },
     "execution_count": 56,
     "metadata": {},
     "output_type": "execute_result"
    }
   ],
   "source": [
    "from sklearn.metrics import r2_score\n",
    "r2_score(y_test, y_pred)"
   ]
  },
  {
   "cell_type": "code",
   "execution_count": 57,
   "id": "822deb56",
   "metadata": {},
   "outputs": [
    {
     "name": "stdout",
     "output_type": "stream",
     "text": [
      "R2: 0.90\n",
      "Standard Deviation: 0.98\n"
     ]
    }
   ],
   "source": [
    "from sklearn.model_selection import cross_val_score\n",
    "r2 = cross_val_score(estimator = regressor_poly, X = X_train, y = y_train, cv = 10)\n",
    "print(\"R2: {:.2f}\".format(r2.mean()))\n",
    "print(\"Standard Deviation: {:.2f}\".format(r2.std()*100))"
   ]
  },
  {
   "cell_type": "markdown",
   "id": "2b2499ab",
   "metadata": {},
   "source": [
    "### Case4: Random Forest Reggresion "
   ]
  },
  {
   "cell_type": "code",
   "execution_count": 58,
   "id": "d4321a56",
   "metadata": {},
   "outputs": [
    {
     "name": "stdout",
     "output_type": "stream",
     "text": [
      "[[217.6 218. ]\n",
      " [237.6 237. ]\n",
      " [233.2 234. ]\n",
      " ...\n",
      " [162.  162. ]\n",
      " [248.1 249. ]\n",
      " [237.  237. ]]\n"
     ]
    }
   ],
   "source": [
    "y_pred = regressor_rfr.predict(X_test)\n",
    "np.set_printoptions(precision=2)\n",
    "print(np.concatenate((y_pred.reshape(len(y_pred),1), y_test.reshape(len(y_test),1)),1))"
   ]
  },
  {
   "cell_type": "code",
   "execution_count": 59,
   "id": "7b6d8ad2",
   "metadata": {},
   "outputs": [
    {
     "data": {
      "text/plain": [
       "0.9866458513572308"
      ]
     },
     "execution_count": 59,
     "metadata": {},
     "output_type": "execute_result"
    }
   ],
   "source": [
    "from sklearn.metrics import r2_score\n",
    "r2_score(y_test, y_pred)"
   ]
  },
  {
   "cell_type": "code",
   "execution_count": 60,
   "id": "be7a55ba",
   "metadata": {},
   "outputs": [
    {
     "name": "stdout",
     "output_type": "stream",
     "text": [
      "R2: 0.98\n",
      "Standard Deviation: 0.34\n"
     ]
    }
   ],
   "source": [
    "from sklearn.model_selection import cross_val_score\n",
    "r2 = cross_val_score(estimator = regressor_rfr, X = X_train, y = y_train, cv = 10)\n",
    "print(\"R2: {:.2f}\".format(r2.mean()))\n",
    "print(\"Standard Deviation: {:.2f}\".format(r2.std()*100))"
   ]
  },
  {
   "cell_type": "markdown",
   "id": "7833398b",
   "metadata": {},
   "source": [
    "### Case5: Support Vector Regression (SVR)"
   ]
  },
  {
   "cell_type": "code",
   "execution_count": 61,
   "id": "94cda52b",
   "metadata": {},
   "outputs": [
    {
     "name": "stdout",
     "output_type": "stream",
     "text": [
      "[[232.09 218.  ]\n",
      " [243.12 237.  ]\n",
      " [242.2  234.  ]\n",
      " ...\n",
      " [146.22 162.  ]\n",
      " [244.99 249.  ]\n",
      " [240.38 237.  ]]\n"
     ]
    }
   ],
   "source": [
    "y_pred = regressor_svr.predict(X_test)\n",
    "np.set_printoptions(precision=2)\n",
    "print(np.concatenate((y_pred.reshape(len(y_pred),1), y_test.reshape(len(y_test),1)),1))"
   ]
  },
  {
   "cell_type": "code",
   "execution_count": 62,
   "id": "c4c9eb11",
   "metadata": {},
   "outputs": [
    {
     "data": {
      "text/plain": [
       "0.8272655809291488"
      ]
     },
     "execution_count": 62,
     "metadata": {},
     "output_type": "execute_result"
    }
   ],
   "source": [
    "from sklearn.metrics import r2_score\n",
    "r2_score(y_test, y_pred)"
   ]
  },
  {
   "cell_type": "code",
   "execution_count": 63,
   "id": "2ecdc631",
   "metadata": {},
   "outputs": [
    {
     "name": "stdout",
     "output_type": "stream",
     "text": [
      "R2: 0.82\n",
      "Standard Deviation: 1.31\n"
     ]
    }
   ],
   "source": [
    "from sklearn.model_selection import cross_val_score\n",
    "r2 = cross_val_score(estimator = regressor_svr, X = X_train, y = y_train, cv = 10)\n",
    "print(\"R2: {:.2f}\".format(r2.mean()))\n",
    "print(\"Standard Deviation: {:.2f}\".format(r2.std()*100))"
   ]
  },
  {
   "cell_type": "markdown",
   "id": "06ed9575",
   "metadata": {},
   "source": [
    "# PART2 - CLASSIFICATION Analysis"
   ]
  },
  {
   "cell_type": "code",
   "execution_count": 64,
   "id": "35495fbc",
   "metadata": {},
   "outputs": [],
   "source": [
    "dfclf = df.copy()\n",
    "dfclf.drop(dfclf.index[0:18904],axis=0, inplace=True)\n",
    "dfclf.drop(['CO2 EMISSIONS (g/km)'], axis=1, inplace=True)\n",
    "dfclf.reset_index(inplace=True)\n",
    "dfclf.drop('index', axis=1, inplace=True)"
   ]
  },
  {
   "cell_type": "code",
   "execution_count": 65,
   "id": "83b944e6",
   "metadata": {},
   "outputs": [
    {
     "data": {
      "text/plain": [
       "(7170, 70)"
      ]
     },
     "execution_count": 65,
     "metadata": {},
     "output_type": "execute_result"
    }
   ],
   "source": [
    "dfclf.shape"
   ]
  },
  {
   "cell_type": "code",
   "execution_count": 66,
   "id": "4c98bc0d",
   "metadata": {},
   "outputs": [
    {
     "data": {
      "text/html": [
       "<div>\n",
       "<style scoped>\n",
       "    .dataframe tbody tr th:only-of-type {\n",
       "        vertical-align: middle;\n",
       "    }\n",
       "\n",
       "    .dataframe tbody tr th {\n",
       "        vertical-align: top;\n",
       "    }\n",
       "\n",
       "    .dataframe thead th {\n",
       "        text-align: right;\n",
       "    }\n",
       "</style>\n",
       "<table border=\"1\" class=\"dataframe\">\n",
       "  <thead>\n",
       "    <tr style=\"text-align: right;\">\n",
       "      <th></th>\n",
       "      <th>ENGINE SIZE (L)</th>\n",
       "      <th>CYLINDERS</th>\n",
       "      <th>COMB (L/100 km)</th>\n",
       "      <th>CO2 Rating</th>\n",
       "      <th>MAKE_NEW</th>\n",
       "      <th>MODEL_NEW</th>\n",
       "      <th>FUEL TYPE_E</th>\n",
       "      <th>FUEL TYPE_N</th>\n",
       "      <th>FUEL TYPE_X</th>\n",
       "      <th>FUEL TYPE_Z</th>\n",
       "      <th>...</th>\n",
       "      <th>TRANSMISSION_AV</th>\n",
       "      <th>TRANSMISSION_AV1</th>\n",
       "      <th>TRANSMISSION_AV10</th>\n",
       "      <th>TRANSMISSION_AV6</th>\n",
       "      <th>TRANSMISSION_AV7</th>\n",
       "      <th>TRANSMISSION_AV8</th>\n",
       "      <th>TRANSMISSION_M4</th>\n",
       "      <th>TRANSMISSION_M5</th>\n",
       "      <th>TRANSMISSION_M6</th>\n",
       "      <th>TRANSMISSION_M7</th>\n",
       "    </tr>\n",
       "  </thead>\n",
       "  <tbody>\n",
       "    <tr>\n",
       "      <th>0</th>\n",
       "      <td>2.4</td>\n",
       "      <td>4.0</td>\n",
       "      <td>8.1</td>\n",
       "      <td>7.0</td>\n",
       "      <td>0.009588</td>\n",
       "      <td>0.000499</td>\n",
       "      <td>0.0</td>\n",
       "      <td>0.0</td>\n",
       "      <td>0.0</td>\n",
       "      <td>1.0</td>\n",
       "      <td>...</td>\n",
       "      <td>0.0</td>\n",
       "      <td>0.0</td>\n",
       "      <td>0.0</td>\n",
       "      <td>0.0</td>\n",
       "      <td>0.0</td>\n",
       "      <td>0.0</td>\n",
       "      <td>0.0</td>\n",
       "      <td>0.0</td>\n",
       "      <td>0.0</td>\n",
       "      <td>0.0</td>\n",
       "    </tr>\n",
       "    <tr>\n",
       "      <th>1</th>\n",
       "      <td>3.5</td>\n",
       "      <td>6.0</td>\n",
       "      <td>11.1</td>\n",
       "      <td>5.0</td>\n",
       "      <td>0.009588</td>\n",
       "      <td>0.000268</td>\n",
       "      <td>0.0</td>\n",
       "      <td>0.0</td>\n",
       "      <td>0.0</td>\n",
       "      <td>1.0</td>\n",
       "      <td>...</td>\n",
       "      <td>0.0</td>\n",
       "      <td>0.0</td>\n",
       "      <td>0.0</td>\n",
       "      <td>0.0</td>\n",
       "      <td>0.0</td>\n",
       "      <td>0.0</td>\n",
       "      <td>0.0</td>\n",
       "      <td>0.0</td>\n",
       "      <td>0.0</td>\n",
       "      <td>0.0</td>\n",
       "    </tr>\n",
       "    <tr>\n",
       "      <th>2</th>\n",
       "      <td>3.5</td>\n",
       "      <td>6.0</td>\n",
       "      <td>10.7</td>\n",
       "      <td>5.0</td>\n",
       "      <td>0.009588</td>\n",
       "      <td>0.000077</td>\n",
       "      <td>0.0</td>\n",
       "      <td>0.0</td>\n",
       "      <td>0.0</td>\n",
       "      <td>1.0</td>\n",
       "      <td>...</td>\n",
       "      <td>0.0</td>\n",
       "      <td>0.0</td>\n",
       "      <td>0.0</td>\n",
       "      <td>0.0</td>\n",
       "      <td>0.0</td>\n",
       "      <td>0.0</td>\n",
       "      <td>0.0</td>\n",
       "      <td>0.0</td>\n",
       "      <td>0.0</td>\n",
       "      <td>0.0</td>\n",
       "    </tr>\n",
       "    <tr>\n",
       "      <th>3</th>\n",
       "      <td>3.5</td>\n",
       "      <td>6.0</td>\n",
       "      <td>10.7</td>\n",
       "      <td>5.0</td>\n",
       "      <td>0.009588</td>\n",
       "      <td>0.000307</td>\n",
       "      <td>0.0</td>\n",
       "      <td>0.0</td>\n",
       "      <td>0.0</td>\n",
       "      <td>1.0</td>\n",
       "      <td>...</td>\n",
       "      <td>0.0</td>\n",
       "      <td>0.0</td>\n",
       "      <td>0.0</td>\n",
       "      <td>0.0</td>\n",
       "      <td>0.0</td>\n",
       "      <td>0.0</td>\n",
       "      <td>0.0</td>\n",
       "      <td>0.0</td>\n",
       "      <td>0.0</td>\n",
       "      <td>0.0</td>\n",
       "    </tr>\n",
       "    <tr>\n",
       "      <th>4</th>\n",
       "      <td>3.5</td>\n",
       "      <td>6.0</td>\n",
       "      <td>10.0</td>\n",
       "      <td>5.0</td>\n",
       "      <td>0.009588</td>\n",
       "      <td>0.000115</td>\n",
       "      <td>0.0</td>\n",
       "      <td>0.0</td>\n",
       "      <td>0.0</td>\n",
       "      <td>1.0</td>\n",
       "      <td>...</td>\n",
       "      <td>0.0</td>\n",
       "      <td>0.0</td>\n",
       "      <td>0.0</td>\n",
       "      <td>0.0</td>\n",
       "      <td>0.0</td>\n",
       "      <td>0.0</td>\n",
       "      <td>0.0</td>\n",
       "      <td>0.0</td>\n",
       "      <td>0.0</td>\n",
       "      <td>0.0</td>\n",
       "    </tr>\n",
       "  </tbody>\n",
       "</table>\n",
       "<p>5 rows × 70 columns</p>\n",
       "</div>"
      ],
      "text/plain": [
       "   ENGINE SIZE (L)  CYLINDERS  COMB (L/100 km)  CO2 Rating  MAKE_NEW  \\\n",
       "0              2.4        4.0              8.1         7.0  0.009588   \n",
       "1              3.5        6.0             11.1         5.0  0.009588   \n",
       "2              3.5        6.0             10.7         5.0  0.009588   \n",
       "3              3.5        6.0             10.7         5.0  0.009588   \n",
       "4              3.5        6.0             10.0         5.0  0.009588   \n",
       "\n",
       "   MODEL_NEW  FUEL TYPE_E  FUEL TYPE_N  FUEL TYPE_X  FUEL TYPE_Z  ...  \\\n",
       "0   0.000499          0.0          0.0          0.0          1.0  ...   \n",
       "1   0.000268          0.0          0.0          0.0          1.0  ...   \n",
       "2   0.000077          0.0          0.0          0.0          1.0  ...   \n",
       "3   0.000307          0.0          0.0          0.0          1.0  ...   \n",
       "4   0.000115          0.0          0.0          0.0          1.0  ...   \n",
       "\n",
       "   TRANSMISSION_AV  TRANSMISSION_AV1  TRANSMISSION_AV10  TRANSMISSION_AV6  \\\n",
       "0              0.0               0.0                0.0               0.0   \n",
       "1              0.0               0.0                0.0               0.0   \n",
       "2              0.0               0.0                0.0               0.0   \n",
       "3              0.0               0.0                0.0               0.0   \n",
       "4              0.0               0.0                0.0               0.0   \n",
       "\n",
       "   TRANSMISSION_AV7  TRANSMISSION_AV8  TRANSMISSION_M4  TRANSMISSION_M5  \\\n",
       "0               0.0               0.0              0.0              0.0   \n",
       "1               0.0               0.0              0.0              0.0   \n",
       "2               0.0               0.0              0.0              0.0   \n",
       "3               0.0               0.0              0.0              0.0   \n",
       "4               0.0               0.0              0.0              0.0   \n",
       "\n",
       "   TRANSMISSION_M6  TRANSMISSION_M7  \n",
       "0              0.0              0.0  \n",
       "1              0.0              0.0  \n",
       "2              0.0              0.0  \n",
       "3              0.0              0.0  \n",
       "4              0.0              0.0  \n",
       "\n",
       "[5 rows x 70 columns]"
      ]
     },
     "execution_count": 66,
     "metadata": {},
     "output_type": "execute_result"
    }
   ],
   "source": [
    "dfclf.head()"
   ]
  },
  {
   "cell_type": "code",
   "execution_count": 67,
   "id": "c9ef1987",
   "metadata": {},
   "outputs": [
    {
     "data": {
      "text/plain": [
       "5.0     1888\n",
       "4.0     1634\n",
       "3.0     1237\n",
       "6.0      918\n",
       "7.0      654\n",
       "2.0      383\n",
       "8.0      180\n",
       "1.0      138\n",
       "9.0       86\n",
       "10.0      52\n",
       "Name: CO2 Rating, dtype: int64"
      ]
     },
     "execution_count": 67,
     "metadata": {},
     "output_type": "execute_result"
    }
   ],
   "source": [
    "dfclf['CO2 Rating'].value_counts()"
   ]
  },
  {
   "cell_type": "code",
   "execution_count": 68,
   "id": "d06f8a46",
   "metadata": {},
   "outputs": [
    {
     "data": {
      "text/html": [
       "<div>\n",
       "<style scoped>\n",
       "    .dataframe tbody tr th:only-of-type {\n",
       "        vertical-align: middle;\n",
       "    }\n",
       "\n",
       "    .dataframe tbody tr th {\n",
       "        vertical-align: top;\n",
       "    }\n",
       "\n",
       "    .dataframe thead th {\n",
       "        text-align: right;\n",
       "    }\n",
       "</style>\n",
       "<table border=\"1\" class=\"dataframe\">\n",
       "  <thead>\n",
       "    <tr style=\"text-align: right;\">\n",
       "      <th></th>\n",
       "      <th>ENGINE SIZE (L)</th>\n",
       "      <th>CYLINDERS</th>\n",
       "      <th>COMB (L/100 km)</th>\n",
       "      <th>MAKE_NEW</th>\n",
       "      <th>MODEL_NEW</th>\n",
       "      <th>FUEL TYPE_E</th>\n",
       "      <th>FUEL TYPE_N</th>\n",
       "      <th>FUEL TYPE_X</th>\n",
       "      <th>FUEL TYPE_Z</th>\n",
       "      <th>VEHICLE CLASS_Compact</th>\n",
       "      <th>...</th>\n",
       "      <th>TRANSMISSION_AV1</th>\n",
       "      <th>TRANSMISSION_AV10</th>\n",
       "      <th>TRANSMISSION_AV6</th>\n",
       "      <th>TRANSMISSION_AV7</th>\n",
       "      <th>TRANSMISSION_AV8</th>\n",
       "      <th>TRANSMISSION_M4</th>\n",
       "      <th>TRANSMISSION_M5</th>\n",
       "      <th>TRANSMISSION_M6</th>\n",
       "      <th>TRANSMISSION_M7</th>\n",
       "      <th>CO2 Rating</th>\n",
       "    </tr>\n",
       "  </thead>\n",
       "  <tbody>\n",
       "    <tr>\n",
       "      <th>0</th>\n",
       "      <td>2.4</td>\n",
       "      <td>4.0</td>\n",
       "      <td>8.1</td>\n",
       "      <td>0.009588</td>\n",
       "      <td>0.000499</td>\n",
       "      <td>0.0</td>\n",
       "      <td>0.0</td>\n",
       "      <td>0.0</td>\n",
       "      <td>1.0</td>\n",
       "      <td>0.0</td>\n",
       "      <td>...</td>\n",
       "      <td>0.0</td>\n",
       "      <td>0.0</td>\n",
       "      <td>0.0</td>\n",
       "      <td>0.0</td>\n",
       "      <td>0.0</td>\n",
       "      <td>0.0</td>\n",
       "      <td>0.0</td>\n",
       "      <td>0.0</td>\n",
       "      <td>0.0</td>\n",
       "      <td>7.0</td>\n",
       "    </tr>\n",
       "    <tr>\n",
       "      <th>1</th>\n",
       "      <td>3.5</td>\n",
       "      <td>6.0</td>\n",
       "      <td>11.1</td>\n",
       "      <td>0.009588</td>\n",
       "      <td>0.000268</td>\n",
       "      <td>0.0</td>\n",
       "      <td>0.0</td>\n",
       "      <td>0.0</td>\n",
       "      <td>1.0</td>\n",
       "      <td>0.0</td>\n",
       "      <td>...</td>\n",
       "      <td>0.0</td>\n",
       "      <td>0.0</td>\n",
       "      <td>0.0</td>\n",
       "      <td>0.0</td>\n",
       "      <td>0.0</td>\n",
       "      <td>0.0</td>\n",
       "      <td>0.0</td>\n",
       "      <td>0.0</td>\n",
       "      <td>0.0</td>\n",
       "      <td>5.0</td>\n",
       "    </tr>\n",
       "    <tr>\n",
       "      <th>2</th>\n",
       "      <td>3.5</td>\n",
       "      <td>6.0</td>\n",
       "      <td>10.7</td>\n",
       "      <td>0.009588</td>\n",
       "      <td>0.000077</td>\n",
       "      <td>0.0</td>\n",
       "      <td>0.0</td>\n",
       "      <td>0.0</td>\n",
       "      <td>1.0</td>\n",
       "      <td>0.0</td>\n",
       "      <td>...</td>\n",
       "      <td>0.0</td>\n",
       "      <td>0.0</td>\n",
       "      <td>0.0</td>\n",
       "      <td>0.0</td>\n",
       "      <td>0.0</td>\n",
       "      <td>0.0</td>\n",
       "      <td>0.0</td>\n",
       "      <td>0.0</td>\n",
       "      <td>0.0</td>\n",
       "      <td>5.0</td>\n",
       "    </tr>\n",
       "    <tr>\n",
       "      <th>3</th>\n",
       "      <td>3.5</td>\n",
       "      <td>6.0</td>\n",
       "      <td>10.7</td>\n",
       "      <td>0.009588</td>\n",
       "      <td>0.000307</td>\n",
       "      <td>0.0</td>\n",
       "      <td>0.0</td>\n",
       "      <td>0.0</td>\n",
       "      <td>1.0</td>\n",
       "      <td>0.0</td>\n",
       "      <td>...</td>\n",
       "      <td>0.0</td>\n",
       "      <td>0.0</td>\n",
       "      <td>0.0</td>\n",
       "      <td>0.0</td>\n",
       "      <td>0.0</td>\n",
       "      <td>0.0</td>\n",
       "      <td>0.0</td>\n",
       "      <td>0.0</td>\n",
       "      <td>0.0</td>\n",
       "      <td>5.0</td>\n",
       "    </tr>\n",
       "    <tr>\n",
       "      <th>4</th>\n",
       "      <td>3.5</td>\n",
       "      <td>6.0</td>\n",
       "      <td>10.0</td>\n",
       "      <td>0.009588</td>\n",
       "      <td>0.000115</td>\n",
       "      <td>0.0</td>\n",
       "      <td>0.0</td>\n",
       "      <td>0.0</td>\n",
       "      <td>1.0</td>\n",
       "      <td>0.0</td>\n",
       "      <td>...</td>\n",
       "      <td>0.0</td>\n",
       "      <td>0.0</td>\n",
       "      <td>0.0</td>\n",
       "      <td>0.0</td>\n",
       "      <td>0.0</td>\n",
       "      <td>0.0</td>\n",
       "      <td>0.0</td>\n",
       "      <td>0.0</td>\n",
       "      <td>0.0</td>\n",
       "      <td>5.0</td>\n",
       "    </tr>\n",
       "  </tbody>\n",
       "</table>\n",
       "<p>5 rows × 70 columns</p>\n",
       "</div>"
      ],
      "text/plain": [
       "   ENGINE SIZE (L)  CYLINDERS  COMB (L/100 km)  MAKE_NEW  MODEL_NEW  \\\n",
       "0              2.4        4.0              8.1  0.009588   0.000499   \n",
       "1              3.5        6.0             11.1  0.009588   0.000268   \n",
       "2              3.5        6.0             10.7  0.009588   0.000077   \n",
       "3              3.5        6.0             10.7  0.009588   0.000307   \n",
       "4              3.5        6.0             10.0  0.009588   0.000115   \n",
       "\n",
       "   FUEL TYPE_E  FUEL TYPE_N  FUEL TYPE_X  FUEL TYPE_Z  VEHICLE CLASS_Compact  \\\n",
       "0          0.0          0.0          0.0          1.0                    0.0   \n",
       "1          0.0          0.0          0.0          1.0                    0.0   \n",
       "2          0.0          0.0          0.0          1.0                    0.0   \n",
       "3          0.0          0.0          0.0          1.0                    0.0   \n",
       "4          0.0          0.0          0.0          1.0                    0.0   \n",
       "\n",
       "   ...  TRANSMISSION_AV1  TRANSMISSION_AV10  TRANSMISSION_AV6  \\\n",
       "0  ...               0.0                0.0               0.0   \n",
       "1  ...               0.0                0.0               0.0   \n",
       "2  ...               0.0                0.0               0.0   \n",
       "3  ...               0.0                0.0               0.0   \n",
       "4  ...               0.0                0.0               0.0   \n",
       "\n",
       "   TRANSMISSION_AV7  TRANSMISSION_AV8  TRANSMISSION_M4  TRANSMISSION_M5  \\\n",
       "0               0.0               0.0              0.0              0.0   \n",
       "1               0.0               0.0              0.0              0.0   \n",
       "2               0.0               0.0              0.0              0.0   \n",
       "3               0.0               0.0              0.0              0.0   \n",
       "4               0.0               0.0              0.0              0.0   \n",
       "\n",
       "   TRANSMISSION_M6  TRANSMISSION_M7  CO2 Rating  \n",
       "0              0.0              0.0         7.0  \n",
       "1              0.0              0.0         5.0  \n",
       "2              0.0              0.0         5.0  \n",
       "3              0.0              0.0         5.0  \n",
       "4              0.0              0.0         5.0  \n",
       "\n",
       "[5 rows x 70 columns]"
      ]
     },
     "execution_count": 68,
     "metadata": {},
     "output_type": "execute_result"
    }
   ],
   "source": [
    "temp = dfclf[['CO2 Rating']]\n",
    "dfclf.drop('CO2 Rating', axis=1, inplace=True)\n",
    "dfclf = pd.concat([dfclf, temp], axis=1)\n",
    "dfclf.head()"
   ]
  },
  {
   "cell_type": "code",
   "execution_count": 69,
   "id": "75975883",
   "metadata": {},
   "outputs": [],
   "source": [
    "X = dfclf.iloc[:,:69].values\n",
    "y = dfclf.iloc[:,-1].values"
   ]
  },
  {
   "cell_type": "markdown",
   "id": "36ae16cf",
   "metadata": {},
   "source": [
    "### Splitting the dataset into Training and Test set"
   ]
  },
  {
   "cell_type": "code",
   "execution_count": 70,
   "id": "928ded3a",
   "metadata": {},
   "outputs": [],
   "source": [
    "from sklearn.model_selection import train_test_split\n",
    "X_train, X_test, y_train, y_test = train_test_split(X, y, test_size = 0.2, random_state = 0)"
   ]
  },
  {
   "cell_type": "markdown",
   "id": "8fa8c722",
   "metadata": {},
   "source": [
    "### Feature Scaling"
   ]
  },
  {
   "cell_type": "code",
   "execution_count": 71,
   "id": "6e94811d",
   "metadata": {},
   "outputs": [],
   "source": [
    "from sklearn.preprocessing import StandardScaler\n",
    "sc = StandardScaler()\n",
    "X_train = sc.fit_transform(X_train)\n",
    "X_test = sc.transform(X_test)"
   ]
  },
  {
   "cell_type": "code",
   "execution_count": 72,
   "id": "3ed12723",
   "metadata": {},
   "outputs": [
    {
     "name": "stdout",
     "output_type": "stream",
     "text": [
      "(5736, 69)\n",
      "(5736,)\n",
      "(1434, 69)\n",
      "(1434,)\n"
     ]
    }
   ],
   "source": [
    "print(X_train.shape)\n",
    "print(y_train.shape)\n",
    "print(X_test.shape)\n",
    "print(y_test.shape)"
   ]
  },
  {
   "cell_type": "markdown",
   "id": "db399b70",
   "metadata": {},
   "source": [
    "## Applying Classification Models"
   ]
  },
  {
   "cell_type": "markdown",
   "id": "ea6ac489",
   "metadata": {},
   "source": [
    "### Case1: SVM Classification"
   ]
  },
  {
   "cell_type": "code",
   "execution_count": 73,
   "id": "d7178c3f",
   "metadata": {},
   "outputs": [
    {
     "data": {
      "text/plain": [
       "SVC(kernel='linear', random_state=0)"
      ]
     },
     "execution_count": 73,
     "metadata": {},
     "output_type": "execute_result"
    }
   ],
   "source": [
    "from sklearn.svm import SVC\n",
    "classifier_svm_linear = SVC(kernel = 'linear', random_state = 0)\n",
    "classifier_svm_linear.fit(X_train, y_train)"
   ]
  },
  {
   "cell_type": "code",
   "execution_count": 74,
   "id": "b1d10878",
   "metadata": {},
   "outputs": [
    {
     "data": {
      "text/plain": [
       "SVC(random_state=0)"
      ]
     },
     "execution_count": 74,
     "metadata": {},
     "output_type": "execute_result"
    }
   ],
   "source": [
    "from sklearn.svm import SVC\n",
    "classifier_svm_rbf = SVC(kernel = 'rbf', random_state = 0)\n",
    "classifier_svm_rbf.fit(X_train, y_train)"
   ]
  },
  {
   "cell_type": "code",
   "execution_count": 75,
   "id": "1d10fda0",
   "metadata": {},
   "outputs": [
    {
     "name": "stdout",
     "output_type": "stream",
     "text": [
      "Accuracy: 79.24 %\n",
      "Standard Deviation: 1.72 %\n"
     ]
    }
   ],
   "source": [
    "from sklearn.model_selection import cross_val_score\n",
    "accuracies = cross_val_score(estimator = classifier_svm_linear, X = X_train, y = y_train, cv = 10)\n",
    "print(\"Accuracy: {:.2f} %\".format(accuracies.mean()*100))\n",
    "print(\"Standard Deviation: {:.2f} %\".format(accuracies.std()*100))"
   ]
  },
  {
   "cell_type": "markdown",
   "id": "5c33cb98",
   "metadata": {},
   "source": [
    "#### Grid Search CV - To find the optimum hyperparameters"
   ]
  },
  {
   "cell_type": "code",
   "execution_count": 76,
   "id": "e663cca1",
   "metadata": {},
   "outputs": [
    {
     "name": "stdout",
     "output_type": "stream",
     "text": [
      "Best Accuracy: 79.24 %\n",
      "Best Parameters: {'C': 1, 'kernel': 'linear'}\n"
     ]
    }
   ],
   "source": [
    "from sklearn.model_selection import GridSearchCV\n",
    "parameters = [{'C': [0.25, 0.5, 0.75, 1], 'kernel': ['linear']},\n",
    "              {'C': [0.25, 0.5, 0.75, 1], 'kernel': ['rbf'], 'gamma': [0.1, 0.2, 0.3, 0.4, 0.5, 0.6, 0.7, 0.8, 0.9]}]\n",
    "grid_search = GridSearchCV(estimator = classifier_svm_rbf,\n",
    "                           param_grid = parameters,\n",
    "                           scoring = 'accuracy',\n",
    "                           cv = 10,\n",
    "                           n_jobs = -1)\n",
    "grid_search.fit(X_train, y_train)\n",
    "best_accuracy = grid_search.best_score_\n",
    "best_parameters = grid_search.best_params_\n",
    "print(\"Best Accuracy: {:.2f} %\".format(best_accuracy*100))\n",
    "print(\"Best Parameters:\", best_parameters)"
   ]
  },
  {
   "cell_type": "markdown",
   "id": "0aca8647",
   "metadata": {},
   "source": [
    "#### Linear SVM"
   ]
  },
  {
   "cell_type": "code",
   "execution_count": 77,
   "id": "62bbe81b",
   "metadata": {
    "scrolled": true
   },
   "outputs": [
    {
     "name": "stdout",
     "output_type": "stream",
     "text": [
      "Accuracy: 79.24 %\n",
      "\n",
      " clasification report:\n",
      " \n",
      "               precision    recall  f1-score   support\n",
      "\n",
      "         1.0       0.66      0.96      0.78        24\n",
      "         2.0       0.68      0.53      0.60        68\n",
      "         3.0       0.74      0.73      0.74       252\n",
      "         4.0       0.79      0.79      0.79       331\n",
      "         5.0       0.88      0.90      0.89       378\n",
      "         6.0       0.85      0.84      0.84       194\n",
      "         7.0       0.78      0.84      0.81       126\n",
      "         8.0       0.64      0.54      0.58        26\n",
      "         9.0       0.57      0.60      0.59        20\n",
      "        10.0       0.58      0.47      0.52        15\n",
      "\n",
      "    accuracy                           0.80      1434\n",
      "   macro avg       0.72      0.72      0.71      1434\n",
      "weighted avg       0.80      0.80      0.80      1434\n",
      "\n",
      "\n",
      " confussion matrix:\n",
      " [[ 23   1   0   0   0   0   0   0   0   0]\n",
      " [  6  36  26   0   0   0   0   0   0   0]\n",
      " [  6  15 184  47   0   0   0   0   0   0]\n",
      " [  0   1  36 260  34   0   0   0   0   0]\n",
      " [  0   0   2  21 340  15   0   0   0   0]\n",
      " [  0   0   0   2  10 162  20   0   0   0]\n",
      " [  0   0   0   0   1  14 106   5   0   0]\n",
      " [  0   0   0   0   1   0  10  14   1   0]\n",
      " [  0   0   0   0   0   0   0   3  12   5]\n",
      " [  0   0   0   0   0   0   0   0   8   7]]\n"
     ]
    }
   ],
   "source": [
    "prediction = classifier_svm_linear.predict(X_test)\n",
    "\n",
    "from sklearn.metrics import precision_score, \\\n",
    "    recall_score, confusion_matrix, classification_report, \\\n",
    "    accuracy_score, f1_score\n",
    "\n",
    "print('Accuracy: {:.2f} %'.format(accuracies.mean()*100))\n",
    "print('\\n clasification report:\\n \\n', classification_report(y_test,prediction))\n",
    "print('\\n confussion matrix:\\n',confusion_matrix(y_test, prediction))"
   ]
  },
  {
   "cell_type": "markdown",
   "id": "f96b2e4e",
   "metadata": {},
   "source": [
    "#### Kernel Rbf SVM"
   ]
  },
  {
   "cell_type": "code",
   "execution_count": 78,
   "id": "c5de9715",
   "metadata": {},
   "outputs": [
    {
     "name": "stdout",
     "output_type": "stream",
     "text": [
      "Accuracy: 63.01 %\n",
      "Standard Deviation: 2.29 %\n"
     ]
    }
   ],
   "source": [
    "from sklearn.model_selection import cross_val_score\n",
    "accuracies = cross_val_score(estimator = classifier_svm_rbf, X = X_train, y = y_train, cv = 10)\n",
    "print(\"Accuracy: {:.2f} %\".format(accuracies.mean()*100))\n",
    "print(\"Standard Deviation: {:.2f} %\".format(accuracies.std()*100))"
   ]
  },
  {
   "cell_type": "code",
   "execution_count": 79,
   "id": "edc2d369",
   "metadata": {
    "scrolled": true
   },
   "outputs": [
    {
     "name": "stdout",
     "output_type": "stream",
     "text": [
      "Accuracy: 63.01 %\n",
      "\n",
      " clasification report:\n",
      " \n",
      "               precision    recall  f1-score   support\n",
      "\n",
      "         1.0       0.81      0.71      0.76        24\n",
      "         2.0       0.55      0.31      0.40        68\n",
      "         3.0       0.71      0.71      0.71       252\n",
      "         4.0       0.68      0.72      0.70       331\n",
      "         5.0       0.72      0.78      0.75       378\n",
      "         6.0       0.60      0.62      0.61       194\n",
      "         7.0       0.55      0.67      0.60       126\n",
      "         8.0       1.00      0.04      0.07        26\n",
      "         9.0       0.33      0.05      0.09        20\n",
      "        10.0       0.25      0.07      0.11        15\n",
      "\n",
      "    accuracy                           0.67      1434\n",
      "   macro avg       0.62      0.47      0.48      1434\n",
      "weighted avg       0.66      0.67      0.65      1434\n",
      "\n",
      "\n",
      " confussion matrix:\n",
      " [[ 17   7   0   0   0   0   0   0   0   0]\n",
      " [  4  21  41   0   2   0   0   0   0   0]\n",
      " [  0  10 179  63   0   0   0   0   0   0]\n",
      " [  0   0  30 238  61   1   1   0   0   0]\n",
      " [  0   0   2  43 294  34   4   0   0   1]\n",
      " [  0   0   0   3  48 120  23   0   0   0]\n",
      " [  0   0   0   2   4  36  84   0   0   0]\n",
      " [  0   0   0   1   1   4  19   1   0   0]\n",
      " [  0   0   0   1   0   2  14   0   1   2]\n",
      " [  0   0   0   1   0   3   8   0   2   1]]\n"
     ]
    }
   ],
   "source": [
    "prediction = classifier_svm_rbf.predict(X_test)\n",
    "\n",
    "from sklearn.metrics import precision_score, \\\n",
    "    recall_score, confusion_matrix, classification_report, \\\n",
    "    accuracy_score, f1_score\n",
    "\n",
    "print('Accuracy: {:.2f} %'.format(accuracies.mean()*100))\n",
    "print('\\n clasification report:\\n \\n', classification_report(y_test,prediction))\n",
    "print('\\n confussion matrix:\\n',confusion_matrix(y_test, prediction))"
   ]
  },
  {
   "cell_type": "markdown",
   "id": "8e5f9221",
   "metadata": {},
   "source": [
    "### Case2: Random Forest Classification"
   ]
  },
  {
   "cell_type": "code",
   "execution_count": 80,
   "id": "f1548eaf",
   "metadata": {},
   "outputs": [
    {
     "data": {
      "text/plain": [
       "RandomForestClassifier(criterion='entropy', n_estimators=10, random_state=0)"
      ]
     },
     "execution_count": 80,
     "metadata": {},
     "output_type": "execute_result"
    }
   ],
   "source": [
    "from sklearn.ensemble import RandomForestClassifier\n",
    "classifier_rfr = RandomForestClassifier(n_estimators = 10, criterion = 'entropy', random_state = 0)\n",
    "classifier_rfr.fit(X_train, y_train)"
   ]
  },
  {
   "cell_type": "code",
   "execution_count": 81,
   "id": "31279032",
   "metadata": {},
   "outputs": [
    {
     "name": "stdout",
     "output_type": "stream",
     "text": [
      "Accuracy: 81.90 %\n",
      "Standard Deviation: 1.84 %\n"
     ]
    }
   ],
   "source": [
    "from sklearn.model_selection import cross_val_score\n",
    "accuracies = cross_val_score(estimator = classifier_rfr, X = X_train, y = y_train, cv = 10)\n",
    "print(\"Accuracy: {:.2f} %\".format(accuracies.mean()*100))\n",
    "print(\"Standard Deviation: {:.2f} %\".format(accuracies.std()*100))"
   ]
  },
  {
   "cell_type": "code",
   "execution_count": 82,
   "id": "3ee1c994",
   "metadata": {
    "scrolled": true
   },
   "outputs": [
    {
     "name": "stdout",
     "output_type": "stream",
     "text": [
      "Accuracy: 81.90 %\n",
      "\n",
      " clasification report:\n",
      " \n",
      "               precision    recall  f1-score   support\n",
      "\n",
      "         1.0       0.88      0.88      0.88        24\n",
      "         2.0       0.72      0.79      0.76        68\n",
      "         3.0       0.84      0.86      0.85       252\n",
      "         4.0       0.83      0.83      0.83       331\n",
      "         5.0       0.90      0.88      0.89       378\n",
      "         6.0       0.84      0.86      0.85       194\n",
      "         7.0       0.81      0.79      0.80       126\n",
      "         8.0       0.75      0.58      0.65        26\n",
      "         9.0       0.69      0.90      0.78        20\n",
      "        10.0       0.89      0.53      0.67        15\n",
      "\n",
      "    accuracy                           0.84      1434\n",
      "   macro avg       0.81      0.79      0.79      1434\n",
      "weighted avg       0.84      0.84      0.84      1434\n",
      "\n",
      "\n",
      " confussion matrix:\n",
      " [[ 21   3   0   0   0   0   0   0   0   0]\n",
      " [  3  54  11   0   0   0   0   0   0   0]\n",
      " [  0  16 216  20   0   0   0   0   0   0]\n",
      " [  0   2  31 275  23   0   0   0   0   0]\n",
      " [  0   0   0  37 333   8   0   0   0   0]\n",
      " [  0   0   0   0  14 166  14   0   0   0]\n",
      " [  0   0   0   0   0  23  99   4   0   0]\n",
      " [  0   0   0   0   1   0   9  15   1   0]\n",
      " [  0   0   0   0   0   0   0   1  18   1]\n",
      " [  0   0   0   0   0   0   0   0   7   8]]\n"
     ]
    }
   ],
   "source": [
    "prediction = classifier_rfr.predict(X_test)\n",
    "\n",
    "from sklearn.metrics import precision_score, \\\n",
    "    recall_score, confusion_matrix, classification_report, \\\n",
    "    accuracy_score, f1_score\n",
    "\n",
    "print('Accuracy: {:.2f} %'.format(accuracies.mean()*100))\n",
    "print('\\n clasification report:\\n \\n', classification_report(y_test,prediction))\n",
    "print('\\n confussion matrix:\\n',confusion_matrix(y_test, prediction))"
   ]
  },
  {
   "cell_type": "code",
   "execution_count": 83,
   "id": "88e2e85f",
   "metadata": {},
   "outputs": [
    {
     "data": {
      "text/plain": [
       "0.9706307265577129"
      ]
     },
     "execution_count": 83,
     "metadata": {},
     "output_type": "execute_result"
    }
   ],
   "source": [
    "prediction_proba = classifier_rfr.predict_proba(X_test)\n",
    "from sklearn.metrics import roc_auc_score\n",
    "roc_auc_score(y_test, prediction_proba, multi_class='ovr')"
   ]
  },
  {
   "cell_type": "markdown",
   "id": "f8fc7fd7",
   "metadata": {},
   "source": [
    "### Case3: Naive Bayes"
   ]
  },
  {
   "cell_type": "markdown",
   "id": "9a21610c",
   "metadata": {},
   "source": [
    "### Gaussian Naive Bayes"
   ]
  },
  {
   "cell_type": "code",
   "execution_count": 84,
   "id": "03aad60b",
   "metadata": {},
   "outputs": [
    {
     "data": {
      "text/plain": [
       "GaussianNB()"
      ]
     },
     "execution_count": 84,
     "metadata": {},
     "output_type": "execute_result"
    }
   ],
   "source": [
    "from sklearn.naive_bayes import GaussianNB\n",
    "classifier_gaussian_bayes = GaussianNB()\n",
    "classifier_gaussian_bayes.fit(X_train, y_train)"
   ]
  },
  {
   "cell_type": "code",
   "execution_count": 85,
   "id": "ce191833",
   "metadata": {},
   "outputs": [
    {
     "name": "stdout",
     "output_type": "stream",
     "text": [
      "Accuracy: 6.52 %\n",
      "Standard Deviation: 0.57 %\n"
     ]
    }
   ],
   "source": [
    "from sklearn.model_selection import cross_val_score\n",
    "accuracies = cross_val_score(estimator = classifier_gaussian_bayes, X = X_train, y = y_train, cv = 10)\n",
    "print('Accuracy: {:.2f} %'.format(accuracies.mean()*100))\n",
    "print(\"Standard Deviation: {:.2f} %\".format(accuracies.std()*100))"
   ]
  },
  {
   "cell_type": "code",
   "execution_count": 86,
   "id": "5ebb9eea",
   "metadata": {
    "scrolled": true
   },
   "outputs": [
    {
     "name": "stdout",
     "output_type": "stream",
     "text": [
      "Accuracy: 6.52 %\n",
      "\n",
      " clasification report:\n",
      " \n",
      "               precision    recall  f1-score   support\n",
      "\n",
      "         1.0       0.04      0.96      0.08        24\n",
      "         2.0       0.10      0.18      0.12        68\n",
      "         3.0       0.50      0.01      0.02       252\n",
      "         4.0       0.12      0.00      0.01       331\n",
      "         5.0       1.00      0.02      0.04       378\n",
      "         6.0       0.19      0.02      0.04       194\n",
      "         7.0       0.20      0.01      0.02       126\n",
      "         8.0       0.03      0.19      0.06        26\n",
      "         9.0       0.02      0.35      0.04        20\n",
      "        10.0       0.05      0.67      0.10        15\n",
      "\n",
      "    accuracy                           0.05      1434\n",
      "   macro avg       0.23      0.24      0.05      1434\n",
      "weighted avg       0.43      0.05      0.03      1434\n",
      "\n",
      "\n",
      " confussion matrix:\n",
      " [[ 23   1   0   0   0   0   0   0   0   0]\n",
      " [ 56  12   0   0   0   0   0   0   0   0]\n",
      " [187  38   2   2   0   0   2   3  18   0]\n",
      " [172  53   0   1   0   0   0  17  88   0]\n",
      " [ 84  18   0   5   7  14   2  40 166  42]\n",
      " [ 19   2   1   0   0   4   0  41  50  77]\n",
      " [  9   0   0   0   0   3   1  47  30  36]\n",
      " [  1   0   1   0   0   0   0   5   8  11]\n",
      " [  1   0   0   0   0   0   0   1   7  11]\n",
      " [  3   1   0   0   0   0   0   0   1  10]]\n"
     ]
    }
   ],
   "source": [
    "prediction = classifier_gaussian_bayes.predict(X_test)\n",
    "\n",
    "from sklearn.metrics import precision_score, \\\n",
    "    recall_score, confusion_matrix, classification_report, \\\n",
    "    accuracy_score, f1_score\n",
    "\n",
    "print('Accuracy: {:.2f} %'.format(accuracies.mean()*100))\n",
    "print('\\n clasification report:\\n \\n', classification_report(y_test,prediction))\n",
    "print('\\n confussion matrix:\\n',confusion_matrix(y_test, prediction))"
   ]
  },
  {
   "cell_type": "code",
   "execution_count": 88,
   "id": "15ae081a",
   "metadata": {},
   "outputs": [
    {
     "data": {
      "text/plain": [
       "0.6947619946931946"
      ]
     },
     "execution_count": 88,
     "metadata": {},
     "output_type": "execute_result"
    }
   ],
   "source": [
    "prediction_proba = classifier_gaussian_bayes.predict_proba(X_test)\n",
    "from sklearn.metrics import roc_auc_score\n",
    "roc_auc_score(y_test, prediction_proba, multi_class='ovr')"
   ]
  },
  {
   "cell_type": "markdown",
   "id": "9859e715",
   "metadata": {},
   "source": [
    "### Multinomial Naive Bayes"
   ]
  },
  {
   "cell_type": "code",
   "execution_count": 90,
   "id": "6f66e163",
   "metadata": {},
   "outputs": [
    {
     "data": {
      "text/plain": [
       "Pipeline(steps=[('Normalizing', MinMaxScaler()),\n",
       "                ('MultinomialNB', MultinomialNB())])"
      ]
     },
     "execution_count": 90,
     "metadata": {},
     "output_type": "execute_result"
    }
   ],
   "source": [
    "from sklearn.pipeline import Pipeline\n",
    "from sklearn.preprocessing import MinMaxScaler\n",
    "from sklearn.naive_bayes import MultinomialNB\n",
    "classifier_multinomial_bayes = Pipeline([('Normalizing',MinMaxScaler()),('MultinomialNB',MultinomialNB())])\n",
    "classifier_multinomial_bayes.fit(X_train, y_train) "
   ]
  },
  {
   "cell_type": "code",
   "execution_count": 91,
   "id": "0dfa9f33",
   "metadata": {
    "scrolled": true
   },
   "outputs": [
    {
     "name": "stdout",
     "output_type": "stream",
     "text": [
      "Accuracy: 6.52 %\n",
      "\n",
      " clasification report:\n",
      " \n",
      "               precision    recall  f1-score   support\n",
      "\n",
      "         1.0       0.36      0.21      0.26        24\n",
      "         2.0       1.00      0.06      0.11        68\n",
      "         3.0       0.45      0.43      0.44       252\n",
      "         4.0       0.39      0.32      0.35       331\n",
      "         5.0       0.37      0.63      0.46       378\n",
      "         6.0       0.34      0.13      0.19       194\n",
      "         7.0       0.36      0.49      0.41       126\n",
      "         8.0       0.00      0.00      0.00        26\n",
      "         9.0       0.00      0.00      0.00        20\n",
      "        10.0       0.00      0.00      0.00        15\n",
      "\n",
      "    accuracy                           0.38      1434\n",
      "   macro avg       0.33      0.23      0.22      1434\n",
      "weighted avg       0.40      0.38      0.35      1434\n",
      "\n",
      "\n",
      " confussion matrix:\n",
      " [[  5   0   3   6  10   0   0   0   0   0]\n",
      " [  6   4  22  16  20   0   0   0   0   0]\n",
      " [  3   0 108  55  82   0   4   0   0   0]\n",
      " [  0   0  78 107 135   2   9   0   0   0]\n",
      " [  0   0  25  61 238  27  27   0   0   0]\n",
      " [  0   0   1  17 107  25  44   0   0   0]\n",
      " [  0   0   0  11  42  11  62   0   0   0]\n",
      " [  0   0   2   0   8   2  14   0   0   0]\n",
      " [  0   0   0   1   6   5   8   0   0   0]\n",
      " [  0   0   1   3   4   1   6   0   0   0]]\n"
     ]
    },
    {
     "name": "stderr",
     "output_type": "stream",
     "text": [
      "/Users/ad/anaconda3/lib/python3.9/site-packages/sklearn/metrics/_classification.py:1318: UndefinedMetricWarning: Precision and F-score are ill-defined and being set to 0.0 in labels with no predicted samples. Use `zero_division` parameter to control this behavior.\n",
      "  _warn_prf(average, modifier, msg_start, len(result))\n",
      "/Users/ad/anaconda3/lib/python3.9/site-packages/sklearn/metrics/_classification.py:1318: UndefinedMetricWarning: Precision and F-score are ill-defined and being set to 0.0 in labels with no predicted samples. Use `zero_division` parameter to control this behavior.\n",
      "  _warn_prf(average, modifier, msg_start, len(result))\n",
      "/Users/ad/anaconda3/lib/python3.9/site-packages/sklearn/metrics/_classification.py:1318: UndefinedMetricWarning: Precision and F-score are ill-defined and being set to 0.0 in labels with no predicted samples. Use `zero_division` parameter to control this behavior.\n",
      "  _warn_prf(average, modifier, msg_start, len(result))\n"
     ]
    }
   ],
   "source": [
    "prediction = classifier_multinomial_bayes.predict(X_test)\n",
    "\n",
    "from sklearn.metrics import precision_score, \\\n",
    "    recall_score, confusion_matrix, classification_report, \\\n",
    "    accuracy_score, f1_score\n",
    "\n",
    "print('Accuracy: {:.2f} %'.format(accuracies.mean()*100))\n",
    "print('\\n clasification report:\\n \\n', classification_report(y_test,prediction))\n",
    "print('\\n confussion matrix:\\n',confusion_matrix(y_test, prediction))"
   ]
  },
  {
   "cell_type": "code",
   "execution_count": 92,
   "id": "114b3413",
   "metadata": {},
   "outputs": [
    {
     "data": {
      "text/plain": [
       "0.8154903005959258"
      ]
     },
     "execution_count": 92,
     "metadata": {},
     "output_type": "execute_result"
    }
   ],
   "source": [
    "prediction_proba = classifier_multinomial_bayes.predict_proba(X_test)\n",
    "from sklearn.metrics import roc_auc_score\n",
    "roc_auc_score(y_test, prediction_proba, multi_class='ovr')"
   ]
  },
  {
   "cell_type": "markdown",
   "id": "745001e6",
   "metadata": {},
   "source": [
    "### Complement Naive Bayes"
   ]
  },
  {
   "cell_type": "code",
   "execution_count": 95,
   "id": "07bf04a5",
   "metadata": {},
   "outputs": [
    {
     "data": {
      "text/plain": [
       "Pipeline(steps=[('Normalizing', MinMaxScaler()),\n",
       "                ('ComplementNB', ComplementNB())])"
      ]
     },
     "execution_count": 95,
     "metadata": {},
     "output_type": "execute_result"
    }
   ],
   "source": [
    "from sklearn.naive_bayes import ComplementNB\n",
    "classifier_complement_bayes = Pipeline([('Normalizing',MinMaxScaler()),('ComplementNB',ComplementNB())])\n",
    "classifier_complement_bayes.fit(X_train, y_train) "
   ]
  },
  {
   "cell_type": "code",
   "execution_count": 96,
   "id": "51f130fe",
   "metadata": {
    "scrolled": true
   },
   "outputs": [
    {
     "name": "stdout",
     "output_type": "stream",
     "text": [
      "Accuracy: 6.52 %\n",
      "\n",
      " clasification report:\n",
      " \n",
      "               precision    recall  f1-score   support\n",
      "\n",
      "         1.0       0.00      0.00      0.00        24\n",
      "         2.0       0.25      0.03      0.05        68\n",
      "         3.0       0.38      0.46      0.42       252\n",
      "         4.0       0.42      0.30      0.35       331\n",
      "         5.0       0.38      0.45      0.41       378\n",
      "         6.0       0.31      0.20      0.24       194\n",
      "         7.0       0.27      0.58      0.37       126\n",
      "         8.0       0.00      0.00      0.00        26\n",
      "         9.0       0.00      0.00      0.00        20\n",
      "        10.0       0.00      0.00      0.00        15\n",
      "\n",
      "    accuracy                           0.35      1434\n",
      "   macro avg       0.20      0.20      0.18      1434\n",
      "weighted avg       0.34      0.35      0.33      1434\n",
      "\n",
      "\n",
      " confussion matrix:\n",
      " [[  0   1   8   6   9   0   0   0   0   0]\n",
      " [  8   2  28  11  17   0   2   0   0   0]\n",
      " [  9   4 116  37  65   3  18   0   0   0]\n",
      " [ 11   1  91  98  89   8  33   0   0   0]\n",
      " [  8   0  38  60 171  44  57   0   0   0]\n",
      " [  1   0  17  10  69  39  58   0   0   0]\n",
      " [  1   0   2  10  23  17  73   0   0   0]\n",
      " [  0   0   2   0   4   6  14   0   0   0]\n",
      " [  1   0   0   1   4   6   8   0   0   0]\n",
      " [  0   0   1   3   4   3   4   0   0   0]]\n"
     ]
    },
    {
     "name": "stderr",
     "output_type": "stream",
     "text": [
      "/Users/ad/anaconda3/lib/python3.9/site-packages/sklearn/metrics/_classification.py:1318: UndefinedMetricWarning: Precision and F-score are ill-defined and being set to 0.0 in labels with no predicted samples. Use `zero_division` parameter to control this behavior.\n",
      "  _warn_prf(average, modifier, msg_start, len(result))\n",
      "/Users/ad/anaconda3/lib/python3.9/site-packages/sklearn/metrics/_classification.py:1318: UndefinedMetricWarning: Precision and F-score are ill-defined and being set to 0.0 in labels with no predicted samples. Use `zero_division` parameter to control this behavior.\n",
      "  _warn_prf(average, modifier, msg_start, len(result))\n",
      "/Users/ad/anaconda3/lib/python3.9/site-packages/sklearn/metrics/_classification.py:1318: UndefinedMetricWarning: Precision and F-score are ill-defined and being set to 0.0 in labels with no predicted samples. Use `zero_division` parameter to control this behavior.\n",
      "  _warn_prf(average, modifier, msg_start, len(result))\n"
     ]
    }
   ],
   "source": [
    "prediction = classifier_complement_bayes.predict(X_test)\n",
    "\n",
    "from sklearn.metrics import precision_score, \\\n",
    "    recall_score, confusion_matrix, classification_report, \\\n",
    "    accuracy_score, f1_score\n",
    "\n",
    "print('Accuracy: {:.2f} %'.format(accuracies.mean()*100))\n",
    "print('\\n clasification report:\\n \\n', classification_report(y_test,prediction))\n",
    "print('\\n confussion matrix:\\n',confusion_matrix(y_test, prediction))"
   ]
  },
  {
   "cell_type": "code",
   "execution_count": 97,
   "id": "679b811e",
   "metadata": {},
   "outputs": [
    {
     "data": {
      "text/plain": [
       "0.7834135345638912"
      ]
     },
     "execution_count": 97,
     "metadata": {},
     "output_type": "execute_result"
    }
   ],
   "source": [
    "prediction_proba = classifier_complement_bayes.predict_proba(X_test)\n",
    "from sklearn.metrics import roc_auc_score\n",
    "roc_auc_score(y_test, prediction_proba, multi_class='ovr')"
   ]
  },
  {
   "cell_type": "markdown",
   "id": "d282a801",
   "metadata": {},
   "source": [
    "### Bernoulli Naive Bayes"
   ]
  },
  {
   "cell_type": "code",
   "execution_count": 99,
   "id": "c948cc69",
   "metadata": {},
   "outputs": [
    {
     "data": {
      "text/plain": [
       "BernoulliNB()"
      ]
     },
     "execution_count": 99,
     "metadata": {},
     "output_type": "execute_result"
    }
   ],
   "source": [
    "from sklearn.naive_bayes import BernoulliNB\n",
    "classifier_bernoulli_bayes = BernoulliNB()\n",
    "classifier_bernoulli_bayes.fit(X_train, y_train)"
   ]
  },
  {
   "cell_type": "code",
   "execution_count": 100,
   "id": "106eed5a",
   "metadata": {
    "scrolled": true
   },
   "outputs": [
    {
     "name": "stdout",
     "output_type": "stream",
     "text": [
      "Accuracy: 6.52 %\n",
      "\n",
      " clasification report:\n",
      " \n",
      "               precision    recall  f1-score   support\n",
      "\n",
      "         1.0       0.31      0.46      0.37        24\n",
      "         2.0       0.19      0.12      0.15        68\n",
      "         3.0       0.47      0.59      0.53       252\n",
      "         4.0       0.52      0.44      0.48       331\n",
      "         5.0       0.59      0.63      0.61       378\n",
      "         6.0       0.37      0.29      0.32       194\n",
      "         7.0       0.39      0.58      0.47       126\n",
      "         8.0       0.00      0.00      0.00        26\n",
      "         9.0       0.14      0.05      0.07        20\n",
      "        10.0       0.17      0.07      0.10        15\n",
      "\n",
      "    accuracy                           0.48      1434\n",
      "   macro avg       0.32      0.32      0.31      1434\n",
      "weighted avg       0.46      0.48      0.46      1434\n",
      "\n",
      "\n",
      " confussion matrix:\n",
      " [[ 11   1   8   4   0   0   0   0   0   0]\n",
      " [ 10   8  33  17   0   0   0   0   0   0]\n",
      " [ 12  21 149  69   1   0   0   0   0   0]\n",
      " [  3   9 117 146  48   4   3   1   0   0]\n",
      " [  0   3   7  41 237  53  33   3   0   1]\n",
      " [  0   0   0   5  81  56  51   0   1   0]\n",
      " [  0   0   0   0  25  25  73   1   1   1]\n",
      " [  0   0   0   0   4   5  15   0   1   1]\n",
      " [  0   0   0   0   3   5   7   2   1   2]\n",
      " [  0   0   0   0   1   5   3   2   3   1]]\n"
     ]
    }
   ],
   "source": [
    "prediction = classifier_bernoulli_bayes.predict(X_test)\n",
    "\n",
    "from sklearn.metrics import precision_score, \\\n",
    "    recall_score, confusion_matrix, classification_report, \\\n",
    "    accuracy_score, f1_score\n",
    "\n",
    "print('Accuracy: {:.2f} %'.format(accuracies.mean()*100))\n",
    "print('\\n clasification report:\\n \\n', classification_report(y_test,prediction))\n",
    "print('\\n confussion matrix:\\n',confusion_matrix(y_test, prediction))"
   ]
  },
  {
   "cell_type": "code",
   "execution_count": 101,
   "id": "181fadd7",
   "metadata": {},
   "outputs": [
    {
     "data": {
      "text/plain": [
       "0.8812778774770426"
      ]
     },
     "execution_count": 101,
     "metadata": {},
     "output_type": "execute_result"
    }
   ],
   "source": [
    "prediction_proba = classifier_bernoulli_bayes.predict_proba(X_test)\n",
    "from sklearn.metrics import roc_auc_score\n",
    "roc_auc_score(y_test, prediction_proba, multi_class='ovr')"
   ]
  },
  {
   "cell_type": "markdown",
   "id": "6eb5afc8",
   "metadata": {},
   "source": [
    "### Categorical Naive Bayes"
   ]
  },
  {
   "cell_type": "code",
   "execution_count": 103,
   "id": "98180feb",
   "metadata": {},
   "outputs": [
    {
     "data": {
      "text/plain": [
       "Pipeline(steps=[('Normalizing', MinMaxScaler()),\n",
       "                ('CategoricalNB', CategoricalNB())])"
      ]
     },
     "execution_count": 103,
     "metadata": {},
     "output_type": "execute_result"
    }
   ],
   "source": [
    "from sklearn.naive_bayes import CategoricalNB\n",
    "classifier_categorical_bayes = Pipeline([('Normalizing',MinMaxScaler()),('CategoricalNB',CategoricalNB())])\n",
    "classifier_categorical_bayes.fit(X_train, y_train) "
   ]
  },
  {
   "cell_type": "code",
   "execution_count": 104,
   "id": "0e1b116c",
   "metadata": {
    "scrolled": true
   },
   "outputs": [
    {
     "name": "stdout",
     "output_type": "stream",
     "text": [
      "Accuracy: 6.52 %\n",
      "\n",
      " clasification report:\n",
      " \n",
      "               precision    recall  f1-score   support\n",
      "\n",
      "         1.0       0.16      0.21      0.18        24\n",
      "         2.0       0.50      0.01      0.03        68\n",
      "         3.0       0.43      0.40      0.41       252\n",
      "         4.0       0.39      0.32      0.35       331\n",
      "         5.0       0.37      0.59      0.45       378\n",
      "         6.0       0.18      0.06      0.09       194\n",
      "         7.0       0.33      0.56      0.41       126\n",
      "         8.0       0.00      0.00      0.00        26\n",
      "         9.0       0.00      0.00      0.00        20\n",
      "        10.0       0.25      0.07      0.11        15\n",
      "\n",
      "    accuracy                           0.36      1434\n",
      "   macro avg       0.26      0.22      0.20      1434\n",
      "weighted avg       0.34      0.36      0.33      1434\n",
      "\n",
      "\n",
      " confussion matrix:\n",
      " [[  5   0   2   6  11   0   0   0   0   0]\n",
      " [  6   1  22  13  23   0   2   1   0   0]\n",
      " [  7   0 100  48  83   5   9   0   0   0]\n",
      " [  6   0  76 105 123   7  13   1   0   0]\n",
      " [  5   1  29  56 224  24  37   1   0   1]\n",
      " [  1   0   2  21 104  11  54   0   1   0]\n",
      " [  1   0   1  11  33  10  70   0   0   0]\n",
      " [  0   0   2   2   4   3  15   0   0   0]\n",
      " [  1   0   0   1   4   1  10   1   0   2]\n",
      " [  0   0   1   4   4   0   5   0   0   1]]\n"
     ]
    }
   ],
   "source": [
    "prediction = classifier_categorical_bayes.predict(X_test)\n",
    "\n",
    "from sklearn.metrics import precision_score, \\\n",
    "    recall_score, confusion_matrix, classification_report, \\\n",
    "    accuracy_score, f1_score\n",
    "\n",
    "print('Accuracy: {:.2f} %'.format(accuracies.mean()*100))\n",
    "print('\\n clasification report:\\n \\n', classification_report(y_test,prediction))\n",
    "print('\\n confussion matrix:\\n',confusion_matrix(y_test, prediction))"
   ]
  },
  {
   "cell_type": "code",
   "execution_count": 105,
   "id": "a4e9680a",
   "metadata": {},
   "outputs": [
    {
     "data": {
      "text/plain": [
       "0.7596647551392486"
      ]
     },
     "execution_count": 105,
     "metadata": {},
     "output_type": "execute_result"
    }
   ],
   "source": [
    "prediction_proba = classifier_categorical_bayes.predict_proba(X_test)\n",
    "from sklearn.metrics import roc_auc_score\n",
    "roc_auc_score(y_test, prediction_proba, multi_class='ovr')"
   ]
  },
  {
   "cell_type": "markdown",
   "id": "ff10b4ec",
   "metadata": {},
   "source": [
    "### Case4: KNN"
   ]
  },
  {
   "cell_type": "code",
   "execution_count": 106,
   "id": "13ba07cc",
   "metadata": {},
   "outputs": [],
   "source": [
    "train_score = []\n",
    "test_score = []\n",
    "k_vals = []\n",
    "\n",
    "from sklearn.neighbors import KNeighborsClassifier\n",
    "for k in range(1, 21):\n",
    "    k_vals.append(k)\n",
    "    knn = KNeighborsClassifier(n_neighbors = k)\n",
    "    knn.fit(X_train, y_train)\n",
    "    \n",
    "    tr_score = knn.score(X_train, y_train)\n",
    "    train_score.append(tr_score)\n",
    "    \n",
    "    te_score = knn.score(X_test, y_test)\n",
    "    test_score.append(te_score)"
   ]
  },
  {
   "cell_type": "code",
   "execution_count": 107,
   "id": "d4d7f3c5",
   "metadata": {},
   "outputs": [
    {
     "name": "stdout",
     "output_type": "stream",
     "text": [
      "Max test score 73.98884239888423 and k = [1]\n"
     ]
    }
   ],
   "source": [
    "max_test_score = max(test_score)\n",
    "test_scores_ind = [i for i, v in enumerate(test_score) if v == max_test_score]\n",
    "print('Max test score {} and k = {}'.format(max_test_score * 100, list(map(lambda x: x + 1, test_scores_ind))))"
   ]
  },
  {
   "cell_type": "code",
   "execution_count": 108,
   "id": "fe2d544b",
   "metadata": {},
   "outputs": [
    {
     "data": {
      "text/plain": [
       "KNeighborsClassifier(n_neighbors=1)"
      ]
     },
     "execution_count": 108,
     "metadata": {},
     "output_type": "execute_result"
    }
   ],
   "source": [
    "knn = KNeighborsClassifier(1)\n",
    "knn.fit(X_train, y_train)"
   ]
  },
  {
   "cell_type": "code",
   "execution_count": 109,
   "id": "3b75f694",
   "metadata": {},
   "outputs": [
    {
     "name": "stdout",
     "output_type": "stream",
     "text": [
      "Accuracy: 72.44 %\n",
      "Standard Deviation: 1.25 %\n"
     ]
    }
   ],
   "source": [
    "from sklearn.model_selection import cross_val_score\n",
    "accuracies = cross_val_score(estimator = knn, X = X_train, y = y_train, cv = 10)\n",
    "print(\"Accuracy: {:.2f} %\".format(accuracies.mean()*100))\n",
    "print(\"Standard Deviation: {:.2f} %\".format(accuracies.std()*100))"
   ]
  },
  {
   "cell_type": "code",
   "execution_count": 110,
   "id": "7c0b634a",
   "metadata": {
    "scrolled": true
   },
   "outputs": [
    {
     "name": "stdout",
     "output_type": "stream",
     "text": [
      "Accuracy: 72.44 %\n",
      "\n",
      " clasification report:\n",
      " \n",
      "               precision    recall  f1-score   support\n",
      "\n",
      "         1.0       0.88      0.88      0.88        24\n",
      "         2.0       0.58      0.59      0.58        68\n",
      "         3.0       0.75      0.74      0.75       252\n",
      "         4.0       0.74      0.75      0.74       331\n",
      "         5.0       0.80      0.80      0.80       378\n",
      "         6.0       0.71      0.76      0.73       194\n",
      "         7.0       0.74      0.69      0.72       126\n",
      "         8.0       0.40      0.46      0.43        26\n",
      "         9.0       0.62      0.65      0.63        20\n",
      "        10.0       0.83      0.33      0.48        15\n",
      "\n",
      "    accuracy                           0.74      1434\n",
      "   macro avg       0.71      0.66      0.67      1434\n",
      "weighted avg       0.74      0.74      0.74      1434\n",
      "\n",
      "\n",
      " confussion matrix:\n",
      " [[ 21   3   0   0   0   0   0   0   0   0]\n",
      " [  3  40  21   3   1   0   0   0   0   0]\n",
      " [  0  22 187  39   4   0   0   0   0   0]\n",
      " [  0   4  38 247  40   2   0   0   0   0]\n",
      " [  0   0   1  42 302  26   7   0   0   0]\n",
      " [  0   0   1   1  27 147  16   1   1   0]\n",
      " [  0   0   0   1   2  22  87  14   0   0]\n",
      " [  0   0   0   1   0   5   6  12   2   0]\n",
      " [  0   0   0   0   0   2   1   3  13   1]\n",
      " [  0   0   0   0   3   2   0   0   5   5]]\n"
     ]
    }
   ],
   "source": [
    "prediction = knn.predict(X_test)\n",
    "\n",
    "from sklearn.metrics import precision_score, \\\n",
    "    recall_score, confusion_matrix, classification_report, \\\n",
    "    accuracy_score, f1_score\n",
    "\n",
    "print('Accuracy: {:.2f} %'.format(accuracies.mean()*100))\n",
    "print('\\n clasification report:\\n \\n', classification_report(y_test,prediction))\n",
    "print('\\n confussion matrix:\\n',confusion_matrix(y_test, prediction))"
   ]
  },
  {
   "cell_type": "code",
   "execution_count": 111,
   "id": "f68ee2ce",
   "metadata": {},
   "outputs": [
    {
     "data": {
      "text/plain": [
       "0.8163561857634807"
      ]
     },
     "execution_count": 111,
     "metadata": {},
     "output_type": "execute_result"
    }
   ],
   "source": [
    "prediction_proba = knn.predict_proba(X_test)\n",
    "from sklearn.metrics import roc_auc_score\n",
    "roc_auc_score(y_test, prediction_proba, multi_class='ovr')"
   ]
  },
  {
   "cell_type": "markdown",
   "id": "0f551727",
   "metadata": {},
   "source": [
    "### Case5: Decision Tree Classification"
   ]
  },
  {
   "cell_type": "code",
   "execution_count": 112,
   "id": "38faf42e",
   "metadata": {},
   "outputs": [
    {
     "data": {
      "text/plain": [
       "DecisionTreeClassifier(criterion='entropy', random_state=0)"
      ]
     },
     "execution_count": 112,
     "metadata": {},
     "output_type": "execute_result"
    }
   ],
   "source": [
    "from sklearn.tree import DecisionTreeClassifier\n",
    "classifier_dtr = DecisionTreeClassifier(criterion = 'entropy', random_state = 0)\n",
    "classifier_dtr.fit(X_train, y_train)"
   ]
  },
  {
   "cell_type": "code",
   "execution_count": 113,
   "id": "af9ce47c",
   "metadata": {},
   "outputs": [
    {
     "name": "stdout",
     "output_type": "stream",
     "text": [
      "Accuracy: 84.15 %\n",
      "Standard Deviation: 1.81 %\n"
     ]
    }
   ],
   "source": [
    "from sklearn.model_selection import cross_val_score\n",
    "accuracies = cross_val_score(estimator = classifier_dtr, X = X_train, y = y_train, cv = 10)\n",
    "print(\"Accuracy: {:.2f} %\".format(accuracies.mean()*100))\n",
    "print(\"Standard Deviation: {:.2f} %\".format(accuracies.std()*100))"
   ]
  },
  {
   "cell_type": "code",
   "execution_count": 114,
   "id": "296cb270",
   "metadata": {
    "scrolled": true
   },
   "outputs": [
    {
     "name": "stdout",
     "output_type": "stream",
     "text": [
      "Accuracy: 84.15 %\n",
      "\n",
      " clasification report:\n",
      " \n",
      "               precision    recall  f1-score   support\n",
      "\n",
      "         1.0       0.88      0.96      0.92        24\n",
      "         2.0       0.75      0.82      0.78        68\n",
      "         3.0       0.85      0.86      0.86       252\n",
      "         4.0       0.82      0.82      0.82       331\n",
      "         5.0       0.89      0.88      0.89       378\n",
      "         6.0       0.88      0.90      0.89       194\n",
      "         7.0       0.89      0.83      0.86       126\n",
      "         8.0       0.68      0.81      0.74        26\n",
      "         9.0       0.68      0.75      0.71        20\n",
      "        10.0       0.80      0.53      0.64        15\n",
      "\n",
      "    accuracy                           0.85      1434\n",
      "   macro avg       0.81      0.82      0.81      1434\n",
      "weighted avg       0.85      0.85      0.85      1434\n",
      "\n",
      "\n",
      " confussion matrix:\n",
      " [[ 23   1   0   0   0   0   0   0   0   0]\n",
      " [  3  56   9   0   0   0   0   0   0   0]\n",
      " [  0  14 216  22   0   0   0   0   0   0]\n",
      " [  0   4  26 272  29   0   0   0   0   0]\n",
      " [  0   0   1  36 331   9   0   1   0   0]\n",
      " [  0   0   1   0   9 175   9   0   0   0]\n",
      " [  0   0   0   1   0  15 104   6   0   0]\n",
      " [  0   0   0   0   1   0   4  21   0   0]\n",
      " [  0   0   0   0   0   0   0   3  15   2]\n",
      " [  0   0   0   0   0   0   0   0   7   8]]\n"
     ]
    }
   ],
   "source": [
    "prediction = classifier_dtr.predict(X_test)\n",
    "\n",
    "from sklearn.metrics import precision_score, \\\n",
    "    recall_score, confusion_matrix, classification_report, \\\n",
    "    accuracy_score, f1_score\n",
    "\n",
    "print('Accuracy: {:.2f} %'.format(accuracies.mean()*100))\n",
    "print('\\n clasification report:\\n \\n', classification_report(y_test,prediction))\n",
    "\n",
    "print('\\n confussion matrix:\\n',confusion_matrix(y_test, prediction))"
   ]
  },
  {
   "cell_type": "code",
   "execution_count": 115,
   "id": "cacc9c03",
   "metadata": {},
   "outputs": [
    {
     "data": {
      "text/plain": [
       "0.9172970517822726"
      ]
     },
     "execution_count": 115,
     "metadata": {},
     "output_type": "execute_result"
    }
   ],
   "source": [
    "prediction_proba = classifier_dtr.predict_proba(X_test)\n",
    "from sklearn.metrics import roc_auc_score\n",
    "roc_auc_score(y_test, prediction_proba, multi_class='ovr')"
   ]
  },
  {
   "cell_type": "markdown",
   "id": "9d307748",
   "metadata": {},
   "source": [
    "### Case6: XG Boost Classifier"
   ]
  },
  {
   "cell_type": "code",
   "execution_count": 116,
   "id": "2496e607",
   "metadata": {},
   "outputs": [
    {
     "data": {
      "text/plain": [
       "XGBClassifier(objective='multi:softprob')"
      ]
     },
     "execution_count": 116,
     "metadata": {},
     "output_type": "execute_result"
    }
   ],
   "source": [
    "from xgboost import XGBClassifier\n",
    "classifier_xgb = XGBClassifier()\n",
    "classifier_xgb.fit(X_train, y_train)"
   ]
  },
  {
   "cell_type": "code",
   "execution_count": 117,
   "id": "72aa9bcd",
   "metadata": {},
   "outputs": [
    {
     "name": "stdout",
     "output_type": "stream",
     "text": [
      "Accuracy: 84.85 %\n",
      "Standard Deviation: 1.37 %\n"
     ]
    }
   ],
   "source": [
    "from sklearn.model_selection import cross_val_score\n",
    "accuracies = cross_val_score(estimator = classifier_xgb, X = X_train, y = y_train, cv = 10)\n",
    "print(\"Accuracy: {:.2f} %\".format(accuracies.mean()*100))\n",
    "print(\"Standard Deviation: {:.2f} %\".format(accuracies.std()*100))"
   ]
  },
  {
   "cell_type": "code",
   "execution_count": 118,
   "id": "ff22166c",
   "metadata": {
    "scrolled": true
   },
   "outputs": [
    {
     "name": "stdout",
     "output_type": "stream",
     "text": [
      "Accuracy: 84.85 %\n",
      "\n",
      " clasification report:\n",
      " \n",
      "               precision    recall  f1-score   support\n",
      "\n",
      "         1.0       0.79      0.96      0.87        24\n",
      "         2.0       0.69      0.85      0.76        68\n",
      "         3.0       0.87      0.88      0.88       252\n",
      "         4.0       0.84      0.85      0.85       331\n",
      "         5.0       0.89      0.87      0.88       378\n",
      "         6.0       0.88      0.82      0.85       194\n",
      "         7.0       0.82      0.81      0.82       126\n",
      "         8.0       0.71      0.65      0.68        26\n",
      "         9.0       0.76      0.65      0.70        20\n",
      "        10.0       0.67      0.80      0.73        15\n",
      "\n",
      "    accuracy                           0.85      1434\n",
      "   macro avg       0.79      0.81      0.80      1434\n",
      "weighted avg       0.85      0.85      0.85      1434\n",
      "\n",
      "\n",
      " confussion matrix:\n",
      " [[ 23   1   0   0   0   0   0   0   0   0]\n",
      " [  6  58   4   0   0   0   0   0   0   0]\n",
      " [  0  20 221  11   0   0   0   0   0   0]\n",
      " [  0   5  24 282  20   0   0   0   0   0]\n",
      " [  0   0   3  41 328   6   0   0   0   0]\n",
      " [  0   0   1   1  18 160  14   0   0   0]\n",
      " [  0   0   0   0   1  16 102   6   1   0]\n",
      " [  0   0   0   0   1   0   8  17   0   0]\n",
      " [  0   0   0   0   0   0   0   1  13   6]\n",
      " [  0   0   0   0   0   0   0   0   3  12]]\n"
     ]
    }
   ],
   "source": [
    "prediction = classifier_xgb.predict(X_test)\n",
    "\n",
    "from sklearn.metrics import precision_score, \\\n",
    "    recall_score, confusion_matrix, classification_report, \\\n",
    "    accuracy_score, f1_score\n",
    "\n",
    "print('Accuracy: {:.2f} %'.format(accuracies.mean()*100))\n",
    "print('\\n clasification report:\\n \\n', classification_report(y_test,prediction))\n",
    "\n",
    "print('\\n confussion matrix:\\n',confusion_matrix(y_test, prediction))"
   ]
  },
  {
   "cell_type": "code",
   "execution_count": 119,
   "id": "605ea40e",
   "metadata": {},
   "outputs": [
    {
     "data": {
      "text/plain": [
       "0.9837539506709682"
      ]
     },
     "execution_count": 119,
     "metadata": {},
     "output_type": "execute_result"
    }
   ],
   "source": [
    "prediction_proba = classifier_xgb.predict_proba(X_test)\n",
    "from sklearn.metrics import roc_auc_score\n",
    "roc_auc_score(y_test, prediction_proba, multi_class='ovr')"
   ]
  }
 ],
 "metadata": {
  "kernelspec": {
   "display_name": "Python 3",
   "language": "python",
   "name": "python3"
  },
  "language_info": {
   "codemirror_mode": {
    "name": "ipython",
    "version": 3
   },
   "file_extension": ".py",
   "mimetype": "text/x-python",
   "name": "python",
   "nbconvert_exporter": "python",
   "pygments_lexer": "ipython3",
   "version": "3.8.8"
  }
 },
 "nbformat": 4,
 "nbformat_minor": 5
}
